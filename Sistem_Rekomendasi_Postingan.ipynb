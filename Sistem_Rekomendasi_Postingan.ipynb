{
  "nbformat": 4,
  "nbformat_minor": 0,
  "metadata": {
    "colab": {
      "name": "Sistem Rekomendasi Postingan.ipynb",
      "provenance": [],
      "collapsed_sections": []
    },
    "kernelspec": {
      "name": "python3",
      "display_name": "Python 3"
    },
    "language_info": {
      "name": "python"
    }
  },
  "cells": [
    {
      "cell_type": "markdown",
      "metadata": {
        "id": "B80nc8jA_z3Z"
      },
      "source": [
        "# Sistem Rekomendasi Postingan dengan Pendekatan *Content-Based Filtering* dan *Collaborative Filtering*\n",
        "\n",
        "---\n",
        "\n",
        "Disusun untuk memenuhi proyek akhir dari kelas [*Machine Learning* Terapan](https://www.dicoding.com/academies/319) Dicoding.\n",
        "\n",
        "**Oleh: [Muhammad Alfayed Dennita](https://www.dicoding.com/users/alfayed)**\n"
      ]
    },
    {
      "cell_type": "markdown",
      "metadata": {
        "id": "GiD7x7cOprHF"
      },
      "source": [
        "## Pendahuluan"
      ]
    },
    {
      "cell_type": "markdown",
      "metadata": {
        "id": "GFTg3J6D5gII"
      },
      "source": [
        "Suatu situs web yang baru saja rilis beberapa bulan menerima laporan bahwa jumlah tayangan postingan di situs web mereka mengalami penurunan yang cukup drastis. Pengguna mereka banyak beralih ke situs web kompetitor yang baru saja rilis beberapa hari. Hal ini tentu menimbulkan pertanyaan, mengapa sebagian pengguna bisa beralih ke situs web yang masih baru tersebut? Apakah situs web tersebut memiliki tampilan yang lebih menarik atau kualitas postingan yang lebih baik?\n",
        "\n",
        "Setelah dilakukan pemeriksaan, ternyata penyebab utama dari penurunan jumlah tayangan postingan adalah kurangnya rasa nyaman dan buruknya pengalaman pengguna dalam menjelajahi situs web. Jika dilihat dari interaksi pengguna dengan situs web, pengguna lebih banyak mencari postingan yang ingin dilihatnya melalui kotak pencarian dibandingkan membuka postingan melalui beranda mereka. Hal tersebut menandakan bahwa menampilkan postingan acak di beranda bukanlah ide yang baik, tentunya pengguna menginginkan postingan yang sesuai dengan preferensi dan minatnya.\n",
        "\n",
        "Oleh karena itu, pengembang situs web tersebut harus membuat sebuah fitur atau sistem baru untuk situs web mereka yang dapat memberikan daftar rekomendasi postingan yang diminati oleh penggunanya untuk ditampilkan di beranda berdasarkan histori tayangannya. Selain itu, pengembang juga dapat memberikan daftar rekomendasi postingan yang diletakkan di bawah konten postingan agar ketika pengguna telah selesai melihat suatu postingan, pengguna tersebut dapat melihat postingan lainnya yang masih relevan dengan postingan yang telah dilihatnya.\n",
        "\n",
        "Untuk itu, pengembang akan membuat sistem rekomendasi postingan dengan metode pendekatan berbasis konten (*content-based filtering*) untuk menampilkan daftar rekomendasi postingan di bawah suatu postingan dan metode pendekatan kolaboratif (*collaborative filtering*) untuk menampilkan daftar rekomendasi postingan di beranda berdasarkan postingan yang sering dilihat pengguna."
      ]
    },
    {
      "cell_type": "markdown",
      "metadata": {
        "id": "qr8AzCqcA034"
      },
      "source": [
        "## 1. Persiapan Lingkungan"
      ]
    },
    {
      "cell_type": "markdown",
      "metadata": {
        "id": "PbcgoEXFsc9c"
      },
      "source": [
        "### 1.1 Persiapan Pustaka dan Modul"
      ]
    },
    {
      "cell_type": "markdown",
      "metadata": {
        "id": "6m8itMVbsi6B"
      },
      "source": [
        "1.1.1 Mengimpor pustaka [NLTK](https://www.nltk.org) dan mengunduh beberapa paket tambahannya, yaitu `stopwords` dan `wordnet`. Pustaka dan paket tersebut akan digunakan dalam proses persiapan data."
      ]
    },
    {
      "cell_type": "code",
      "metadata": {
        "colab": {
          "base_uri": "https://localhost:8080/"
        },
        "id": "FyyN6-gitoxb",
        "outputId": "8ab4bd56-9572-47e2-ed79-e5df2e5de9b8"
      },
      "source": [
        "import nltk\n",
        "nltk.download(['stopwords', 'wordnet'])"
      ],
      "execution_count": null,
      "outputs": [
        {
          "output_type": "stream",
          "name": "stdout",
          "text": [
            "[nltk_data] Downloading package stopwords to /root/nltk_data...\n",
            "[nltk_data]   Unzipping corpora/stopwords.zip.\n",
            "[nltk_data] Downloading package wordnet to /root/nltk_data...\n",
            "[nltk_data]   Unzipping corpora/wordnet.zip.\n"
          ]
        },
        {
          "output_type": "execute_result",
          "data": {
            "text/plain": [
              "True"
            ]
          },
          "metadata": {},
          "execution_count": 1
        }
      ]
    },
    {
      "cell_type": "markdown",
      "metadata": {
        "id": "ZqE888ATA25v"
      },
      "source": [
        "1.1.2 Mengimpor semua pustaka dan modul yang dibutuhkan dalam semua rangkaian proses pembuatan model."
      ]
    },
    {
      "cell_type": "code",
      "metadata": {
        "id": "OKfJFeUwA6U2"
      },
      "source": [
        "# Pustaka Standar\n",
        "from datetime import datetime\n",
        "\n",
        "# Pustaka untuk Mengunggah Berkas\n",
        "from google.colab import files\n",
        "\n",
        "# Pustaka untuk Pengolahan Data\n",
        "import numpy as np\n",
        "import pandas as pd\n",
        "\n",
        "# Pustaka untuk Visualisasi Data\n",
        "import matplotlib.pyplot as plt\n",
        "\n",
        "# Pustaka untuk Persiapan Data\n",
        "from nltk.corpus import stopwords\n",
        "from nltk.stem import WordNetLemmatizer\n",
        "from sklearn.feature_extraction.text import TfidfVectorizer\n",
        "\n",
        "# Pustaka untuk Pemodelan dan Evaluasi\n",
        "import tensorflow as tf\n",
        "from tensorflow import keras\n",
        "from sklearn.metrics.pairwise import cosine_similarity"
      ],
      "execution_count": null,
      "outputs": []
    },
    {
      "cell_type": "markdown",
      "metadata": {
        "id": "VtBbNyI5n4by"
      },
      "source": [
        "### 1.2 Pengunduhan Data"
      ]
    },
    {
      "cell_type": "markdown",
      "metadata": {
        "id": "w4CwffiLn9Gh"
      },
      "source": [
        "1.2.1 Memperbarui paket [Kaggle](https://www.kaggle.com) agar dapat berfungsi dengan baik tanpa menimbulkan beberapa masalah yang mungkin akan terjadi. Jika tidak diperbarui, akan ada kemungkinan beberapa data tidak bisa diunduh."
      ]
    },
    {
      "cell_type": "code",
      "metadata": {
        "colab": {
          "base_uri": "https://localhost:8080/"
        },
        "id": "PcfEXZJ2n-o7",
        "outputId": "623defab-7faf-42cc-8e43-a43dcbdb0e53"
      },
      "source": [
        "! pip install --upgrade --force-reinstall --no-deps kaggle"
      ],
      "execution_count": null,
      "outputs": [
        {
          "output_type": "stream",
          "name": "stdout",
          "text": [
            "Collecting kaggle\n",
            "  Downloading kaggle-1.5.12.tar.gz (58 kB)\n",
            "\u001b[?25l\r\u001b[K     |█████▋                          | 10 kB 25.7 MB/s eta 0:00:01\r\u001b[K     |███████████▏                    | 20 kB 13.5 MB/s eta 0:00:01\r\u001b[K     |████████████████▊               | 30 kB 10.5 MB/s eta 0:00:01\r\u001b[K     |██████████████████████▎         | 40 kB 9.1 MB/s eta 0:00:01\r\u001b[K     |███████████████████████████▉    | 51 kB 5.0 MB/s eta 0:00:01\r\u001b[K     |████████████████████████████████| 58 kB 2.8 MB/s \n",
            "\u001b[?25hBuilding wheels for collected packages: kaggle\n",
            "  Building wheel for kaggle (setup.py) ... \u001b[?25l\u001b[?25hdone\n",
            "  Created wheel for kaggle: filename=kaggle-1.5.12-py3-none-any.whl size=73051 sha256=4153a75092e171d9b353ed9f29a89eaba19a2b1ff2189939b3b5e8c1a1b64c9f\n",
            "  Stored in directory: /root/.cache/pip/wheels/62/d6/58/5853130f941e75b2177d281eb7e44b4a98ed46dd155f556dc5\n",
            "Successfully built kaggle\n",
            "Installing collected packages: kaggle\n",
            "  Attempting uninstall: kaggle\n",
            "    Found existing installation: kaggle 1.5.12\n",
            "    Uninstalling kaggle-1.5.12:\n",
            "      Successfully uninstalled kaggle-1.5.12\n",
            "Successfully installed kaggle-1.5.12\n"
          ]
        }
      ]
    },
    {
      "cell_type": "markdown",
      "metadata": {
        "id": "ntip-s6_oJQc"
      },
      "source": [
        "1.2.2 Mengunggah berkas `kaggle.json` ke direktori aktif saat ini untuk keperluan autentikasi agar bisa terhubung dengan Kaggle API. Berkas tersebut berisi beberapa data penting yang diperlukan dalam proses autentikasi pengguna Kaggle. Untuk mendapatkannya, berkas `kaggle.json` dapat diunduh melalui pengaturan akun Kaggle bagian API."
      ]
    },
    {
      "cell_type": "code",
      "metadata": {
        "colab": {
          "resources": {
            "http://localhost:8080/nbextensions/google.colab/files.js": {
              "data": "Ly8gQ29weXJpZ2h0IDIwMTcgR29vZ2xlIExMQwovLwovLyBMaWNlbnNlZCB1bmRlciB0aGUgQXBhY2hlIExpY2Vuc2UsIFZlcnNpb24gMi4wICh0aGUgIkxpY2Vuc2UiKTsKLy8geW91IG1heSBub3QgdXNlIHRoaXMgZmlsZSBleGNlcHQgaW4gY29tcGxpYW5jZSB3aXRoIHRoZSBMaWNlbnNlLgovLyBZb3UgbWF5IG9idGFpbiBhIGNvcHkgb2YgdGhlIExpY2Vuc2UgYXQKLy8KLy8gICAgICBodHRwOi8vd3d3LmFwYWNoZS5vcmcvbGljZW5zZXMvTElDRU5TRS0yLjAKLy8KLy8gVW5sZXNzIHJlcXVpcmVkIGJ5IGFwcGxpY2FibGUgbGF3IG9yIGFncmVlZCB0byBpbiB3cml0aW5nLCBzb2Z0d2FyZQovLyBkaXN0cmlidXRlZCB1bmRlciB0aGUgTGljZW5zZSBpcyBkaXN0cmlidXRlZCBvbiBhbiAiQVMgSVMiIEJBU0lTLAovLyBXSVRIT1VUIFdBUlJBTlRJRVMgT1IgQ09ORElUSU9OUyBPRiBBTlkgS0lORCwgZWl0aGVyIGV4cHJlc3Mgb3IgaW1wbGllZC4KLy8gU2VlIHRoZSBMaWNlbnNlIGZvciB0aGUgc3BlY2lmaWMgbGFuZ3VhZ2UgZ292ZXJuaW5nIHBlcm1pc3Npb25zIGFuZAovLyBsaW1pdGF0aW9ucyB1bmRlciB0aGUgTGljZW5zZS4KCi8qKgogKiBAZmlsZW92ZXJ2aWV3IEhlbHBlcnMgZm9yIGdvb2dsZS5jb2xhYiBQeXRob24gbW9kdWxlLgogKi8KKGZ1bmN0aW9uKHNjb3BlKSB7CmZ1bmN0aW9uIHNwYW4odGV4dCwgc3R5bGVBdHRyaWJ1dGVzID0ge30pIHsKICBjb25zdCBlbGVtZW50ID0gZG9jdW1lbnQuY3JlYXRlRWxlbWVudCgnc3BhbicpOwogIGVsZW1lbnQudGV4dENvbnRlbnQgPSB0ZXh0OwogIGZvciAoY29uc3Qga2V5IG9mIE9iamVjdC5rZXlzKHN0eWxlQXR0cmlidXRlcykpIHsKICAgIGVsZW1lbnQuc3R5bGVba2V5XSA9IHN0eWxlQXR0cmlidXRlc1trZXldOwogIH0KICByZXR1cm4gZWxlbWVudDsKfQoKLy8gTWF4IG51bWJlciBvZiBieXRlcyB3aGljaCB3aWxsIGJlIHVwbG9hZGVkIGF0IGEgdGltZS4KY29uc3QgTUFYX1BBWUxPQURfU0laRSA9IDEwMCAqIDEwMjQ7CgpmdW5jdGlvbiBfdXBsb2FkRmlsZXMoaW5wdXRJZCwgb3V0cHV0SWQpIHsKICBjb25zdCBzdGVwcyA9IHVwbG9hZEZpbGVzU3RlcChpbnB1dElkLCBvdXRwdXRJZCk7CiAgY29uc3Qgb3V0cHV0RWxlbWVudCA9IGRvY3VtZW50LmdldEVsZW1lbnRCeUlkKG91dHB1dElkKTsKICAvLyBDYWNoZSBzdGVwcyBvbiB0aGUgb3V0cHV0RWxlbWVudCB0byBtYWtlIGl0IGF2YWlsYWJsZSBmb3IgdGhlIG5leHQgY2FsbAogIC8vIHRvIHVwbG9hZEZpbGVzQ29udGludWUgZnJvbSBQeXRob24uCiAgb3V0cHV0RWxlbWVudC5zdGVwcyA9IHN0ZXBzOwoKICByZXR1cm4gX3VwbG9hZEZpbGVzQ29udGludWUob3V0cHV0SWQpOwp9CgovLyBUaGlzIGlzIHJvdWdobHkgYW4gYXN5bmMgZ2VuZXJhdG9yIChub3Qgc3VwcG9ydGVkIGluIHRoZSBicm93c2VyIHlldCksCi8vIHdoZXJlIHRoZXJlIGFyZSBtdWx0aXBsZSBhc3luY2hyb25vdXMgc3RlcHMgYW5kIHRoZSBQeXRob24gc2lkZSBpcyBnb2luZwovLyB0byBwb2xsIGZvciBjb21wbGV0aW9uIG9mIGVhY2ggc3RlcC4KLy8gVGhpcyB1c2VzIGEgUHJvbWlzZSB0byBibG9jayB0aGUgcHl0aG9uIHNpZGUgb24gY29tcGxldGlvbiBvZiBlYWNoIHN0ZXAsCi8vIHRoZW4gcGFzc2VzIHRoZSByZXN1bHQgb2YgdGhlIHByZXZpb3VzIHN0ZXAgYXMgdGhlIGlucHV0IHRvIHRoZSBuZXh0IHN0ZXAuCmZ1bmN0aW9uIF91cGxvYWRGaWxlc0NvbnRpbnVlKG91dHB1dElkKSB7CiAgY29uc3Qgb3V0cHV0RWxlbWVudCA9IGRvY3VtZW50LmdldEVsZW1lbnRCeUlkKG91dHB1dElkKTsKICBjb25zdCBzdGVwcyA9IG91dHB1dEVsZW1lbnQuc3RlcHM7CgogIGNvbnN0IG5leHQgPSBzdGVwcy5uZXh0KG91dHB1dEVsZW1lbnQubGFzdFByb21pc2VWYWx1ZSk7CiAgcmV0dXJuIFByb21pc2UucmVzb2x2ZShuZXh0LnZhbHVlLnByb21pc2UpLnRoZW4oKHZhbHVlKSA9PiB7CiAgICAvLyBDYWNoZSB0aGUgbGFzdCBwcm9taXNlIHZhbHVlIHRvIG1ha2UgaXQgYXZhaWxhYmxlIHRvIHRoZSBuZXh0CiAgICAvLyBzdGVwIG9mIHRoZSBnZW5lcmF0b3IuCiAgICBvdXRwdXRFbGVtZW50Lmxhc3RQcm9taXNlVmFsdWUgPSB2YWx1ZTsKICAgIHJldHVybiBuZXh0LnZhbHVlLnJlc3BvbnNlOwogIH0pOwp9CgovKioKICogR2VuZXJhdG9yIGZ1bmN0aW9uIHdoaWNoIGlzIGNhbGxlZCBiZXR3ZWVuIGVhY2ggYXN5bmMgc3RlcCBvZiB0aGUgdXBsb2FkCiAqIHByb2Nlc3MuCiAqIEBwYXJhbSB7c3RyaW5nfSBpbnB1dElkIEVsZW1lbnQgSUQgb2YgdGhlIGlucHV0IGZpbGUgcGlja2VyIGVsZW1lbnQuCiAqIEBwYXJhbSB7c3RyaW5nfSBvdXRwdXRJZCBFbGVtZW50IElEIG9mIHRoZSBvdXRwdXQgZGlzcGxheS4KICogQHJldHVybiB7IUl0ZXJhYmxlPCFPYmplY3Q+fSBJdGVyYWJsZSBvZiBuZXh0IHN0ZXBzLgogKi8KZnVuY3Rpb24qIHVwbG9hZEZpbGVzU3RlcChpbnB1dElkLCBvdXRwdXRJZCkgewogIGNvbnN0IGlucHV0RWxlbWVudCA9IGRvY3VtZW50LmdldEVsZW1lbnRCeUlkKGlucHV0SWQpOwogIGlucHV0RWxlbWVudC5kaXNhYmxlZCA9IGZhbHNlOwoKICBjb25zdCBvdXRwdXRFbGVtZW50ID0gZG9jdW1lbnQuZ2V0RWxlbWVudEJ5SWQob3V0cHV0SWQpOwogIG91dHB1dEVsZW1lbnQuaW5uZXJIVE1MID0gJyc7CgogIGNvbnN0IHBpY2tlZFByb21pc2UgPSBuZXcgUHJvbWlzZSgocmVzb2x2ZSkgPT4gewogICAgaW5wdXRFbGVtZW50LmFkZEV2ZW50TGlzdGVuZXIoJ2NoYW5nZScsIChlKSA9PiB7CiAgICAgIHJlc29sdmUoZS50YXJnZXQuZmlsZXMpOwogICAgfSk7CiAgfSk7CgogIGNvbnN0IGNhbmNlbCA9IGRvY3VtZW50LmNyZWF0ZUVsZW1lbnQoJ2J1dHRvbicpOwogIGlucHV0RWxlbWVudC5wYXJlbnRFbGVtZW50LmFwcGVuZENoaWxkKGNhbmNlbCk7CiAgY2FuY2VsLnRleHRDb250ZW50ID0gJ0NhbmNlbCB1cGxvYWQnOwogIGNvbnN0IGNhbmNlbFByb21pc2UgPSBuZXcgUHJvbWlzZSgocmVzb2x2ZSkgPT4gewogICAgY2FuY2VsLm9uY2xpY2sgPSAoKSA9PiB7CiAgICAgIHJlc29sdmUobnVsbCk7CiAgICB9OwogIH0pOwoKICAvLyBXYWl0IGZvciB0aGUgdXNlciB0byBwaWNrIHRoZSBmaWxlcy4KICBjb25zdCBmaWxlcyA9IHlpZWxkIHsKICAgIHByb21pc2U6IFByb21pc2UucmFjZShbcGlja2VkUHJvbWlzZSwgY2FuY2VsUHJvbWlzZV0pLAogICAgcmVzcG9uc2U6IHsKICAgICAgYWN0aW9uOiAnc3RhcnRpbmcnLAogICAgfQogIH07CgogIGNhbmNlbC5yZW1vdmUoKTsKCiAgLy8gRGlzYWJsZSB0aGUgaW5wdXQgZWxlbWVudCBzaW5jZSBmdXJ0aGVyIHBpY2tzIGFyZSBub3QgYWxsb3dlZC4KICBpbnB1dEVsZW1lbnQuZGlzYWJsZWQgPSB0cnVlOwoKICBpZiAoIWZpbGVzKSB7CiAgICByZXR1cm4gewogICAgICByZXNwb25zZTogewogICAgICAgIGFjdGlvbjogJ2NvbXBsZXRlJywKICAgICAgfQogICAgfTsKICB9CgogIGZvciAoY29uc3QgZmlsZSBvZiBmaWxlcykgewogICAgY29uc3QgbGkgPSBkb2N1bWVudC5jcmVhdGVFbGVtZW50KCdsaScpOwogICAgbGkuYXBwZW5kKHNwYW4oZmlsZS5uYW1lLCB7Zm9udFdlaWdodDogJ2JvbGQnfSkpOwogICAgbGkuYXBwZW5kKHNwYW4oCiAgICAgICAgYCgke2ZpbGUudHlwZSB8fCAnbi9hJ30pIC0gJHtmaWxlLnNpemV9IGJ5dGVzLCBgICsKICAgICAgICBgbGFzdCBtb2RpZmllZDogJHsKICAgICAgICAgICAgZmlsZS5sYXN0TW9kaWZpZWREYXRlID8gZmlsZS5sYXN0TW9kaWZpZWREYXRlLnRvTG9jYWxlRGF0ZVN0cmluZygpIDoKICAgICAgICAgICAgICAgICAgICAgICAgICAgICAgICAgICAgJ24vYSd9IC0gYCkpOwogICAgY29uc3QgcGVyY2VudCA9IHNwYW4oJzAlIGRvbmUnKTsKICAgIGxpLmFwcGVuZENoaWxkKHBlcmNlbnQpOwoKICAgIG91dHB1dEVsZW1lbnQuYXBwZW5kQ2hpbGQobGkpOwoKICAgIGNvbnN0IGZpbGVEYXRhUHJvbWlzZSA9IG5ldyBQcm9taXNlKChyZXNvbHZlKSA9PiB7CiAgICAgIGNvbnN0IHJlYWRlciA9IG5ldyBGaWxlUmVhZGVyKCk7CiAgICAgIHJlYWRlci5vbmxvYWQgPSAoZSkgPT4gewogICAgICAgIHJlc29sdmUoZS50YXJnZXQucmVzdWx0KTsKICAgICAgfTsKICAgICAgcmVhZGVyLnJlYWRBc0FycmF5QnVmZmVyKGZpbGUpOwogICAgfSk7CiAgICAvLyBXYWl0IGZvciB0aGUgZGF0YSB0byBiZSByZWFkeS4KICAgIGxldCBmaWxlRGF0YSA9IHlpZWxkIHsKICAgICAgcHJvbWlzZTogZmlsZURhdGFQcm9taXNlLAogICAgICByZXNwb25zZTogewogICAgICAgIGFjdGlvbjogJ2NvbnRpbnVlJywKICAgICAgfQogICAgfTsKCiAgICAvLyBVc2UgYSBjaHVua2VkIHNlbmRpbmcgdG8gYXZvaWQgbWVzc2FnZSBzaXplIGxpbWl0cy4gU2VlIGIvNjIxMTU2NjAuCiAgICBsZXQgcG9zaXRpb24gPSAwOwogICAgZG8gewogICAgICBjb25zdCBsZW5ndGggPSBNYXRoLm1pbihmaWxlRGF0YS5ieXRlTGVuZ3RoIC0gcG9zaXRpb24sIE1BWF9QQVlMT0FEX1NJWkUpOwogICAgICBjb25zdCBjaHVuayA9IG5ldyBVaW50OEFycmF5KGZpbGVEYXRhLCBwb3NpdGlvbiwgbGVuZ3RoKTsKICAgICAgcG9zaXRpb24gKz0gbGVuZ3RoOwoKICAgICAgY29uc3QgYmFzZTY0ID0gYnRvYShTdHJpbmcuZnJvbUNoYXJDb2RlLmFwcGx5KG51bGwsIGNodW5rKSk7CiAgICAgIHlpZWxkIHsKICAgICAgICByZXNwb25zZTogewogICAgICAgICAgYWN0aW9uOiAnYXBwZW5kJywKICAgICAgICAgIGZpbGU6IGZpbGUubmFtZSwKICAgICAgICAgIGRhdGE6IGJhc2U2NCwKICAgICAgICB9LAogICAgICB9OwoKICAgICAgbGV0IHBlcmNlbnREb25lID0gZmlsZURhdGEuYnl0ZUxlbmd0aCA9PT0gMCA/CiAgICAgICAgICAxMDAgOgogICAgICAgICAgTWF0aC5yb3VuZCgocG9zaXRpb24gLyBmaWxlRGF0YS5ieXRlTGVuZ3RoKSAqIDEwMCk7CiAgICAgIHBlcmNlbnQudGV4dENvbnRlbnQgPSBgJHtwZXJjZW50RG9uZX0lIGRvbmVgOwoKICAgIH0gd2hpbGUgKHBvc2l0aW9uIDwgZmlsZURhdGEuYnl0ZUxlbmd0aCk7CiAgfQoKICAvLyBBbGwgZG9uZS4KICB5aWVsZCB7CiAgICByZXNwb25zZTogewogICAgICBhY3Rpb246ICdjb21wbGV0ZScsCiAgICB9CiAgfTsKfQoKc2NvcGUuZ29vZ2xlID0gc2NvcGUuZ29vZ2xlIHx8IHt9OwpzY29wZS5nb29nbGUuY29sYWIgPSBzY29wZS5nb29nbGUuY29sYWIgfHwge307CnNjb3BlLmdvb2dsZS5jb2xhYi5fZmlsZXMgPSB7CiAgX3VwbG9hZEZpbGVzLAogIF91cGxvYWRGaWxlc0NvbnRpbnVlLAp9Owp9KShzZWxmKTsK",
              "ok": true,
              "headers": [
                [
                  "content-type",
                  "application/javascript"
                ]
              ],
              "status": 200,
              "status_text": ""
            }
          },
          "base_uri": "https://localhost:8080/",
          "height": 123
        },
        "id": "ZO57NK3_oMJR",
        "outputId": "2543ea7e-67a4-4f2f-bdb6-7d00b3223188"
      },
      "source": [
        "print('Unggah berkas kaggle.json:\\n')\n",
        "files.upload()"
      ],
      "execution_count": null,
      "outputs": [
        {
          "output_type": "stream",
          "name": "stdout",
          "text": [
            "Unggah berkas kaggle.json:\n",
            "\n"
          ]
        },
        {
          "output_type": "display_data",
          "data": {
            "text/html": [
              "\n",
              "     <input type=\"file\" id=\"files-fa77250e-016e-46ae-aefb-aaec94652e77\" name=\"files[]\" multiple disabled\n",
              "        style=\"border:none\" />\n",
              "     <output id=\"result-fa77250e-016e-46ae-aefb-aaec94652e77\">\n",
              "      Upload widget is only available when the cell has been executed in the\n",
              "      current browser session. Please rerun this cell to enable.\n",
              "      </output>\n",
              "      <script src=\"/nbextensions/google.colab/files.js\"></script> "
            ],
            "text/plain": [
              "<IPython.core.display.HTML object>"
            ]
          },
          "metadata": {}
        },
        {
          "output_type": "stream",
          "name": "stdout",
          "text": [
            "Saving kaggle.json to kaggle.json\n"
          ]
        },
        {
          "output_type": "execute_result",
          "data": {
            "text/plain": [
              "{'kaggle.json': b'{\"username\":\"alfayeddennita\",\"key\":\"3733aaeb91769a83236b4d0b27e7a27c\"}'}"
            ]
          },
          "metadata": {},
          "execution_count": 4
        }
      ]
    },
    {
      "cell_type": "markdown",
      "metadata": {
        "id": "YKrgA-c6ofnz"
      },
      "source": [
        "1.2.3 Membuat direktori `~/.kaggle` untuk menyimpan berkas `kaggle.json` yang telah diunggah sebelumnya. Kaggle akan melakukan proses autentikasi melalui direktori ini."
      ]
    },
    {
      "cell_type": "code",
      "metadata": {
        "id": "AsRypDP5ofQ0"
      },
      "source": [
        "! mkdir ~/.kaggle"
      ],
      "execution_count": null,
      "outputs": []
    },
    {
      "cell_type": "markdown",
      "metadata": {
        "id": "ATGgVa5TomM_"
      },
      "source": [
        "1.2.4 Memindahkan berkas `kaggle.json` yang saat ini berada di direktori aktif ke dalam direktori `~/.kaggle` agar dapat dilakukan autentikasi oleh Kaggle ketika ada permintaan untuk mengakses Kaggle API."
      ]
    },
    {
      "cell_type": "code",
      "metadata": {
        "id": "vHNG2hl6oo_p"
      },
      "source": [
        "! mv kaggle.json ~/.kaggle"
      ],
      "execution_count": null,
      "outputs": []
    },
    {
      "cell_type": "markdown",
      "metadata": {
        "id": "PA8zMS7touCU"
      },
      "source": [
        "1.2.5 Mengubah hak akses berkas `kaggle.json` agar Kaggle dapat membaca dan menulis isi berkas tersebut untuk keperluan autentikasi."
      ]
    },
    {
      "cell_type": "code",
      "metadata": {
        "id": "PmflZ1CKoyCM"
      },
      "source": [
        "! chmod 600 ~/.kaggle/kaggle.json"
      ],
      "execution_count": null,
      "outputs": []
    },
    {
      "cell_type": "markdown",
      "metadata": {
        "id": "d2-6fC6Fo3Bk"
      },
      "source": [
        "1.2.6 Mengecek apakah *notebook* sudah dapat terhubung ke Kaggle API dengan menampilkan beberapa data acak yang dapat diunduh."
      ]
    },
    {
      "cell_type": "code",
      "metadata": {
        "colab": {
          "base_uri": "https://localhost:8080/"
        },
        "id": "5G7Z5Ynio8GI",
        "outputId": "b8fffc62-238b-4903-88d5-57a1cea0cf7e"
      },
      "source": [
        "! kaggle datasets list"
      ],
      "execution_count": null,
      "outputs": [
        {
          "output_type": "stream",
          "name": "stdout",
          "text": [
            "ref                                                         title                                              size  lastUpdated          downloadCount  voteCount  usabilityRating  \n",
            "----------------------------------------------------------  ------------------------------------------------  -----  -------------------  -------------  ---------  ---------------  \n",
            "gpreda/reddit-vaccine-myths                                 Reddit Vaccine Myths                              235KB  2021-10-10 17:55:57          13855       1123  1.0              \n",
            "crowww/a-large-scale-fish-dataset                           A Large Scale Fish Dataset                          3GB  2021-04-28 17:03:01           8330        631  0.9375           \n",
            "imsparsh/musicnet-dataset                                   MusicNet Dataset                                   22GB  2021-02-18 14:12:19           3709        263  1.0              \n",
            "fatiimaezzahra/famous-iconic-women                          Famous Iconic Women                               838MB  2021-02-28 14:56:00           1605        123  0.75             \n",
            "dhruvildave/wikibooks-dataset                               Wikibooks Dataset                                   2GB  2021-07-03 18:37:20           3169        241  1.0              \n",
            "promptcloud/careerbuilder-job-listing-2020                  Careerbuilder Job Listing 2020                     42MB  2021-03-05 06:59:52           2219         81  1.0              \n",
            "nickuzmenkov/nih-chest-xrays-tfrecords                      NIH Chest X-rays TFRecords                         11GB  2021-03-09 04:49:23           1348         75  0.9411765        \n",
            "mathurinache/twitter-edge-nodes                             Twitter Edge Nodes                                342MB  2021-03-08 06:43:04           1079         93  1.0              \n",
            "alsgroup/end-als                                            End ALS Kaggle Challenge                           12GB  2021-04-08 12:16:37            976        138  0.9375           \n",
            "stuartjames/lights                                          LightS: Light Specularity Dataset                  18GB  2021-02-18 14:32:26            173         36  0.6875           \n",
            "simiotic/github-code-snippets                               GitHub Code Snippets                                7GB  2021-03-03 11:34:39            387         72  1.0              \n",
            "mathurinache/the-lj-speech-dataset                          The LJ Speech Dataset                               3GB  2021-02-15 09:19:54            390         51  1.0              \n",
            "coloradokb/dandelionimages                                  DandelionImages                                     4GB  2021-02-19 20:03:47            932         43  0.75             \n",
            "nickuzmenkov/ranzcr-clip-kfold-tfrecords                    RANZCR CLiP KFold TFRecords                         2GB  2021-02-21 13:29:51            139         24  0.875            \n",
            "landrykezebou/lvzhdr-tone-mapping-benchmark-dataset-tmonet  LVZ-HDR Tone Mapping Benchmark Dataset (TMO-Net)   24GB  2021-03-01 05:03:40            215         29  0.75             \n",
            "imsparsh/accentdb-core-extended                             AccentDB - Core & Extended                          6GB  2021-02-17 14:22:54            157         31  0.875            \n",
            "datasnaek/youtube-new                                       Trending YouTube Video Statistics                 201MB  2019-06-03 00:56:47         154359       4208  0.7941176        \n",
            "zynicide/wine-reviews                                       Wine Reviews                                       51MB  2017-11-27 17:08:04         145968       3170  0.7941176        \n",
            "residentmario/ramen-ratings                                 Ramen Ratings                                      40KB  2018-01-11 16:04:39          28280        678  0.7058824        \n",
            "datasnaek/chess                                             Chess Game Dataset (Lichess)                        3MB  2017-09-04 03:09:09          23266        851  0.8235294        \n"
          ]
        }
      ]
    },
    {
      "cell_type": "markdown",
      "metadata": {
        "id": "pBiQ0_HS8wqK"
      },
      "source": [
        "Berdasarkan keluaran tersebut, *notebook* sudah berhasil terhubung dengan Kaggle API sehingga sudah siap untuk melakukan pengunduhan data yang dibutuhkan."
      ]
    },
    {
      "cell_type": "markdown",
      "metadata": {
        "id": "4atPpFL-o_gG"
      },
      "source": [
        "1.2.7 Mengunduh data **Post recommender** yang diterbitkan oleh pengguna Kaggle dengan nama pengguna [rohit96](https://www.kaggle.com/rohit0906). Untuk melihat informasi data lebih lanjut, dapat mengunjungi tautan berikut: https://www.kaggle.com/rohit0906/post-recommender.\n",
        "\n",
        "[![Post recommender](https://drive.google.com/uc?id=1RGPa7G6eBH5Ce-LuVjl2gkcpiM09KWXd)](https://www.kaggle.com/rohit0906/post-recommender)"
      ]
    },
    {
      "cell_type": "code",
      "metadata": {
        "colab": {
          "base_uri": "https://localhost:8080/"
        },
        "id": "3rHTft_wpB4O",
        "outputId": "a6574a3d-e8cc-4d71-8919-14b37703b72e"
      },
      "source": [
        "! kaggle datasets download -d rohit0906/post-recommender"
      ],
      "execution_count": null,
      "outputs": [
        {
          "output_type": "stream",
          "name": "stdout",
          "text": [
            "Downloading post-recommender.zip to /content\n",
            "\r  0% 0.00/34.8k [00:00<?, ?B/s]\n",
            "\r100% 34.8k/34.8k [00:00<00:00, 18.0MB/s]\n"
          ]
        }
      ]
    },
    {
      "cell_type": "markdown",
      "metadata": {
        "id": "dDws9MKIpM4Q"
      },
      "source": [
        "1.2.8 Mengekstrak berkas berformat ZIP yang telah diunduh dari Kaggle agar isinya yang berformat CSV dapat digunakan dalam proses pembuatan model."
      ]
    },
    {
      "cell_type": "code",
      "metadata": {
        "colab": {
          "base_uri": "https://localhost:8080/"
        },
        "id": "72Ef1hHkpUel",
        "outputId": "1d439cef-e4d4-4e2d-d657-528ac00f1e1e"
      },
      "source": [
        "! unzip post-recommender.zip"
      ],
      "execution_count": null,
      "outputs": [
        {
          "output_type": "stream",
          "name": "stdout",
          "text": [
            "Archive:  post-recommender.zip\n",
            "  inflating: posts.csv               \n",
            "  inflating: users.csv               \n",
            "  inflating: views.csv               \n"
          ]
        }
      ]
    },
    {
      "cell_type": "markdown",
      "metadata": {
        "id": "AJFe0koz-kIk"
      },
      "source": [
        "Berdasarkan keluaran di atas, berkas `post-recommender.zip` memiliki tiga berkas di dalamnya. Berkas tersebut adalah `posts.csv` yang berisi data postingan, `users.csv` yang berisi data pengguna, dan `views.csv` yang berisi data tayangan postingan. Ketiga berkas tersebut akan digunakan dalam proses pembuatan model ke depannya."
      ]
    },
    {
      "cell_type": "markdown",
      "metadata": {
        "id": "Tq2PxFKLpcbX"
      },
      "source": [
        "## 2. Eksplorasi dan Perbaikan Data"
      ]
    },
    {
      "cell_type": "markdown",
      "metadata": {
        "id": "zYntpLuuRfAv"
      },
      "source": [
        "### 2.1 Data Postingan (`posts.csv`)"
      ]
    },
    {
      "cell_type": "markdown",
      "metadata": {
        "id": "6dtXzzGERxO-"
      },
      "source": [
        "2.1.1 Melihat isi data postingan yang berada di dalam berkas `posts.csv` dengan [pandas](https://pandas.pydata.org) untuk mengenali dan memahami setiap informasi di dalamnya, terutama informasi pada sampel, fitur, dan nilai."
      ]
    },
    {
      "cell_type": "code",
      "metadata": {
        "colab": {
          "base_uri": "https://localhost:8080/",
          "height": 453
        },
        "id": "Zk68TONuRyxJ",
        "outputId": "30f492bc-dcab-4a8f-9898-a098c7733733"
      },
      "source": [
        "posts = pd.read_csv('posts.csv')\n",
        "posts"
      ],
      "execution_count": null,
      "outputs": [
        {
          "output_type": "execute_result",
          "data": {
            "text/html": [
              "<div>\n",
              "<style scoped>\n",
              "    .dataframe tbody tr th:only-of-type {\n",
              "        vertical-align: middle;\n",
              "    }\n",
              "\n",
              "    .dataframe tbody tr th {\n",
              "        vertical-align: top;\n",
              "    }\n",
              "\n",
              "    .dataframe thead th {\n",
              "        text-align: right;\n",
              "    }\n",
              "</style>\n",
              "<table border=\"1\" class=\"dataframe\">\n",
              "  <thead>\n",
              "    <tr style=\"text-align: right;\">\n",
              "      <th></th>\n",
              "      <th>_id</th>\n",
              "      <th>title</th>\n",
              "      <th>category</th>\n",
              "      <th>post_type</th>\n",
              "    </tr>\n",
              "  </thead>\n",
              "  <tbody>\n",
              "    <tr>\n",
              "      <th>0</th>\n",
              "      <td>5d62abaa65218653a132c956</td>\n",
              "      <td>hello there</td>\n",
              "      <td>Plant Biotechnology</td>\n",
              "      <td>blog</td>\n",
              "    </tr>\n",
              "    <tr>\n",
              "      <th>1</th>\n",
              "      <td>5d6d39567fa40e1417a4931c</td>\n",
              "      <td>Ml and AI</td>\n",
              "      <td>Artificial Intelligence|Machine Learning|Infor...</td>\n",
              "      <td>blog</td>\n",
              "    </tr>\n",
              "    <tr>\n",
              "      <th>2</th>\n",
              "      <td>5d7d23315720533e15c3b1ee</td>\n",
              "      <td>What is an Operating System ?</td>\n",
              "      <td>Operating Systems</td>\n",
              "      <td>blog</td>\n",
              "    </tr>\n",
              "    <tr>\n",
              "      <th>3</th>\n",
              "      <td>5d7d405e5720533e15c3b1f3</td>\n",
              "      <td>Lord Shiva</td>\n",
              "      <td>Drawings</td>\n",
              "      <td>artwork</td>\n",
              "    </tr>\n",
              "    <tr>\n",
              "      <th>4</th>\n",
              "      <td>5d80dfbc6c53455f896e600e</td>\n",
              "      <td>How Competition law evolved?</td>\n",
              "      <td>Competition Laws</td>\n",
              "      <td>blog</td>\n",
              "    </tr>\n",
              "    <tr>\n",
              "      <th>...</th>\n",
              "      <td>...</td>\n",
              "      <td>...</td>\n",
              "      <td>...</td>\n",
              "      <td>...</td>\n",
              "    </tr>\n",
              "    <tr>\n",
              "      <th>488</th>\n",
              "      <td>5ed3791976027d35905ccab6</td>\n",
              "      <td>CI/CD using GitHub Actions</td>\n",
              "      <td>Computer Technology|Information Technology</td>\n",
              "      <td>blog</td>\n",
              "    </tr>\n",
              "    <tr>\n",
              "      <th>489</th>\n",
              "      <td>5ed3820f76027d35905ccac8</td>\n",
              "      <td>Configure Docker with Django; PostgreSQL; Pg-a...</td>\n",
              "      <td>Computer Technology|Computer Application|Infor...</td>\n",
              "      <td>blog</td>\n",
              "    </tr>\n",
              "    <tr>\n",
              "      <th>490</th>\n",
              "      <td>5ed3ef4cbd514d602c1530f2</td>\n",
              "      <td>Recommendation Engine</td>\n",
              "      <td>NaN</td>\n",
              "      <td>project</td>\n",
              "    </tr>\n",
              "    <tr>\n",
              "      <th>491</th>\n",
              "      <td>5ed415c6bd514d602c15312d</td>\n",
              "      <td>Face Recognition using Transfer Learning.</td>\n",
              "      <td>Science; Technology</td>\n",
              "      <td>skill</td>\n",
              "    </tr>\n",
              "    <tr>\n",
              "      <th>492</th>\n",
              "      <td>5ed4cbadbd514d602c1531a6</td>\n",
              "      <td>Configure CI/CD Pipeline in GitLab and deploym...</td>\n",
              "      <td>Computer Technology|Computer Application|Infor...</td>\n",
              "      <td>blog</td>\n",
              "    </tr>\n",
              "  </tbody>\n",
              "</table>\n",
              "<p>493 rows × 4 columns</p>\n",
              "</div>"
            ],
            "text/plain": [
              "                          _id  ...  post_type\n",
              "0    5d62abaa65218653a132c956  ...       blog\n",
              "1    5d6d39567fa40e1417a4931c  ...       blog\n",
              "2    5d7d23315720533e15c3b1ee  ...       blog\n",
              "3    5d7d405e5720533e15c3b1f3  ...    artwork\n",
              "4    5d80dfbc6c53455f896e600e  ...       blog\n",
              "..                        ...  ...        ...\n",
              "488  5ed3791976027d35905ccab6  ...       blog\n",
              "489  5ed3820f76027d35905ccac8  ...       blog\n",
              "490  5ed3ef4cbd514d602c1530f2  ...    project\n",
              "491  5ed415c6bd514d602c15312d  ...      skill\n",
              "492  5ed4cbadbd514d602c1531a6  ...       blog\n",
              "\n",
              "[493 rows x 4 columns]"
            ]
          },
          "metadata": {},
          "execution_count": 11
        }
      ]
    },
    {
      "cell_type": "markdown",
      "metadata": {
        "id": "qX0-u3Dg-9Vh"
      },
      "source": [
        "**Penjelasan:**\n",
        "\n",
        "Data postingan memiliki jumlah sampel (baris) sebanyak 493 sampel dan jumlah fitur (kolom) sebanyak 4 fitur. Berikut adalah penjelasan dari masing-masing fitur pada data postingan.\n",
        "\n",
        "1. `_id`, yaitu teks identifikasi unik yang dimiliki setiap postingan. Fitur ini memiliki nilai berupa teks identifikasi unik postingan dengan tipe data `string`.\n",
        "2. `title`, yaitu judul postingan. Fitur ini memiliki nilai berupa judul postingan dengan tipe data `string`.\n",
        "3. `category`, yaitu kumpulan kategori yang berkaitan dengan postingan dan setiap kategori dipisahkan oleh simbol pipa (`|`) atau tanda titik koma (`;`). Fitur ini memiliki nilai berupa kumpulan kategori dengan tipe data `string`.\n",
        "4. `post_type`, yaitu jenis postingan. Fitur ini memiliki nilai berupa jenis postingan dengan tipe data `string`."
      ]
    },
    {
      "cell_type": "markdown",
      "metadata": {
        "id": "sMI_hJv7lTWe"
      },
      "source": [
        "2.1.2 Melihat informasi dari setiap fitur untuk mengetahui apakah terdapat kejanggalan atau tidak."
      ]
    },
    {
      "cell_type": "code",
      "metadata": {
        "colab": {
          "base_uri": "https://localhost:8080/"
        },
        "id": "4227JCU9lVVY",
        "outputId": "ad5ebc6b-ff46-42b3-a6cf-dca0ed6b8c94"
      },
      "source": [
        "posts.info()"
      ],
      "execution_count": null,
      "outputs": [
        {
          "output_type": "stream",
          "name": "stdout",
          "text": [
            "<class 'pandas.core.frame.DataFrame'>\n",
            "RangeIndex: 493 entries, 0 to 492\n",
            "Data columns (total 4 columns):\n",
            " #   Column      Non-Null Count  Dtype \n",
            "---  ------      --------------  ----- \n",
            " 0   _id         493 non-null    object\n",
            " 1   title       493 non-null    object\n",
            " 2   category    465 non-null    object\n",
            " 3    post_type  493 non-null    object\n",
            "dtypes: object(4)\n",
            "memory usage: 15.5+ KB\n"
          ]
        }
      ]
    },
    {
      "cell_type": "markdown",
      "metadata": {
        "id": "ui4qmHKkC6jb"
      },
      "source": [
        "Berdasarkan keluaran tersebut, terdapat kesalahan penulisan nama pada fitur dengan indeks ke-3, yaitu fitur ` post_type`. Fitur tersebut memiliki satu spasi di awal namanya sehingga dibutuhkan perbaikan untuk memudahkan dalam pengodean ke depannya. "
      ]
    },
    {
      "cell_type": "markdown",
      "metadata": {
        "id": "sKN8PARiSBOJ"
      },
      "source": [
        "2.1.3 Mengganti nama fitur `_id` menjadi `post_id` agar dalam pengodean tidak tertukar dengan fitur `_id` milik data pengguna dan mengganti nama fitur ` post_type` menjadi `type` untuk memperbaiki kesalahan serta memudahkan dalam pengodean."
      ]
    },
    {
      "cell_type": "code",
      "metadata": {
        "colab": {
          "base_uri": "https://localhost:8080/",
          "height": 204
        },
        "id": "2mQmhxYtSC4a",
        "outputId": "a3c20a72-b75b-4532-ab02-3480cbb483bd"
      },
      "source": [
        "posts.columns = ['post_id', 'title', 'category', 'type']\n",
        "posts.head()"
      ],
      "execution_count": null,
      "outputs": [
        {
          "output_type": "execute_result",
          "data": {
            "text/html": [
              "<div>\n",
              "<style scoped>\n",
              "    .dataframe tbody tr th:only-of-type {\n",
              "        vertical-align: middle;\n",
              "    }\n",
              "\n",
              "    .dataframe tbody tr th {\n",
              "        vertical-align: top;\n",
              "    }\n",
              "\n",
              "    .dataframe thead th {\n",
              "        text-align: right;\n",
              "    }\n",
              "</style>\n",
              "<table border=\"1\" class=\"dataframe\">\n",
              "  <thead>\n",
              "    <tr style=\"text-align: right;\">\n",
              "      <th></th>\n",
              "      <th>post_id</th>\n",
              "      <th>title</th>\n",
              "      <th>category</th>\n",
              "      <th>type</th>\n",
              "    </tr>\n",
              "  </thead>\n",
              "  <tbody>\n",
              "    <tr>\n",
              "      <th>0</th>\n",
              "      <td>5d62abaa65218653a132c956</td>\n",
              "      <td>hello there</td>\n",
              "      <td>Plant Biotechnology</td>\n",
              "      <td>blog</td>\n",
              "    </tr>\n",
              "    <tr>\n",
              "      <th>1</th>\n",
              "      <td>5d6d39567fa40e1417a4931c</td>\n",
              "      <td>Ml and AI</td>\n",
              "      <td>Artificial Intelligence|Machine Learning|Infor...</td>\n",
              "      <td>blog</td>\n",
              "    </tr>\n",
              "    <tr>\n",
              "      <th>2</th>\n",
              "      <td>5d7d23315720533e15c3b1ee</td>\n",
              "      <td>What is an Operating System ?</td>\n",
              "      <td>Operating Systems</td>\n",
              "      <td>blog</td>\n",
              "    </tr>\n",
              "    <tr>\n",
              "      <th>3</th>\n",
              "      <td>5d7d405e5720533e15c3b1f3</td>\n",
              "      <td>Lord Shiva</td>\n",
              "      <td>Drawings</td>\n",
              "      <td>artwork</td>\n",
              "    </tr>\n",
              "    <tr>\n",
              "      <th>4</th>\n",
              "      <td>5d80dfbc6c53455f896e600e</td>\n",
              "      <td>How Competition law evolved?</td>\n",
              "      <td>Competition Laws</td>\n",
              "      <td>blog</td>\n",
              "    </tr>\n",
              "  </tbody>\n",
              "</table>\n",
              "</div>"
            ],
            "text/plain": [
              "                    post_id  ...     type\n",
              "0  5d62abaa65218653a132c956  ...     blog\n",
              "1  5d6d39567fa40e1417a4931c  ...     blog\n",
              "2  5d7d23315720533e15c3b1ee  ...     blog\n",
              "3  5d7d405e5720533e15c3b1f3  ...  artwork\n",
              "4  5d80dfbc6c53455f896e600e  ...     blog\n",
              "\n",
              "[5 rows x 4 columns]"
            ]
          },
          "metadata": {},
          "execution_count": 13
        }
      ]
    },
    {
      "cell_type": "markdown",
      "metadata": {
        "id": "n30ixzNQlYAi"
      },
      "source": [
        "2.1.4 Melihat jumlah nilai kosong dari setiap fitur. Apabila suatu fitur memiliki nilai kosong maka nilai tersebut harus diperbaiki."
      ]
    },
    {
      "cell_type": "code",
      "metadata": {
        "colab": {
          "base_uri": "https://localhost:8080/"
        },
        "id": "yxg3ol_HlaKW",
        "outputId": "29bab942-869e-4b3d-ffab-fb9d7d811cf1"
      },
      "source": [
        "print('Jumlah nilai kosong:')\n",
        "posts.isna().sum()"
      ],
      "execution_count": null,
      "outputs": [
        {
          "output_type": "stream",
          "name": "stdout",
          "text": [
            "Jumlah nilai kosong:\n"
          ]
        },
        {
          "output_type": "execute_result",
          "data": {
            "text/plain": [
              "post_id      0\n",
              "title        0\n",
              "category    28\n",
              "type         0\n",
              "dtype: int64"
            ]
          },
          "metadata": {},
          "execution_count": 14
        }
      ]
    },
    {
      "cell_type": "markdown",
      "metadata": {
        "id": "8F2hm3D1EeBQ"
      },
      "source": [
        "Berdasarkan keluaran tersebut, fitur `category` memiliki nilai kosong sebanyak 28. Oleh karena itu, nilai kosong dari fitur tersebut harus dilakukan perbaikan."
      ]
    },
    {
      "cell_type": "markdown",
      "metadata": {
        "id": "5JzqLt0Llhq2"
      },
      "source": [
        "2.1.5 Mengisi semua nilai kosong pada fitur `category` dengan *Uncategorized* (tidak berkategori)."
      ]
    },
    {
      "cell_type": "code",
      "metadata": {
        "colab": {
          "base_uri": "https://localhost:8080/"
        },
        "id": "Q3P0rApElj1o",
        "outputId": "ae2d9c47-4154-486d-f06b-c82c5f4ad98c"
      },
      "source": [
        "posts['category'] = posts['category'].fillna('Uncategorized')\n",
        "print('Jumlah nilai kosong:')\n",
        "posts.isna().sum()"
      ],
      "execution_count": null,
      "outputs": [
        {
          "output_type": "stream",
          "name": "stdout",
          "text": [
            "Jumlah nilai kosong:\n"
          ]
        },
        {
          "output_type": "execute_result",
          "data": {
            "text/plain": [
              "post_id     0\n",
              "title       0\n",
              "category    0\n",
              "type        0\n",
              "dtype: int64"
            ]
          },
          "metadata": {},
          "execution_count": 15
        }
      ]
    },
    {
      "cell_type": "markdown",
      "metadata": {
        "id": "j_Ci5YuEtoNK"
      },
      "source": [
        "2.1.6 Melihat nilai unik dari fitur `category` untuk mengetahui seberapa banyak variasi kategori postingan."
      ]
    },
    {
      "cell_type": "code",
      "metadata": {
        "colab": {
          "base_uri": "https://localhost:8080/"
        },
        "id": "NmWr1N7sttCK",
        "outputId": "e2b57faa-ca95-40d3-b405-8ae39c5c23aa"
      },
      "source": [
        "unique_category = posts['category'].unique()\n",
        "print('Jumlah nilai unik dari fitur \"category\":', len(unique_category))\n",
        "print('\\nDaftar nilai unik dari fitur \"category\":')\n",
        "print(unique_category.tolist())"
      ],
      "execution_count": null,
      "outputs": [
        {
          "output_type": "stream",
          "name": "stdout",
          "text": [
            "Jumlah nilai unik dari fitur \"category\": 232\n",
            "\n",
            "Daftar nilai unik dari fitur \"category\":\n",
            "['Plant Biotechnology', 'Artificial Intelligence|Machine Learning|Information Technology', 'Operating Systems', 'Drawings', 'Competition Laws', 'Eco System', 'Economic Policies', 'Graphic|Graphic Design', 'Painting', 'Pen and ink', 'Computer Technology|Information Technology', 'Drawings|Painting', 'Graphic Design|Visual Arts|Illustration|Graphic', 'Drawings|Calligraphy', 'Photography', 'Empowerment', 'Uncategorized', 'Video editing', 'Inorganic Chemistry', 'Programming languages', 'Conceptual|Graphic Design', 'HR Management', 'Human Resources|HR Management', 'Mass Media|International Relations', 'Sculptures|Artistic design', 'Fashion Design|Ceramics|Artistic design', 'Craft|Artistic design', 'Fashion Design|Visual Arts|Conceptual|Artistic design', 'Photography|Fashion Design|Visual Arts|Graphic Design|Artistic design', 'Fashion Design|Visual Arts|Graphic Design|Artistic design|Graphic|Illustration', 'Mathematics|Linear Algebra', 'Electronics & electrical Technology|Electrical Machines', 'Auditing|Internal Audit', 'E Commerce|E Transactions', 'Computer Technology|Computation', 'Auditing|Internal Financial Control', 'Taxation|Custom Laws', 'Auditing|Audit Evidence', 'Taxation|GST', 'Taxation|Direct Tax', 'Auditing|Secratarial Audit', 'Banking|Banking Companies', 'Banking|Banking Technology', 'Auditing|Audit Remark', 'Auditing|Cost Audit', 'Auditing|Statuary Audit', 'Computer Technology|Programming languages', 'Legal Studies|Legal System', 'Sports Coaching|Sports Law', 'Economics|Economics Sociology', 'Economics|Revenue Concept', 'Human Rights|Rights and Duties', 'Sociology|Sociology of Religion', 'Sociology|Sociology in India', 'Political Science|International Politics', 'Political Science|Colonialism In India', 'Legal Studies|Labor Law', 'Computer Technology|Design and Analysis of Algorithms|Programming languages', 'Computer Technology|Computer Application|Programming languages|Information Technology', 'Graphics|Computer Creation', 'E Commerce|Other Online Platforms', 'Drawing', 'Drawings|Artistic design', 'Drawings|Artistic design|Illustration', 'E Commerce|Shopping Platform|Other Online Platforms', 'Computer Technology|Hardware|Information Technology', 'Computer Technology|Computation|Computer Application', 'Business|Business Skills', 'Computer Technology|Computer Application|Hardware|Information Technology', 'Computer Technology|Computer Application', 'Computer Technology|Mobile Applications', 'Computer Technology|Computer Application|Operating Systems', 'Computer Technology|Information Technology|Computer Application', 'Computer Technology|Computer Application|Information Technology', 'Communication|Basics of Communiaction', 'Drawings|Painting|Visual Arts|Graphic Design|Prints|Illustration', 'Drawings|Visual Arts|Painting|Graphic Design|Artistic design|Illustration', 'Computer Technology|Artificial Intelligence', 'Marketing|Advertising', 'Political Science|Political Thought', 'Accounting|Fundamental Of Accounting', 'Mixed Media', 'Management|Team Mangememnt', 'Business|Corporate Social Responsibilities', 'Philosophy|Applied Ethics', 'Human Resources|Performance In Organization|Organizational Behaviour|HR Management', 'Fashion Desigining|Fashion Textile|Fashion Manufacturing|Fashion Techniques|Garment Production|Garment Technology', 'Marketing|Promotion And Distribution Decisions', 'Biotechnology|Genetic Engineering', 'Physiology|Neurology', 'Mass Media|Indian Government', 'Physiology|Osteology', 'Physiology|Cardiology', 'Zoology|Ecology', 'Computer Technology|Cloud Computing', 'Physiology|Radiology', 'Computer Technology|Operating Systems', 'Biotechnology|Molecular Biology', 'Physiology|Gastroenterology|Cardiology', 'Philosophy|Logic', 'Watercolours', 'Drawings|Watercolours', 'Mixed Media|Conceptual', 'Drawings|Painting|Watercolours', 'Visual Arts', 'Conceptual', 'Tapestry', 'Calligraphy', 'Human Resources|Performance In Organization', 'Computer Technology|Robotics|Data Science|Information Technology|Artificial Intelligence', 'Philosophy|Public Philosophy', 'Digital Marketing', 'Mass Media|Videography', 'Drawings|Painting|Visual Arts|Artistic design|Watercolours|Acrylics', 'Biotechnology|Plant Biotechnology', 'Sports Coaching|Sports Event', 'Political Science|Government and Politics', 'Geography|Physical Geography', 'Computer Technology|Data Science', 'Computer Technology|Machine Learning', 'Graphic Design', 'Graphic Design|Visual Arts', 'Education', 'Business|Business Organisation', 'Zoology|Environmental Biology', 'Human Rights|Fundamental Rights', 'Computer Technology|Design and Analysis of Algorithms', 'Marketing|Marketing Management', 'Accounting|Partnership Accounting|Corporate Accounting|Accounting Theory And Practices', 'Legal Studies|Income Tax Laws', 'Graphics|Articulation|Computer Creation', 'Archeology|Human Prehistory', 'Business|Start Ups|Entreperneurship|Business Strategies|Venture Capitalist|Business Planning', 'Geography|Indian Geography', 'E Commerce|Shopping Platform|Other Online Platforms|Digital India', 'Business|Bio-entrepreneurship', 'Literature|Stories', 'History|Indian History', 'ViDEO', 'Management|Business Management', 'Visual Arts|Photography', 'Social Work|Health Education', 'Social Work|Social Tech', 'Social Work|Humanities', 'Photography|Visual Arts', 'Accounting|Financial Accounting', 'Psycholgy|Social Psychology', 'Photography|Conceptual', 'Physics|Instrumentation', 'Craft work', 'Social Work|Social Interventions|Substance Abuse', 'Economics|Indian Economy', 'Social Work|Substance Abuse|Social Interventions|Humanities', 'Social Work|Social Interventions|Substance Abuse|Health Education', 'Social Work|Humanities|Social Interventions', 'Finance|Financial Analysis', 'Architecture', 'Photography|Architecture|Painting', 'Computer Technology|Cloud Computing|Artificial Intelligence|Information Technology|Programming languages', 'Computer Technology|Design and Analysis of Algorithms|Web designing|Database Management|Artificial Intelligence', 'Literature|Movements in Literature', 'Physics|Atomic Physics|Energy Physics|Quantum Mecahnics|Instrumentation', 'Business|Business Strategies|Venture Capitalist', 'Photography|Architecture|Illustration', 'Photography|Architecture', 'Human Rights|Fundamental Rights|Protection & Enforcement', 'Environment Studies|Pollution|Environmental Biology', 'Photography|Conceptual|Illustration', 'Physics|Quantum Mecahnics|Industrial Instrumentation|Atomic Physics|Nuclear & Particle Physics|Energy Physics', 'Biotechnology|Environmental Biotechnology', 'Legal Studies|Alternate Dispute Resolution|International Treaties|International Agreement', 'Marketing|Principles Of Marketing|Marketing Research Methadology|Marketing Management|International Marketing', 'Sculptures', 'Psycholgy|Child Development', 'Economics|Economic Policies|Break even Point|Foreign Economy', 'Psycholgy|Psychological Growth', 'Management|Business Management|Technology Mangement|Managerial Activity|Creative And Lateral Management', 'Business', 'Business|Business Strategies|Business Enviorment|New Venture Planning|Foreign Business|Business Organisation', 'Marketing|Principles Of Marketing|International Marketing|Promotion And Distribution Decisions', 'Social Work|NGO', 'Fine Arts|Painting', 'Legal Studies|Legal System|Legal Tradition|Nationality Law|Government Law', 'Business|Entreperneurship|Venture Capitalist|Business Enviorment|Start Ups|Business Planning|New Venture Planning', 'Legal Studies|Company Law|Legal System|Banking Law', 'Computer Technology|Web designing|Artificial Intelligence|Computer Application|Machine Learning|Frontend Development', 'Music', 'Sculptures|Wood Crafts|Craft|Wood carving', 'Fashion Design', 'Painting|Craft|Artistic design', '2D Composition|Watercolours|Painting', 'Painting|Watercolours|2D Composition', 'Visual Arts|Craft|Conceptual', 'Painting|Visual Arts|Craft|Conceptual', 'Painting|Craft|Mixed Media|2D Composition', 'Visual Arts|Craft|Mixed Media|Conceptual|Mosaic painting', 'Craft|Drawings|Conceptual|2D Composition', 'Craft|Mixed Media|Conceptual|Mosaic painting|2D Composition', 'Video', 'Fashion Desigining|Fashion Illustration|Pattern Cutting|Fashion Communication', 'Biotechnology|Animal Biotechnology', 'Fashion Desigining|Pattern & Culture|Fashion Trends|Fashion Portfoilio', 'Sketch Video', 'Fashion Desigining|Pattern & Culture|Fashion Textile|Fashion Trends', 'Test', 'Professionalism', 'Art', 'Science;Technology', 'Art; Science', 'Fashion Design|Illustration|Watercolours|Drawings', 'Drawings|Fashion Design|Illustration|Watercolours', 'Fashion Design|Illustration|Watercolours', 'Drawings|Fashion Design|Mixed Media|Conceptual|Illustration|Pen and ink|Watercolours', 'Fashion Design|Illustration|Conceptual|Watercolours|Pen and ink', 'Artistic design|Logo Design|Graphic|Illustration', 'Visual Arts|Graphic Design|Artistic design|Graphic|Illustration', 'Learning', 'Photography|Architecture|Visual Arts|Graphic Design', 'Photography|Architecture|Visual Arts|Graphic Design|Artistic design|Graphic|Logo Design', 'Visual Arts|Graphic Design|2D Composition|Logo Design', 'Artistic design', 'Literature|Stories|Fictions|Movements in Literature', 'Technology', 'Computer Technology|Computation|Computer Application|Cloud Computing', 'Visual Arts|Calligraphy|Pen and ink', 'Mixed Media|Calligraphy|Pen and ink', 'Typography|Pen and ink', 'Typography|Calligraphy|Pen and ink', 'Calligraphy|Typography|Pen and ink', 'Calligraphy|Pen and ink', 'Mass Media|Media And Society', 'Science; Technology']\n"
          ]
        }
      ]
    },
    {
      "cell_type": "markdown",
      "metadata": {
        "id": "21-nQ7-QtxJ1"
      },
      "source": [
        "2.1.7 Melihat nilai unik dari fitur `type` untuk mengetahui seberapa banyak variasi jenis postingan."
      ]
    },
    {
      "cell_type": "code",
      "metadata": {
        "colab": {
          "base_uri": "https://localhost:8080/"
        },
        "id": "aHpuY3uDtz3L",
        "outputId": "c50da514-21f1-487f-a601-3899cc6f6bad"
      },
      "source": [
        "unique_type = posts['type'].unique()\n",
        "print('Jumlah nilai unik dari fitur \"type\":', len(unique_type))\n",
        "print('\\nDaftar nilai unik dari fitur \"type\":')\n",
        "print(unique_type.tolist())"
      ],
      "execution_count": null,
      "outputs": [
        {
          "output_type": "stream",
          "name": "stdout",
          "text": [
            "Jumlah nilai unik dari fitur \"type\": 4\n",
            "\n",
            "Daftar nilai unik dari fitur \"type\":\n",
            "['blog', 'artwork', 'project', 'skill']\n"
          ]
        }
      ]
    },
    {
      "cell_type": "markdown",
      "metadata": {
        "id": "gRkjpt7wm7Wr"
      },
      "source": [
        "2.1.8 Mengecek apakah terdapat sampel duplikat berdasarkan fitur `post_id`. Apabila terdapat sampel duplikat maka sampel duplikatnya harus dihapus sehingga hanya menyisakan satu sampel."
      ]
    },
    {
      "cell_type": "code",
      "metadata": {
        "colab": {
          "base_uri": "https://localhost:8080/"
        },
        "id": "_XVbTHw1m-xZ",
        "outputId": "c5770585-bd57-4e5e-bd0a-fd9f3d53a3c0"
      },
      "source": [
        "total_unique_id = len(posts['post_id'].unique())\n",
        "total_sample = len(posts)\n",
        "status = 'Tidak ada' if total_unique_id == total_sample else 'Ada'\n",
        "\n",
        "print('Status:', status, 'duplikat')\n",
        "print('Jumlah \"post_id\" unik:', total_unique_id)\n",
        "print('Jumlah sampel:', total_sample)"
      ],
      "execution_count": null,
      "outputs": [
        {
          "output_type": "stream",
          "name": "stdout",
          "text": [
            "Status: Tidak ada duplikat\n",
            "Jumlah \"post_id\" unik: 493\n",
            "Jumlah sampel: 493\n"
          ]
        }
      ]
    },
    {
      "cell_type": "markdown",
      "metadata": {
        "id": "FqU32vjMngdv"
      },
      "source": [
        "#### 2.1.9 Analisis Univariat"
      ]
    },
    {
      "cell_type": "markdown",
      "metadata": {
        "id": "-v42Fw4xnlpR"
      },
      "source": [
        "2.1.9.1 Melakukan visualisasi distribusi dari fitur `type` untuk mengetahui bagaimana persebaran jenis postingan."
      ]
    },
    {
      "cell_type": "code",
      "metadata": {
        "colab": {
          "base_uri": "https://localhost:8080/",
          "height": 563
        },
        "id": "3WCIu95Knk7L",
        "outputId": "5bc19df6-49ff-4f78-b400-328475198693"
      },
      "source": [
        "type_counts = posts['type'].value_counts()\n",
        "type_labels = type_counts.index\n",
        "type_percentage = 100 * posts['type'].value_counts(normalize=True)\n",
        "type_df = pd.DataFrame({'Jumlah': type_counts,\n",
        "                        'Persentase': type_percentage.round(2)})\n",
        "\n",
        "print('Distribusi Jenis Postingan')\n",
        "print('-' * 50)\n",
        "print(type_df)\n",
        "print()\n",
        "\n",
        "plt.figure(figsize=(7, 7))\n",
        "plt.pie(type_counts, labels=type_labels, autopct='%1.2f%%',\n",
        "        colors=['orange', 'limegreen', 'royalblue', 'red'])\n",
        "plt.title('Distribusi Jenis Postingan', fontweight='bold')\n",
        "plt.show()"
      ],
      "execution_count": null,
      "outputs": [
        {
          "output_type": "stream",
          "name": "stdout",
          "text": [
            "Distribusi Jenis Postingan\n",
            "--------------------------------------------------\n",
            "         Jumlah  Persentase\n",
            "artwork     241       48.88\n",
            "blog        198       40.16\n",
            "skill        27        5.48\n",
            "project      27        5.48\n",
            "\n"
          ]
        },
        {
          "output_type": "display_data",
          "data": {
            "image/png": "[encoded data removed]",
            "text/plain": [
              "<Figure size 504x504 with 1 Axes>"
            ]
          },
          "metadata": {}
        }
      ]
    },
    {
      "cell_type": "markdown",
      "metadata": {
        "id": "DXUJoT1vKCyK"
      },
      "source": [
        "**Penjelasan:**\n",
        "\n",
        "Jenis postingan didominasi oleh *artwork* (karya seni) dengan jumlah postingan sebanyak 241 (48,88%) dan blog dengan jumlah postingan sebanyak 198 (40,16%). Sisanya, jenis postingan *skill* (keahlian) dan *project* (proyek) masing-masing memiliki postingan sebanyak 27 (5,48%). Jadi, data postingan memiliki jumlah postingan yang hampir seimbang antara postingan yang cenderung non-ilmiah (karya seni dan keahlian) dengan postingan yang cenderung ilmiah (blog dan proyek)."
      ]
    },
    {
      "cell_type": "markdown",
      "metadata": {
        "id": "GOMl9_r-Rj9l"
      },
      "source": [
        "### 2.2 Data Pengguna (`users.csv`)"
      ]
    },
    {
      "cell_type": "markdown",
      "metadata": {
        "id": "-eYWeFU-px0j"
      },
      "source": [
        "2.2.1 Melihat isi data pengguna yang berada di dalam berkas `users.csv` dengan [pandas](https://pandas.pydata.org) untuk mengenali dan memahami setiap informasi di dalamnya, terutama informasi pada sampel, fitur, dan nilai."
      ]
    },
    {
      "cell_type": "code",
      "metadata": {
        "colab": {
          "base_uri": "https://localhost:8080/",
          "height": 419
        },
        "id": "BCx9oa5HpzFG",
        "outputId": "19a52de1-3d43-4595-c9fd-aa7d5161dff3"
      },
      "source": [
        "users = pd.read_csv('users.csv')\n",
        "users"
      ],
      "execution_count": null,
      "outputs": [
        {
          "output_type": "execute_result",
          "data": {
            "text/html": [
              "<div>\n",
              "<style scoped>\n",
              "    .dataframe tbody tr th:only-of-type {\n",
              "        vertical-align: middle;\n",
              "    }\n",
              "\n",
              "    .dataframe tbody tr th {\n",
              "        vertical-align: top;\n",
              "    }\n",
              "\n",
              "    .dataframe thead th {\n",
              "        text-align: right;\n",
              "    }\n",
              "</style>\n",
              "<table border=\"1\" class=\"dataframe\">\n",
              "  <thead>\n",
              "    <tr style=\"text-align: right;\">\n",
              "      <th></th>\n",
              "      <th>_id</th>\n",
              "      <th>name</th>\n",
              "      <th>gender</th>\n",
              "      <th>academics</th>\n",
              "    </tr>\n",
              "  </thead>\n",
              "  <tbody>\n",
              "    <tr>\n",
              "      <th>0</th>\n",
              "      <td>5d60098a653a331687083238</td>\n",
              "      <td>Nivesh Singh Chauhan</td>\n",
              "      <td>male</td>\n",
              "      <td>undergraduate</td>\n",
              "    </tr>\n",
              "    <tr>\n",
              "      <th>1</th>\n",
              "      <td>5d610ae1653a331687083239</td>\n",
              "      <td>Gaurav Sharma</td>\n",
              "      <td>male</td>\n",
              "      <td>graduate</td>\n",
              "    </tr>\n",
              "    <tr>\n",
              "      <th>2</th>\n",
              "      <td>5d618359fc5fcf3bdd9a0910</td>\n",
              "      <td>Akshay Mishra</td>\n",
              "      <td>male</td>\n",
              "      <td>undergraduate</td>\n",
              "    </tr>\n",
              "    <tr>\n",
              "      <th>3</th>\n",
              "      <td>5d6d2bb87fa40e1417a49315</td>\n",
              "      <td>Saksham Mathur</td>\n",
              "      <td>male</td>\n",
              "      <td>undergraduate</td>\n",
              "    </tr>\n",
              "    <tr>\n",
              "      <th>4</th>\n",
              "      <td>5d7c994d5720533e15c3b1e9</td>\n",
              "      <td>Varun Chowhan</td>\n",
              "      <td>male</td>\n",
              "      <td>undergraduate</td>\n",
              "    </tr>\n",
              "    <tr>\n",
              "      <th>...</th>\n",
              "      <td>...</td>\n",
              "      <td>...</td>\n",
              "      <td>...</td>\n",
              "      <td>...</td>\n",
              "    </tr>\n",
              "    <tr>\n",
              "      <th>113</th>\n",
              "      <td>5ed35aa376027d35905cca67</td>\n",
              "      <td>Steve</td>\n",
              "      <td>male</td>\n",
              "      <td>graduate</td>\n",
              "    </tr>\n",
              "    <tr>\n",
              "      <th>114</th>\n",
              "      <td>5ed3737976027d35905ccaa2</td>\n",
              "      <td>Himanshu Singh</td>\n",
              "      <td>male</td>\n",
              "      <td>undergraduate</td>\n",
              "    </tr>\n",
              "    <tr>\n",
              "      <th>115</th>\n",
              "      <td>5ed3748576027d35905ccaab</td>\n",
              "      <td>Parth Vijay</td>\n",
              "      <td>male</td>\n",
              "      <td>undergraduate</td>\n",
              "    </tr>\n",
              "    <tr>\n",
              "      <th>116</th>\n",
              "      <td>5ed3cbcbbd514d602c1530a7</td>\n",
              "      <td>Abhishek Mishra</td>\n",
              "      <td>male</td>\n",
              "      <td>undergraduate</td>\n",
              "    </tr>\n",
              "    <tr>\n",
              "      <th>117</th>\n",
              "      <td>5ed3e898bd514d602c1530de</td>\n",
              "      <td>gauri raskar</td>\n",
              "      <td>female</td>\n",
              "      <td>graduate</td>\n",
              "    </tr>\n",
              "  </tbody>\n",
              "</table>\n",
              "<p>118 rows × 4 columns</p>\n",
              "</div>"
            ],
            "text/plain": [
              "                          _id                  name  gender      academics\n",
              "0    5d60098a653a331687083238  Nivesh Singh Chauhan    male  undergraduate\n",
              "1    5d610ae1653a331687083239         Gaurav Sharma    male       graduate\n",
              "2    5d618359fc5fcf3bdd9a0910         Akshay Mishra    male  undergraduate\n",
              "3    5d6d2bb87fa40e1417a49315        Saksham Mathur    male  undergraduate\n",
              "4    5d7c994d5720533e15c3b1e9         Varun Chowhan    male  undergraduate\n",
              "..                        ...                   ...     ...            ...\n",
              "113  5ed35aa376027d35905cca67                 Steve    male       graduate\n",
              "114  5ed3737976027d35905ccaa2        Himanshu Singh    male  undergraduate\n",
              "115  5ed3748576027d35905ccaab           Parth Vijay    male  undergraduate\n",
              "116  5ed3cbcbbd514d602c1530a7       Abhishek Mishra    male  undergraduate\n",
              "117  5ed3e898bd514d602c1530de          gauri raskar  female       graduate\n",
              "\n",
              "[118 rows x 4 columns]"
            ]
          },
          "metadata": {},
          "execution_count": 21
        }
      ]
    },
    {
      "cell_type": "markdown",
      "metadata": {
        "id": "fw1sIzWAb00x"
      },
      "source": [
        "**Penjelasan:**\n",
        "\n",
        "Data pengguna memiliki jumlah sampel (baris) sebanyak 118 sampel dan jumlah fitur (kolom) sebanyak 4 fitur. Berikut adalah penjelasan dari masing-masing fitur pada data pengguna.\n",
        "\n",
        "1. `_id`, yaitu teks identifikasi unik yang dimiliki setiap pengguna. Fitur ini memiliki nilai berupa teks identifikasi unik pengguna dengan tipe data `string`.\n",
        "2. `name`, yaitu nama pengguna. Fitur ini memiliki nilai berupa nama pengguna dengan tipe data `string`.\n",
        "3. `gender`, yaitu jenis kelamin pengguna. Fitur ini memiliki nilai berupa jenis kelamin pengguna dengan tipe data `string`.\n",
        "4. `academics`, yaitu tingkat pendidikan pengguna. Fitur ini memiliki nilai berupa tingkat pendidikan pengguna dengan tipe data `string`."
      ]
    },
    {
      "cell_type": "markdown",
      "metadata": {
        "id": "zAZTFWo8qE7B"
      },
      "source": [
        "2.2.2 Melihat informasi dari setiap fitur untuk mengetahui apakah terdapat kejanggalan atau tidak."
      ]
    },
    {
      "cell_type": "code",
      "metadata": {
        "colab": {
          "base_uri": "https://localhost:8080/"
        },
        "id": "Fxjf0vWTqHE4",
        "outputId": "f4a9de42-518e-46f6-d1b6-0241597250d9"
      },
      "source": [
        "users.info()"
      ],
      "execution_count": null,
      "outputs": [
        {
          "output_type": "stream",
          "name": "stdout",
          "text": [
            "<class 'pandas.core.frame.DataFrame'>\n",
            "RangeIndex: 118 entries, 0 to 117\n",
            "Data columns (total 4 columns):\n",
            " #   Column     Non-Null Count  Dtype \n",
            "---  ------     --------------  ----- \n",
            " 0   _id        118 non-null    object\n",
            " 1   name       118 non-null    object\n",
            " 2   gender     118 non-null    object\n",
            " 3   academics  118 non-null    object\n",
            "dtypes: object(4)\n",
            "memory usage: 3.8+ KB\n"
          ]
        }
      ]
    },
    {
      "cell_type": "markdown",
      "metadata": {
        "id": "2cTIdpjJdD8q"
      },
      "source": [
        "Berdasarkan keluaran tersebut, semua fitur tidak memiliki kejanggalan pada informasinya."
      ]
    },
    {
      "cell_type": "markdown",
      "metadata": {
        "id": "vIllQL31qL79"
      },
      "source": [
        "2.2.3 Mengganti nama fitur `_id` menjadi `user_id` agar dalam pengodean tidak tertukar dengan fitur `_id` milik data postingan."
      ]
    },
    {
      "cell_type": "code",
      "metadata": {
        "colab": {
          "base_uri": "https://localhost:8080/",
          "height": 204
        },
        "id": "j7eYZPFOqN3S",
        "outputId": "7453961b-762b-4621-8ade-acd9dfc0fb00"
      },
      "source": [
        "users = users.rename(columns={'_id': 'user_id'})\n",
        "users.head()"
      ],
      "execution_count": null,
      "outputs": [
        {
          "output_type": "execute_result",
          "data": {
            "text/html": [
              "<div>\n",
              "<style scoped>\n",
              "    .dataframe tbody tr th:only-of-type {\n",
              "        vertical-align: middle;\n",
              "    }\n",
              "\n",
              "    .dataframe tbody tr th {\n",
              "        vertical-align: top;\n",
              "    }\n",
              "\n",
              "    .dataframe thead th {\n",
              "        text-align: right;\n",
              "    }\n",
              "</style>\n",
              "<table border=\"1\" class=\"dataframe\">\n",
              "  <thead>\n",
              "    <tr style=\"text-align: right;\">\n",
              "      <th></th>\n",
              "      <th>user_id</th>\n",
              "      <th>name</th>\n",
              "      <th>gender</th>\n",
              "      <th>academics</th>\n",
              "    </tr>\n",
              "  </thead>\n",
              "  <tbody>\n",
              "    <tr>\n",
              "      <th>0</th>\n",
              "      <td>5d60098a653a331687083238</td>\n",
              "      <td>Nivesh Singh Chauhan</td>\n",
              "      <td>male</td>\n",
              "      <td>undergraduate</td>\n",
              "    </tr>\n",
              "    <tr>\n",
              "      <th>1</th>\n",
              "      <td>5d610ae1653a331687083239</td>\n",
              "      <td>Gaurav Sharma</td>\n",
              "      <td>male</td>\n",
              "      <td>graduate</td>\n",
              "    </tr>\n",
              "    <tr>\n",
              "      <th>2</th>\n",
              "      <td>5d618359fc5fcf3bdd9a0910</td>\n",
              "      <td>Akshay Mishra</td>\n",
              "      <td>male</td>\n",
              "      <td>undergraduate</td>\n",
              "    </tr>\n",
              "    <tr>\n",
              "      <th>3</th>\n",
              "      <td>5d6d2bb87fa40e1417a49315</td>\n",
              "      <td>Saksham Mathur</td>\n",
              "      <td>male</td>\n",
              "      <td>undergraduate</td>\n",
              "    </tr>\n",
              "    <tr>\n",
              "      <th>4</th>\n",
              "      <td>5d7c994d5720533e15c3b1e9</td>\n",
              "      <td>Varun Chowhan</td>\n",
              "      <td>male</td>\n",
              "      <td>undergraduate</td>\n",
              "    </tr>\n",
              "  </tbody>\n",
              "</table>\n",
              "</div>"
            ],
            "text/plain": [
              "                    user_id                  name gender      academics\n",
              "0  5d60098a653a331687083238  Nivesh Singh Chauhan   male  undergraduate\n",
              "1  5d610ae1653a331687083239         Gaurav Sharma   male       graduate\n",
              "2  5d618359fc5fcf3bdd9a0910         Akshay Mishra   male  undergraduate\n",
              "3  5d6d2bb87fa40e1417a49315        Saksham Mathur   male  undergraduate\n",
              "4  5d7c994d5720533e15c3b1e9         Varun Chowhan   male  undergraduate"
            ]
          },
          "metadata": {},
          "execution_count": 23
        }
      ]
    },
    {
      "cell_type": "markdown",
      "metadata": {
        "id": "uSLN7Swcqlif"
      },
      "source": [
        "2.2.4 Melihat jumlah nilai kosong dari setiap fitur. Apabila suatu fitur memiliki nilai kosong maka nilai tersebut harus diperbaiki."
      ]
    },
    {
      "cell_type": "code",
      "metadata": {
        "colab": {
          "base_uri": "https://localhost:8080/"
        },
        "id": "9uiIaadDqnaQ",
        "outputId": "e1e0dfe0-9efd-4fdd-900b-d183b0100264"
      },
      "source": [
        "print('Jumlah nilai kosong:')\n",
        "users.isna().sum()"
      ],
      "execution_count": null,
      "outputs": [
        {
          "output_type": "stream",
          "name": "stdout",
          "text": [
            "Jumlah nilai kosong:\n"
          ]
        },
        {
          "output_type": "execute_result",
          "data": {
            "text/plain": [
              "user_id      0\n",
              "name         0\n",
              "gender       0\n",
              "academics    0\n",
              "dtype: int64"
            ]
          },
          "metadata": {},
          "execution_count": 24
        }
      ]
    },
    {
      "cell_type": "markdown",
      "metadata": {
        "id": "Lwja1WzOtNWX"
      },
      "source": [
        "2.2.5 Melihat nilai unik dari fitur `gender` untuk mengetahui seberapa banyak variasi jenis kelamin pengguna."
      ]
    },
    {
      "cell_type": "code",
      "metadata": {
        "colab": {
          "base_uri": "https://localhost:8080/"
        },
        "id": "vvHCPWPYtRVv",
        "outputId": "27a86a45-65f5-417e-ac59-122306fe884b"
      },
      "source": [
        "unique_gender = users['gender'].unique()\n",
        "print('Jumlah nilai unik dari fitur \"gender\":', len(unique_gender))\n",
        "print('\\nDaftar nilai unik dari fitur \"gender\":')\n",
        "print(unique_gender.tolist())"
      ],
      "execution_count": null,
      "outputs": [
        {
          "output_type": "stream",
          "name": "stdout",
          "text": [
            "Jumlah nilai unik dari fitur \"gender\": 3\n",
            "\n",
            "Daftar nilai unik dari fitur \"gender\":\n",
            "['male', 'female', 'undefined']\n"
          ]
        }
      ]
    },
    {
      "cell_type": "markdown",
      "metadata": {
        "id": "VU6TnGzotWrt"
      },
      "source": [
        "2.2.6 Melihat nilai unik dari fitur `academics` untuk mengetahui seberapa banyak variasi tingkat pendidikan pengguna."
      ]
    },
    {
      "cell_type": "code",
      "metadata": {
        "colab": {
          "base_uri": "https://localhost:8080/"
        },
        "id": "0bM0OZSntZ69",
        "outputId": "58f31c6f-3cbb-44fd-8733-9e375e59b636"
      },
      "source": [
        "unique_academics = users['academics'].unique()\n",
        "print('Jumlah nilai unik dari fitur \"academics\":', len(unique_academics))\n",
        "print('\\nDaftar nilai unik dari fitur \"academics\":')\n",
        "print(unique_academics.tolist())"
      ],
      "execution_count": null,
      "outputs": [
        {
          "output_type": "stream",
          "name": "stdout",
          "text": [
            "Jumlah nilai unik dari fitur \"academics\": 3\n",
            "\n",
            "Daftar nilai unik dari fitur \"academics\":\n",
            "['undergraduate', 'graduate', 'undefined']\n"
          ]
        }
      ]
    },
    {
      "cell_type": "markdown",
      "metadata": {
        "id": "QdCniF44qsIE"
      },
      "source": [
        "2.2.7 Mengecek apakah terdapat sampel duplikat berdasarkan fitur `user_id`. Apabila terdapat sampel duplikat maka sampel duplikatnya harus dihapus sehingga hanya menyisakan satu sampel."
      ]
    },
    {
      "cell_type": "code",
      "metadata": {
        "colab": {
          "base_uri": "https://localhost:8080/"
        },
        "id": "S7aFP5yTqy7K",
        "outputId": "a4e8e53d-365f-4f59-de0d-e0eed775336e"
      },
      "source": [
        "total_unique_id = len(users['user_id'].unique())\n",
        "total_sample = len(users)\n",
        "status = 'Tidak ada' if total_unique_id == total_sample else 'Ada'\n",
        "\n",
        "print('Status:', status, 'duplikat')\n",
        "print('Jumlah \"user_id\" unik:', total_unique_id)\n",
        "print('Jumlah sampel:', total_sample)"
      ],
      "execution_count": null,
      "outputs": [
        {
          "output_type": "stream",
          "name": "stdout",
          "text": [
            "Status: Tidak ada duplikat\n",
            "Jumlah \"user_id\" unik: 118\n",
            "Jumlah sampel: 118\n"
          ]
        }
      ]
    },
    {
      "cell_type": "markdown",
      "metadata": {
        "id": "9tYYFLMKq5sp"
      },
      "source": [
        "#### 2.2.8 Analisis Univariat"
      ]
    },
    {
      "cell_type": "markdown",
      "metadata": {
        "id": "SCtXxJZvq-Ju"
      },
      "source": [
        "2.2.8.1 Melakukan visualisasi distribusi dari fitur `gender` untuk mengetahui bagaimana persebaran jenis kelamin pengguna."
      ]
    },
    {
      "cell_type": "code",
      "metadata": {
        "colab": {
          "base_uri": "https://localhost:8080/",
          "height": 546
        },
        "id": "BZX3YiBzq7-H",
        "outputId": "7f8c5394-e6e4-457b-d2e4-2a598ce9fa26"
      },
      "source": [
        "gender_counts = users['gender'].value_counts()\n",
        "gender_labels = gender_counts.index\n",
        "gender_percentage = 100 * users['gender'].value_counts(normalize=True)\n",
        "gender_df = pd.DataFrame({'Jumlah': gender_counts,\n",
        "                          'Persentase': gender_percentage.round(2)})\n",
        "\n",
        "print('Distribusi Jenis Kelamin Pengguna')\n",
        "print('-' * 50)\n",
        "print(gender_df)\n",
        "print()\n",
        "\n",
        "plt.figure(figsize=(7, 7))\n",
        "plt.pie(gender_counts, labels=gender_labels, autopct='%1.2f%%',\n",
        "        colors=['orange', 'limegreen', 'royalblue'])\n",
        "plt.title('Distribusi Jenis Kelamin Pengguna', fontweight='bold')\n",
        "plt.show()"
      ],
      "execution_count": null,
      "outputs": [
        {
          "output_type": "stream",
          "name": "stdout",
          "text": [
            "Distribusi Jenis Kelamin Pengguna\n",
            "--------------------------------------------------\n",
            "           Jumlah  Persentase\n",
            "male           72       61.02\n",
            "female         44       37.29\n",
            "undefined       2        1.69\n",
            "\n"
          ]
        },
        {
          "output_type": "display_data",
          "data": {
            "image/png": "[encoded data removed]",
            "text/plain": [
              "<Figure size 504x504 with 1 Axes>"
            ]
          },
          "metadata": {}
        }
      ]
    },
    {
      "cell_type": "markdown",
      "metadata": {
        "id": "5-b9DeEcgN0H"
      },
      "source": [
        "**Penjelasan:**\n",
        "\n",
        "Jenis kelamin pengguna didominasi oleh *male* (laki-laki) dengan jumlah pengguna sebanyak 72 (61,02%), sedangkan jumlah pengguna *female* (perempuan) sebanyak 44 (37,29%). Selain itu, terdapat juga 2 pengguna yang tidak mendefinisikan jenis kelaminnya (*undefined*). Jadi, data pengguna yang lebih banyak memiliki pengguna berjenis kelamin laki-laki dibandingkan perempuan memungkinkan daftar postingan yang sering dilihat lebih banyak bersifat laki-laki, seperti tentang teknologi, musik, olahraga, dan lainnya."
      ]
    },
    {
      "cell_type": "markdown",
      "metadata": {
        "id": "BbmFzxBHrlj5"
      },
      "source": [
        "2.2.8.2 Melakukan visualisasi distribusi dari fitur `academics` untuk mengetahui bagaimana persebaran tingkat pendidikan pengguna."
      ]
    },
    {
      "cell_type": "code",
      "metadata": {
        "colab": {
          "base_uri": "https://localhost:8080/",
          "height": 546
        },
        "id": "vQ_oiYvcrqHf",
        "outputId": "eb9744a8-9b67-4f78-c0e5-8243a18a70d5"
      },
      "source": [
        "academics_counts = users['academics'].value_counts()\n",
        "academics_labels = academics_counts.index\n",
        "academics_percentage = 100 * users['academics'].value_counts(normalize=True)\n",
        "academics_df = pd.DataFrame({'Jumlah': academics_counts,\n",
        "                             'Persentase': academics_percentage.round(2)})\n",
        "\n",
        "print('Distribusi Tingkat Pendidikan Pengguna')\n",
        "print('-' * 50)\n",
        "print(academics_df)\n",
        "print()\n",
        "\n",
        "plt.figure(figsize=(7, 7))\n",
        "plt.pie(academics_counts, labels=academics_labels, autopct='%1.2f%%',\n",
        "        colors=['orange', 'limegreen', 'royalblue'])\n",
        "plt.title('Distribusi Tingkat Pendidikan Pengguna', fontweight='bold')\n",
        "plt.show()"
      ],
      "execution_count": null,
      "outputs": [
        {
          "output_type": "stream",
          "name": "stdout",
          "text": [
            "Distribusi Tingkat Pendidikan Pengguna\n",
            "--------------------------------------------------\n",
            "               Jumlah  Persentase\n",
            "undergraduate      68       57.63\n",
            "graduate           48       40.68\n",
            "undefined           2        1.69\n",
            "\n"
          ]
        },
        {
          "output_type": "display_data",
          "data": {
            "image/png": "[encoded data removed]",
            "text/plain": [
              "<Figure size 504x504 with 1 Axes>"
            ]
          },
          "metadata": {}
        }
      ]
    },
    {
      "cell_type": "markdown",
      "metadata": {
        "id": "36fgvWOChEyH"
      },
      "source": [
        "**Penjelasan:**\n",
        "\n",
        "Tingkat pendidikan pengguna memiliki distribusi yang hampir imbang antara *undergraduate* (sarjana) dengan *graduate* (pascasarjana). Jumlah pengguna dengan tingkat pendidikan sarjana adalah 68 (57,63%), sedangkan jumlah pengguna dengan tingkat pendidikan pascasarjana adalah 48 (40,68%). Selain itu, terdapat juga 2 pengguna yang tidak mendefinisikan tingkat pendidikannya (*undefined*). Jadi, data pengguna didominasi oleh pengguna yang sedang/pernah berkuliah sehingga kemungkinan daftar postingan yang sering dilihat dari pengguna berkaitan dengan ilmu-ilmu keilmiahan."
      ]
    },
    {
      "cell_type": "markdown",
      "metadata": {
        "id": "CufZhPjYRpta"
      },
      "source": [
        "### 2.3 Data Tayangan (`views.csv`)"
      ]
    },
    {
      "cell_type": "markdown",
      "metadata": {
        "id": "zx6Gl3ZbsagT"
      },
      "source": [
        "2.3.1 Melihat isi data tayangan yang berada di dalam berkas `views.csv` dengan [pandas](https://pandas.pydata.org) untuk mengenali dan memahami setiap informasi di dalamnya, terutama informasi pada sampel, fitur, dan nilai."
      ]
    },
    {
      "cell_type": "code",
      "metadata": {
        "colab": {
          "base_uri": "https://localhost:8080/",
          "height": 419
        },
        "id": "FdtRL-Rtsd6Z",
        "outputId": "1c9136ba-09f0-4ab0-8b14-6e11db0b071b"
      },
      "source": [
        "views = pd.read_csv('views.csv')\n",
        "views"
      ],
      "execution_count": null,
      "outputs": [
        {
          "output_type": "execute_result",
          "data": {
            "text/html": [
              "<div>\n",
              "<style scoped>\n",
              "    .dataframe tbody tr th:only-of-type {\n",
              "        vertical-align: middle;\n",
              "    }\n",
              "\n",
              "    .dataframe tbody tr th {\n",
              "        vertical-align: top;\n",
              "    }\n",
              "\n",
              "    .dataframe thead th {\n",
              "        text-align: right;\n",
              "    }\n",
              "</style>\n",
              "<table border=\"1\" class=\"dataframe\">\n",
              "  <thead>\n",
              "    <tr style=\"text-align: right;\">\n",
              "      <th></th>\n",
              "      <th>user_id</th>\n",
              "      <th>post_id</th>\n",
              "      <th>timestamp</th>\n",
              "    </tr>\n",
              "  </thead>\n",
              "  <tbody>\n",
              "    <tr>\n",
              "      <th>0</th>\n",
              "      <td>5df49b32cc709107827fb3c7</td>\n",
              "      <td>5ec821ddec493f4a2655889e</td>\n",
              "      <td>2020-06-01T10:46:45.131Z</td>\n",
              "    </tr>\n",
              "    <tr>\n",
              "      <th>1</th>\n",
              "      <td>5ed3748576027d35905ccaab</td>\n",
              "      <td>5ed4cbadbd514d602c1531a6</td>\n",
              "      <td>2020-06-01T09:39:20.021Z</td>\n",
              "    </tr>\n",
              "    <tr>\n",
              "      <th>2</th>\n",
              "      <td>5ed0defa76027d35905cc2de</td>\n",
              "      <td>5eac305f10426255a7aa9dd3</td>\n",
              "      <td>2020-06-01T08:12:42.682Z</td>\n",
              "    </tr>\n",
              "    <tr>\n",
              "      <th>3</th>\n",
              "      <td>5ed0defa76027d35905cc2de</td>\n",
              "      <td>5ed1ff0276027d35905cc60d</td>\n",
              "      <td>2020-06-01T08:10:23.880Z</td>\n",
              "    </tr>\n",
              "    <tr>\n",
              "      <th>4</th>\n",
              "      <td>5ed0defa76027d35905cc2de</td>\n",
              "      <td>5ed3820f76027d35905ccac8</td>\n",
              "      <td>2020-06-01T08:08:54.124Z</td>\n",
              "    </tr>\n",
              "    <tr>\n",
              "      <th>...</th>\n",
              "      <td>...</td>\n",
              "      <td>...</td>\n",
              "      <td>...</td>\n",
              "    </tr>\n",
              "    <tr>\n",
              "      <th>1444</th>\n",
              "      <td>5d60098a653a331687083238</td>\n",
              "      <td>5e7a60edcfc8b713f5ac7d82</td>\n",
              "      <td>2020-03-26T19:03:55.284Z</td>\n",
              "    </tr>\n",
              "    <tr>\n",
              "      <th>1445</th>\n",
              "      <td>5d60098a653a331687083238</td>\n",
              "      <td>5e7a629ccfc8b713f5ac7d84</td>\n",
              "      <td>2020-03-26T19:01:42.384Z</td>\n",
              "    </tr>\n",
              "    <tr>\n",
              "      <th>1446</th>\n",
              "      <td>5d60098a653a331687083238</td>\n",
              "      <td>5e7b1e65cfc8b713f5ac7d90</td>\n",
              "      <td>2020-03-26T19:00:25.693Z</td>\n",
              "    </tr>\n",
              "    <tr>\n",
              "      <th>1447</th>\n",
              "      <td>5d60098a653a331687083238</td>\n",
              "      <td>5e7cc074cfc8b713f5ac7db0</td>\n",
              "      <td>2020-03-26T18:49:14.721Z</td>\n",
              "    </tr>\n",
              "    <tr>\n",
              "      <th>1448</th>\n",
              "      <td>5d60098a653a331687083238</td>\n",
              "      <td>5e1029f22a37d20505da2a79</td>\n",
              "      <td>2020-03-26T18:25:45.637Z</td>\n",
              "    </tr>\n",
              "  </tbody>\n",
              "</table>\n",
              "<p>1449 rows × 3 columns</p>\n",
              "</div>"
            ],
            "text/plain": [
              "                       user_id  ...                 timestamp\n",
              "0     5df49b32cc709107827fb3c7  ...  2020-06-01T10:46:45.131Z\n",
              "1     5ed3748576027d35905ccaab  ...  2020-06-01T09:39:20.021Z\n",
              "2     5ed0defa76027d35905cc2de  ...  2020-06-01T08:12:42.682Z\n",
              "3     5ed0defa76027d35905cc2de  ...  2020-06-01T08:10:23.880Z\n",
              "4     5ed0defa76027d35905cc2de  ...  2020-06-01T08:08:54.124Z\n",
              "...                        ...  ...                       ...\n",
              "1444  5d60098a653a331687083238  ...  2020-03-26T19:03:55.284Z\n",
              "1445  5d60098a653a331687083238  ...  2020-03-26T19:01:42.384Z\n",
              "1446  5d60098a653a331687083238  ...  2020-03-26T19:00:25.693Z\n",
              "1447  5d60098a653a331687083238  ...  2020-03-26T18:49:14.721Z\n",
              "1448  5d60098a653a331687083238  ...  2020-03-26T18:25:45.637Z\n",
              "\n",
              "[1449 rows x 3 columns]"
            ]
          },
          "metadata": {},
          "execution_count": 30
        }
      ]
    },
    {
      "cell_type": "markdown",
      "metadata": {
        "id": "J_9SsvMFnuN-"
      },
      "source": [
        "**Penjelasan:**\n",
        "\n",
        "Data tayangan memiliki jumlah sampel (baris) sebanyak 1.449 sampel dan jumlah fitur (kolom) sebanyak 3 fitur. Berikut adalah penjelasan dari masing-masing fitur pada data tayangan.\n",
        "\n",
        "1. `user_id`, yaitu teks identifikasi unik yang dimiliki setiap pengguna. Fitur ini memiliki nilai berupa teks identifikasi unik pengguna dengan tipe data `string`.\n",
        "2. `post_id`, yaitu teks identifikasi unik yang dimiliki setiap postingan. Fitur ini memiliki nilai berupa teks identifikasi unik postingan dengan tipe data `string`.\n",
        "3. `timestamp`, yaitu tanggal dan jam pengguna melihat postingan. Fitur ini memiliki nilai berupa tanggal dan jam pengguna melihat postingan dengan tipe data `string`."
      ]
    },
    {
      "cell_type": "markdown",
      "metadata": {
        "id": "PtTK9cTvs7GL"
      },
      "source": [
        "2.3.2 Melihat informasi dari setiap fitur untuk mengidentifikasi apakah terdapat kejanggalan atau tidak."
      ]
    },
    {
      "cell_type": "code",
      "metadata": {
        "colab": {
          "base_uri": "https://localhost:8080/"
        },
        "id": "n4CpBB4Rs8y9",
        "outputId": "cc6b0921-2d61-4679-ed8b-d37eefeb6a28"
      },
      "source": [
        "views.info()"
      ],
      "execution_count": null,
      "outputs": [
        {
          "output_type": "stream",
          "name": "stdout",
          "text": [
            "<class 'pandas.core.frame.DataFrame'>\n",
            "RangeIndex: 1449 entries, 0 to 1448\n",
            "Data columns (total 3 columns):\n",
            " #   Column     Non-Null Count  Dtype \n",
            "---  ------     --------------  ----- \n",
            " 0   user_id    1449 non-null   object\n",
            " 1   post_id    1449 non-null   object\n",
            " 2   timestamp  1449 non-null   object\n",
            "dtypes: object(3)\n",
            "memory usage: 34.1+ KB\n"
          ]
        }
      ]
    },
    {
      "cell_type": "markdown",
      "metadata": {
        "id": "mZ_E3mNxowZv"
      },
      "source": [
        "Berdasarkan data tersebut, fitur `timestamp` dapat diubah tipe datanya menjadi `datetime` agar nilainya dapat diolah dengan mudah."
      ]
    },
    {
      "cell_type": "markdown",
      "metadata": {
        "id": "ugK9bhRAu23I"
      },
      "source": [
        "2.3.3 Mengubah tipe data fitur `timestamp` menjadi `datetime` agar nilainya memiliki tipe data yang tepat."
      ]
    },
    {
      "cell_type": "code",
      "metadata": {
        "colab": {
          "base_uri": "https://localhost:8080/"
        },
        "id": "qJahVBIavBQk",
        "outputId": "a6c25550-feb4-4ca8-9147-2dc14da9c9c9"
      },
      "source": [
        "views['timestamp'] = pd.to_datetime(views['timestamp'])\n",
        "views.info()"
      ],
      "execution_count": null,
      "outputs": [
        {
          "output_type": "stream",
          "name": "stdout",
          "text": [
            "<class 'pandas.core.frame.DataFrame'>\n",
            "RangeIndex: 1449 entries, 0 to 1448\n",
            "Data columns (total 3 columns):\n",
            " #   Column     Non-Null Count  Dtype              \n",
            "---  ------     --------------  -----              \n",
            " 0   user_id    1449 non-null   object             \n",
            " 1   post_id    1449 non-null   object             \n",
            " 2   timestamp  1449 non-null   datetime64[ns, UTC]\n",
            "dtypes: datetime64[ns, UTC](1), object(2)\n",
            "memory usage: 34.1+ KB\n"
          ]
        }
      ]
    },
    {
      "cell_type": "markdown",
      "metadata": {
        "id": "9qjKxU_Us_He"
      },
      "source": [
        "2.3.4 Melihat jumlah nilai kosong dari setiap fitur. Apabila suatu fitur memiliki nilai kosong maka nilai tersebut harus diperbaiki."
      ]
    },
    {
      "cell_type": "code",
      "metadata": {
        "colab": {
          "base_uri": "https://localhost:8080/"
        },
        "id": "sOG2QWYxtCfT",
        "outputId": "ae1cf5db-5584-470e-f4da-fe662e62a00b"
      },
      "source": [
        "print('Jumlah nilai kosong:')\n",
        "views.isna().sum()"
      ],
      "execution_count": null,
      "outputs": [
        {
          "output_type": "stream",
          "name": "stdout",
          "text": [
            "Jumlah nilai kosong:\n"
          ]
        },
        {
          "output_type": "execute_result",
          "data": {
            "text/plain": [
              "user_id      0\n",
              "post_id      0\n",
              "timestamp    0\n",
              "dtype: int64"
            ]
          },
          "metadata": {},
          "execution_count": 33
        }
      ]
    },
    {
      "cell_type": "markdown",
      "metadata": {
        "id": "dQxLcP5huIQn"
      },
      "source": [
        "#### 2.3.5 Analisis Univariat"
      ]
    },
    {
      "cell_type": "markdown",
      "metadata": {
        "id": "xFrnzi1tuL4n"
      },
      "source": [
        "2.3.5.1 Melakukan visualisasi perbandingan antara pengguna unik dengan postingan unik untuk mengetahui tingkat ketersediaan postingan untuk pengguna."
      ]
    },
    {
      "cell_type": "code",
      "metadata": {
        "colab": {
          "base_uri": "https://localhost:8080/",
          "height": 421
        },
        "id": "Cdw1M68luSps",
        "outputId": "8ac7f528-2bdf-4b67-c47f-84a1928575f8"
      },
      "source": [
        "total_unique_user = len(views['user_id'].unique())\n",
        "total_unique_post = len(views['post_id'].unique())\n",
        "\n",
        "print('Perbandingan antara Pengguna Unik dan Postingan Unik')\n",
        "print('-' * 50)\n",
        "print('Jumlah pengguna unik:', total_unique_user)\n",
        "print('Jumlah postingan unik:', total_unique_post)\n",
        "print()\n",
        "\n",
        "plt.figure(figsize=(8, 5))\n",
        "plt.bar(['Pengguna Unik', 'Postingan Unik'],\n",
        "        height=[total_unique_user, total_unique_post],\n",
        "        color=['orange', 'limegreen'])\n",
        "plt.title('Perbandingan antara Pengguna Unik dan Postingan Unik',\n",
        "          fontweight='bold')\n",
        "plt.ylabel('Jumlah')\n",
        "plt.grid(color='gray', linewidth=0.3)\n",
        "plt.show()"
      ],
      "execution_count": null,
      "outputs": [
        {
          "output_type": "stream",
          "name": "stdout",
          "text": [
            "Perbandingan antara Pengguna Unik dan Postingan Unik\n",
            "--------------------------------------------------\n",
            "Jumlah pengguna unik: 118\n",
            "Jumlah postingan unik: 495\n",
            "\n"
          ]
        },
        {
          "output_type": "display_data",
          "data": {
            "image/png": "[encoded data removed]",
            "text/plain": [
              "<Figure size 576x360 with 1 Axes>"
            ]
          },
          "metadata": {
            "needs_background": "light"
          }
        }
      ]
    },
    {
      "cell_type": "markdown",
      "metadata": {
        "id": "M6skyM41p8ct"
      },
      "source": [
        "**Penjelasan:**\n",
        "\n",
        "Perbandingan antara jumlah pengguna unik dengan postingan unik sangat berbeda jauh, hampir lima kali lipat. Jumlah pengguna unik pada data tayangan adalah 118, sedangkan jumlah postingan unik adalah 495. Jadi, ketersediaan postingan untuk pengguna dapat tercukupi karena banyaknya pilihan postingan untuk pengguna."
      ]
    },
    {
      "cell_type": "markdown",
      "metadata": {
        "id": "1G8j0i2M3oTJ"
      },
      "source": [
        "2.3.5.2 Melakukan visualisasi jumlah tayangan postingan berdasarkan hari akses untuk mengetahui di hari apa pengguna banyak melihat postingan."
      ]
    },
    {
      "cell_type": "code",
      "metadata": {
        "colab": {
          "base_uri": "https://localhost:8080/",
          "height": 543
        },
        "id": "GzFVrlEHrLXs",
        "outputId": "14dcdee1-7f88-4555-e58b-0b7d4e8497c7"
      },
      "source": [
        "week_counts = views['timestamp'].dt.strftime('%A').value_counts()\n",
        "week_percentage = 100 * views['timestamp'].dt.strftime('%A').value_counts(\n",
        "    normalize=True\n",
        ")\n",
        "week_df = pd.DataFrame({'Jumlah': week_counts,\n",
        "                        'Persentase': week_percentage.round(2)})\n",
        "\n",
        "print('Jumlah Tayangan Postingan Berdasarkan Hari Akses')\n",
        "print('-' * 50)\n",
        "print(week_df)\n",
        "print()\n",
        "\n",
        "week_order = ['Monday', 'Tuesday', 'Wednesday', 'Thursday', 'Friday',\n",
        "              'Saturday', 'Sunday']\n",
        "sorted_week = week_counts.reindex(week_order)\n",
        "\n",
        "plt.figure(figsize=(8, 5))\n",
        "plt.plot(sorted_week, color='orange', linewidth=3)\n",
        "plt.title('Jumlah Tayangan Postingan Berdasarkan Hari Akses',\n",
        "          fontweight='bold')\n",
        "plt.xlabel('Hari Akses', labelpad=10)\n",
        "plt.ylabel('Jumlah Tayangan')\n",
        "plt.grid('gray', linewidth=0.3)\n",
        "plt.show()"
      ],
      "execution_count": null,
      "outputs": [
        {
          "output_type": "stream",
          "name": "stdout",
          "text": [
            "Jumlah Tayangan Postingan Berdasarkan Hari Akses\n",
            "--------------------------------------------------\n",
            "           Jumlah  Persentase\n",
            "Friday        263       18.15\n",
            "Monday        234       16.15\n",
            "Tuesday       232       16.01\n",
            "Thursday      227       15.67\n",
            "Sunday        176       12.15\n",
            "Saturday      159       10.97\n",
            "Wednesday     158       10.90\n",
            "\n"
          ]
        },
        {
          "output_type": "display_data",
          "data": {
            "image/png": "[encoded data removed]",
            "text/plain": [
              "<Figure size 576x360 with 1 Axes>"
            ]
          },
          "metadata": {
            "needs_background": "light"
          }
        }
      ]
    },
    {
      "cell_type": "markdown",
      "metadata": {
        "id": "9VUHjWcu4hH2"
      },
      "source": [
        "**Penjelasan:**\n",
        "\n",
        "Jumlah tayangan pada postingan dari hari ke hari cukup bervariasi. Jumlah tayangan terbanyak ada di hari *Friday* (Jumat) sebanyak 263 (18,15%), sedangkan jumlah tayangan terdikit ada di hari *Wednesday* (Rabu) sebanyak 158 (10,90%). Dari jumlah tayangan tersebut dapat diketahui bahwa pengguna lebih banyak melihat postingan di hari Jumat karena hari tersebut adalah hari kerja terakhir yang memungkinkan pengguna melihat postingan setelah mereka bekerja selama hampir seminggu penuh untuk melepaskan penat. Kemudian di hari berikutnya, *Saturday* (Sabtu), intensitas tayangan postingan menjadi lebih sedikit karena pengguna sudah menghabiskan waktunya melihat banyak postingan di hari Jumat."
      ]
    },
    {
      "cell_type": "markdown",
      "metadata": {
        "id": "uyTeRV1xvyID"
      },
      "source": [
        "### 2.4 Analisis Multivariat"
      ]
    },
    {
      "cell_type": "markdown",
      "metadata": {
        "id": "lEhysXdGhnpk"
      },
      "source": [
        "2.4.1 Mengecek keberadaan nilai unik dari fitur `post_id` pada data tayangan di data postingan. Apabila terdapat nilai `post_id` pada data tayangan yang tidak terdapat di data postingan maka hapus sampel dengan nilai tersebut."
      ]
    },
    {
      "cell_type": "code",
      "metadata": {
        "id": "NwjumQ4Cv7c_",
        "colab": {
          "base_uri": "https://localhost:8080/"
        },
        "outputId": "dce9a476-461f-4aef-e850-56247d834b3f"
      },
      "source": [
        "views_post_id = len(views['post_id'].unique())\n",
        "posts_post_id = len(posts['post_id'].unique())\n",
        "views = views[views['post_id'].isin(posts['post_id'])]\n",
        "\n",
        "print('Jumlah \"post_id\" unik di data tayangan:', views_post_id)\n",
        "print('Jumlah \"post_id\" unik di data postingan:', posts_post_id)\n",
        "print('Jumlah \"post_id\" unik pada data tayangan yang terdapat di data \\\n",
        "postingan:', len(views['post_id'].unique()))"
      ],
      "execution_count": null,
      "outputs": [
        {
          "output_type": "stream",
          "name": "stdout",
          "text": [
            "Jumlah \"post_id\" unik di data tayangan: 495\n",
            "Jumlah \"post_id\" unik di data postingan: 493\n",
            "Jumlah \"post_id\" unik pada data tayangan yang terdapat di data postingan: 493\n"
          ]
        }
      ]
    },
    {
      "cell_type": "markdown",
      "metadata": {
        "id": "dPfWLTNnK_Lq"
      },
      "source": [
        "Berdasarkan keluaran tersebut, terdapat dua nilai `post_id` unik pada data tayangan yang tidak berada di data postingan. Oleh karena itu, sampel yang memiliki nilai tersebut harus dihapus."
      ]
    },
    {
      "cell_type": "markdown",
      "metadata": {
        "id": "HZ3rRXWPllvU"
      },
      "source": [
        "2.4.2 Mengecek keberadaan nilai unik dari fitur `user_id` pada data tayangan di data pengguna. Apabila terdapat nilai `user_id` pada data tayangan yang tidak terdapat di data pengguna maka hapus sampel dengan nilai tersebut."
      ]
    },
    {
      "cell_type": "code",
      "metadata": {
        "colab": {
          "base_uri": "https://localhost:8080/"
        },
        "id": "-eGYLOdIlgD8",
        "outputId": "b02faf09-6948-4d39-eee9-3aa40510662b"
      },
      "source": [
        "views_user_id = len(views['user_id'].unique())\n",
        "users_user_id = len(users['user_id'].unique())\n",
        "views = views[views['user_id'].isin(users['user_id'])]\n",
        "\n",
        "print('Jumlah \"user_id\" unik di data tayangan:', views_user_id)\n",
        "print('Jumlah \"user_id\" unik di data pengguna:', users_user_id)\n",
        "print('Jumlah \"user_id\" unik pada data tayangan yang terdapat di data \\\n",
        "pengguna:', len(views['user_id'].unique()))"
      ],
      "execution_count": null,
      "outputs": [
        {
          "output_type": "stream",
          "name": "stdout",
          "text": [
            "Jumlah \"user_id\" unik di data tayangan: 118\n",
            "Jumlah \"user_id\" unik di data pengguna: 118\n",
            "Jumlah \"user_id\" unik pada data tayangan yang terdapat di data pengguna: 118\n"
          ]
        }
      ]
    },
    {
      "cell_type": "markdown",
      "metadata": {
        "id": "AHTCDuOJLNKm"
      },
      "source": [
        "Berdasarkan keluaran tersebut, semua nilai `user_id` unik pada data tayangan terdapat di data pengguna sehingga tidak diperlukan penghapusan sampel."
      ]
    },
    {
      "cell_type": "markdown",
      "metadata": {
        "id": "vTYLixEnngv9"
      },
      "source": [
        "2.4.3 Melakukan visualisasi pengguna yang paling banyak melihat postingan untuk mengetahui pengguna mana yang paling banyak memberikan informasi pada proses pemodelan dengan metode *collaborative filtering* nanti."
      ]
    },
    {
      "cell_type": "code",
      "metadata": {
        "colab": {
          "base_uri": "https://localhost:8080/",
          "height": 503
        },
        "id": "Os6N95Yunjjg",
        "outputId": "b994990a-cc67-4383-f394-66aa507e42cf"
      },
      "source": [
        "top_5_users = views['user_id'].value_counts().head(5).to_frame()\n",
        "top_5_users.columns = ['total_views']\n",
        "\n",
        "top_5_df = top_5_users.merge(users, how='left', left_index=True,\n",
        "                             right_on='user_id')\n",
        "top_5_df = top_5_df[['name', 'gender', 'academics', 'total_views']]\n",
        "top_5_df.index = list(range(1, 6))\n",
        "\n",
        "print('Lima Pengguna Teratas yang Paling Banyak Melihat Postingan')\n",
        "print('-' * 70)\n",
        "print(top_5_df)\n",
        "print()\n",
        "\n",
        "plt.figure(figsize=(7, 5))\n",
        "plt.barh(y=top_5_df['name'], width=top_5_df['total_views'], color='orange')\n",
        "plt.title('Lima Pengguna Teratas yang Paling Banyak Melihat Postingan',\n",
        "          fontweight='bold')\n",
        "plt.xlabel('Jumlah Tayangan')\n",
        "plt.ylabel('Nama Pengguna')\n",
        "plt.grid(color='gray', linewidth=0.3)\n",
        "plt.show()"
      ],
      "execution_count": null,
      "outputs": [
        {
          "output_type": "stream",
          "name": "stdout",
          "text": [
            "Lima Pengguna Teratas yang Paling Banyak Melihat Postingan\n",
            "----------------------------------------------------------------------\n",
            "                   name gender      academics  total_views\n",
            "1  Nivesh Singh Chauhan   male  undergraduate          230\n",
            "2         Gaurav Sharma   male       graduate          137\n",
            "3         Varun Chowhan   male  undergraduate           95\n",
            "4         Aryan Malakar   male  undergraduate           82\n",
            "5      siddharth saxena   male  undergraduate           69\n",
            "\n"
          ]
        },
        {
          "output_type": "display_data",
          "data": {
            "image/png": "[encoded data removed]",
            "text/plain": [
              "<Figure size 504x360 with 1 Axes>"
            ]
          },
          "metadata": {
            "needs_background": "light"
          }
        }
      ]
    },
    {
      "cell_type": "markdown",
      "metadata": {
        "id": "cotd7iBJN9V9"
      },
      "source": [
        "**Penjelasan:**\n",
        "\n",
        "Lima pengguna teratas yang paling banyak melihat postingan adalah pengguna dengan jenis kelamin laki-laki dan sebagian besarnya memiliki tingkat pendidikan sarjana. Jadi, pada data tayangan ini laki-laki lebih aktif melihat postingan dibandingkan perempuan dan pengguna dengan tingkat pendidikan sarjana lebih aktif melihat postingan dibandingkan pascasarjana."
      ]
    },
    {
      "cell_type": "markdown",
      "metadata": {
        "id": "w0ibKCC8v4GK"
      },
      "source": [
        "2.4.4 Melakukan visualisasi postingan yang paling banyak dilihat pengguna untuk mengetahui postingan mana yang paling banyak memberikan informasi pada proses pemodelan dengan metode *collaborative filtering* nanti."
      ]
    },
    {
      "cell_type": "code",
      "metadata": {
        "id": "a8FZG7cDv8H5",
        "colab": {
          "base_uri": "https://localhost:8080/",
          "height": 503
        },
        "outputId": "37bafe71-4d21-4577-f6c3-d4204aec4d6a"
      },
      "source": [
        "top_5_posts = views['post_id'].value_counts().head(5).to_frame()\n",
        "top_5_posts.columns = ['total_views']\n",
        "\n",
        "top_5_df = top_5_posts.merge(posts, how='left', left_index=True,\n",
        "                             right_on='post_id')\n",
        "top_5_df = top_5_df[['title', 'type', 'total_views']]\n",
        "top_5_df.index = list(range(1, 6))\n",
        "\n",
        "print('Lima Postingan Teratas yang Paling Banyak Dilihat Pengguna')\n",
        "print('-' * 70)\n",
        "print(top_5_df)\n",
        "print()\n",
        "\n",
        "plt.figure(figsize=(7, 5))\n",
        "plt.barh(y=top_5_df['title'], width=top_5_df['total_views'], color='orange')\n",
        "plt.title('Lima Postingan Teratas yang Paling Banyak Dilihat Pengguna',\n",
        "          fontweight='bold')\n",
        "plt.xlabel('Jumlah Tayangan')\n",
        "plt.ylabel('Judul Postingan')\n",
        "plt.grid(color='gray', linewidth=0.3)\n",
        "plt.show()"
      ],
      "execution_count": null,
      "outputs": [
        {
          "output_type": "stream",
          "name": "stdout",
          "text": [
            "Lima Postingan Teratas yang Paling Banyak Dilihat Pengguna\n",
            "----------------------------------------------------------------------\n",
            "                                    title     type  total_views\n",
            "1                                   Daaku  artwork           18\n",
            "2  Machine Learning”&“Operations\" (MlOps)     blog           16\n",
            "3              The Waves Have Stood Still  artwork           14\n",
            "4                          Gangster Style  artwork           14\n",
            "5                       Faith in yourself  artwork           14\n",
            "\n"
          ]
        },
        {
          "output_type": "display_data",
          "data": {
            "image/png": "[encoded data removed]",
            "text/plain": [
              "<Figure size 504x360 with 1 Axes>"
            ]
          },
          "metadata": {
            "needs_background": "light"
          }
        }
      ]
    },
    {
      "cell_type": "markdown",
      "metadata": {
        "id": "QyiP2JG2Or28"
      },
      "source": [
        "**Penjelasan:**\n",
        "\n",
        "Lima postingan teratas yang paling banyak dilihat pengguna sebagian besar merupakan postingan dengan jenis karya seni. Jadi, pada data tayangan ini pengguna lebih tertarik untuk melihat postingan berjenis karya seni dibandingkan tiga jenis postingan lainnya (blog, keahlian, dan proyek). Berarti, dugaan sebelumnya yang menyatakan pengguna akan sering melihat postingan yang bersifat ilmiah kurang tepat. Walaupun sebagian besar pengguna berada di tingkatan pendidikan tinggi, pengguna lebih banyak melihat postingan untuk mencari hiburan bagi dirinya sendiri dibandingkan untuk mencari informasi ilmu keilmiahan."
      ]
    },
    {
      "cell_type": "markdown",
      "metadata": {
        "id": "p4PXLsCR4C3d"
      },
      "source": [
        "## 3. Persiapan Data"
      ]
    },
    {
      "cell_type": "markdown",
      "metadata": {
        "id": "gileJsAJMKc4"
      },
      "source": [
        "### 3.1 *Content-Based Filtering*"
      ]
    },
    {
      "cell_type": "markdown",
      "metadata": {
        "id": "_jvJiYFh08W7"
      },
      "source": [
        "3.1.1 Membuat data baru berdasarkan data postingan. Fitur utama yang akan digunakan dalam proses pemodelan *content-based filtering* kali ini adalah fitur `category` dan `type` karena kedua fitur tersebut memiliki informasi yang sangat penting untuk menggambarkan karakteristik suatu postingan."
      ]
    },
    {
      "cell_type": "code",
      "metadata": {
        "colab": {
          "base_uri": "https://localhost:8080/",
          "height": 453
        },
        "id": "JASGAk4n0-oX",
        "outputId": "411ee03b-3c68-4fdd-cf63-ae94b6ed46da"
      },
      "source": [
        "content = posts[['post_id', 'title', 'category', 'type']].copy()\n",
        "content"
      ],
      "execution_count": null,
      "outputs": [
        {
          "output_type": "execute_result",
          "data": {
            "text/html": [
              "<div>\n",
              "<style scoped>\n",
              "    .dataframe tbody tr th:only-of-type {\n",
              "        vertical-align: middle;\n",
              "    }\n",
              "\n",
              "    .dataframe tbody tr th {\n",
              "        vertical-align: top;\n",
              "    }\n",
              "\n",
              "    .dataframe thead th {\n",
              "        text-align: right;\n",
              "    }\n",
              "</style>\n",
              "<table border=\"1\" class=\"dataframe\">\n",
              "  <thead>\n",
              "    <tr style=\"text-align: right;\">\n",
              "      <th></th>\n",
              "      <th>post_id</th>\n",
              "      <th>title</th>\n",
              "      <th>category</th>\n",
              "      <th>type</th>\n",
              "    </tr>\n",
              "  </thead>\n",
              "  <tbody>\n",
              "    <tr>\n",
              "      <th>0</th>\n",
              "      <td>5d62abaa65218653a132c956</td>\n",
              "      <td>hello there</td>\n",
              "      <td>Plant Biotechnology</td>\n",
              "      <td>blog</td>\n",
              "    </tr>\n",
              "    <tr>\n",
              "      <th>1</th>\n",
              "      <td>5d6d39567fa40e1417a4931c</td>\n",
              "      <td>Ml and AI</td>\n",
              "      <td>Artificial Intelligence|Machine Learning|Infor...</td>\n",
              "      <td>blog</td>\n",
              "    </tr>\n",
              "    <tr>\n",
              "      <th>2</th>\n",
              "      <td>5d7d23315720533e15c3b1ee</td>\n",
              "      <td>What is an Operating System ?</td>\n",
              "      <td>Operating Systems</td>\n",
              "      <td>blog</td>\n",
              "    </tr>\n",
              "    <tr>\n",
              "      <th>3</th>\n",
              "      <td>5d7d405e5720533e15c3b1f3</td>\n",
              "      <td>Lord Shiva</td>\n",
              "      <td>Drawings</td>\n",
              "      <td>artwork</td>\n",
              "    </tr>\n",
              "    <tr>\n",
              "      <th>4</th>\n",
              "      <td>5d80dfbc6c53455f896e600e</td>\n",
              "      <td>How Competition law evolved?</td>\n",
              "      <td>Competition Laws</td>\n",
              "      <td>blog</td>\n",
              "    </tr>\n",
              "    <tr>\n",
              "      <th>...</th>\n",
              "      <td>...</td>\n",
              "      <td>...</td>\n",
              "      <td>...</td>\n",
              "      <td>...</td>\n",
              "    </tr>\n",
              "    <tr>\n",
              "      <th>488</th>\n",
              "      <td>5ed3791976027d35905ccab6</td>\n",
              "      <td>CI/CD using GitHub Actions</td>\n",
              "      <td>Computer Technology|Information Technology</td>\n",
              "      <td>blog</td>\n",
              "    </tr>\n",
              "    <tr>\n",
              "      <th>489</th>\n",
              "      <td>5ed3820f76027d35905ccac8</td>\n",
              "      <td>Configure Docker with Django; PostgreSQL; Pg-a...</td>\n",
              "      <td>Computer Technology|Computer Application|Infor...</td>\n",
              "      <td>blog</td>\n",
              "    </tr>\n",
              "    <tr>\n",
              "      <th>490</th>\n",
              "      <td>5ed3ef4cbd514d602c1530f2</td>\n",
              "      <td>Recommendation Engine</td>\n",
              "      <td>Uncategorized</td>\n",
              "      <td>project</td>\n",
              "    </tr>\n",
              "    <tr>\n",
              "      <th>491</th>\n",
              "      <td>5ed415c6bd514d602c15312d</td>\n",
              "      <td>Face Recognition using Transfer Learning.</td>\n",
              "      <td>Science; Technology</td>\n",
              "      <td>skill</td>\n",
              "    </tr>\n",
              "    <tr>\n",
              "      <th>492</th>\n",
              "      <td>5ed4cbadbd514d602c1531a6</td>\n",
              "      <td>Configure CI/CD Pipeline in GitLab and deploym...</td>\n",
              "      <td>Computer Technology|Computer Application|Infor...</td>\n",
              "      <td>blog</td>\n",
              "    </tr>\n",
              "  </tbody>\n",
              "</table>\n",
              "<p>493 rows × 4 columns</p>\n",
              "</div>"
            ],
            "text/plain": [
              "                      post_id  ...     type\n",
              "0    5d62abaa65218653a132c956  ...     blog\n",
              "1    5d6d39567fa40e1417a4931c  ...     blog\n",
              "2    5d7d23315720533e15c3b1ee  ...     blog\n",
              "3    5d7d405e5720533e15c3b1f3  ...  artwork\n",
              "4    5d80dfbc6c53455f896e600e  ...     blog\n",
              "..                        ...  ...      ...\n",
              "488  5ed3791976027d35905ccab6  ...     blog\n",
              "489  5ed3820f76027d35905ccac8  ...     blog\n",
              "490  5ed3ef4cbd514d602c1530f2  ...  project\n",
              "491  5ed415c6bd514d602c15312d  ...    skill\n",
              "492  5ed4cbadbd514d602c1531a6  ...     blog\n",
              "\n",
              "[493 rows x 4 columns]"
            ]
          },
          "metadata": {},
          "execution_count": 39
        }
      ]
    },
    {
      "cell_type": "markdown",
      "metadata": {
        "id": "qW63XQMJbIQX"
      },
      "source": [
        "3.1.2 Menggabungkan fitur `category` dan `type` menjadi fitur `keywords` karena semua kata dari kedua fitur tersebut akan dijadikan kata kunci yang menggambarkan karakteristik suatu postingan."
      ]
    },
    {
      "cell_type": "code",
      "metadata": {
        "colab": {
          "base_uri": "https://localhost:8080/",
          "height": 204
        },
        "id": "s-M7VZ_2bMzj",
        "outputId": "78d602ba-954a-4f04-805f-bf14453b60fe"
      },
      "source": [
        "content['keywords'] = content['category'] + ' ' + content['type']\n",
        "content = content.drop(columns=['category', 'type'])\n",
        "content.head()"
      ],
      "execution_count": null,
      "outputs": [
        {
          "output_type": "execute_result",
          "data": {
            "text/html": [
              "<div>\n",
              "<style scoped>\n",
              "    .dataframe tbody tr th:only-of-type {\n",
              "        vertical-align: middle;\n",
              "    }\n",
              "\n",
              "    .dataframe tbody tr th {\n",
              "        vertical-align: top;\n",
              "    }\n",
              "\n",
              "    .dataframe thead th {\n",
              "        text-align: right;\n",
              "    }\n",
              "</style>\n",
              "<table border=\"1\" class=\"dataframe\">\n",
              "  <thead>\n",
              "    <tr style=\"text-align: right;\">\n",
              "      <th></th>\n",
              "      <th>post_id</th>\n",
              "      <th>title</th>\n",
              "      <th>keywords</th>\n",
              "    </tr>\n",
              "  </thead>\n",
              "  <tbody>\n",
              "    <tr>\n",
              "      <th>0</th>\n",
              "      <td>5d62abaa65218653a132c956</td>\n",
              "      <td>hello there</td>\n",
              "      <td>Plant Biotechnology blog</td>\n",
              "    </tr>\n",
              "    <tr>\n",
              "      <th>1</th>\n",
              "      <td>5d6d39567fa40e1417a4931c</td>\n",
              "      <td>Ml and AI</td>\n",
              "      <td>Artificial Intelligence|Machine Learning|Infor...</td>\n",
              "    </tr>\n",
              "    <tr>\n",
              "      <th>2</th>\n",
              "      <td>5d7d23315720533e15c3b1ee</td>\n",
              "      <td>What is an Operating System ?</td>\n",
              "      <td>Operating Systems blog</td>\n",
              "    </tr>\n",
              "    <tr>\n",
              "      <th>3</th>\n",
              "      <td>5d7d405e5720533e15c3b1f3</td>\n",
              "      <td>Lord Shiva</td>\n",
              "      <td>Drawings artwork</td>\n",
              "    </tr>\n",
              "    <tr>\n",
              "      <th>4</th>\n",
              "      <td>5d80dfbc6c53455f896e600e</td>\n",
              "      <td>How Competition law evolved?</td>\n",
              "      <td>Competition Laws blog</td>\n",
              "    </tr>\n",
              "  </tbody>\n",
              "</table>\n",
              "</div>"
            ],
            "text/plain": [
              "                    post_id  ...                                           keywords\n",
              "0  5d62abaa65218653a132c956  ...                           Plant Biotechnology blog\n",
              "1  5d6d39567fa40e1417a4931c  ...  Artificial Intelligence|Machine Learning|Infor...\n",
              "2  5d7d23315720533e15c3b1ee  ...                             Operating Systems blog\n",
              "3  5d7d405e5720533e15c3b1f3  ...                                   Drawings artwork\n",
              "4  5d80dfbc6c53455f896e600e  ...                              Competition Laws blog\n",
              "\n",
              "[5 rows x 3 columns]"
            ]
          },
          "metadata": {},
          "execution_count": 40
        }
      ]
    },
    {
      "cell_type": "markdown",
      "metadata": {
        "id": "Ql7WaUSI5akp"
      },
      "source": [
        "3.1.3 Menghilangkan semua tanda pemisah kategori yang berupa simbol pipa (`|`) dan tanda titik koma (`;`) dari fitur `keywords` yang sebelumnya menjadi tanda pemisah berbagai kategori dari fitur `category`. Hal ini dilakukan agar model dapat menghubungkan kesamaan di antara postingan melalui kata-kata penting dari fitur `keywords`."
      ]
    },
    {
      "cell_type": "code",
      "metadata": {
        "colab": {
          "base_uri": "https://localhost:8080/",
          "height": 204
        },
        "id": "4TYFGnKR5dBY",
        "outputId": "25b6908c-e50c-4810-d5bb-ab2802216508"
      },
      "source": [
        "content['keywords'] = content['keywords'].apply(\n",
        "    lambda x: x.replace('|', ' ').replace(';', ' ')\n",
        ")\n",
        "content.head()"
      ],
      "execution_count": null,
      "outputs": [
        {
          "output_type": "execute_result",
          "data": {
            "text/html": [
              "<div>\n",
              "<style scoped>\n",
              "    .dataframe tbody tr th:only-of-type {\n",
              "        vertical-align: middle;\n",
              "    }\n",
              "\n",
              "    .dataframe tbody tr th {\n",
              "        vertical-align: top;\n",
              "    }\n",
              "\n",
              "    .dataframe thead th {\n",
              "        text-align: right;\n",
              "    }\n",
              "</style>\n",
              "<table border=\"1\" class=\"dataframe\">\n",
              "  <thead>\n",
              "    <tr style=\"text-align: right;\">\n",
              "      <th></th>\n",
              "      <th>post_id</th>\n",
              "      <th>title</th>\n",
              "      <th>keywords</th>\n",
              "    </tr>\n",
              "  </thead>\n",
              "  <tbody>\n",
              "    <tr>\n",
              "      <th>0</th>\n",
              "      <td>5d62abaa65218653a132c956</td>\n",
              "      <td>hello there</td>\n",
              "      <td>Plant Biotechnology blog</td>\n",
              "    </tr>\n",
              "    <tr>\n",
              "      <th>1</th>\n",
              "      <td>5d6d39567fa40e1417a4931c</td>\n",
              "      <td>Ml and AI</td>\n",
              "      <td>Artificial Intelligence Machine Learning Infor...</td>\n",
              "    </tr>\n",
              "    <tr>\n",
              "      <th>2</th>\n",
              "      <td>5d7d23315720533e15c3b1ee</td>\n",
              "      <td>What is an Operating System ?</td>\n",
              "      <td>Operating Systems blog</td>\n",
              "    </tr>\n",
              "    <tr>\n",
              "      <th>3</th>\n",
              "      <td>5d7d405e5720533e15c3b1f3</td>\n",
              "      <td>Lord Shiva</td>\n",
              "      <td>Drawings artwork</td>\n",
              "    </tr>\n",
              "    <tr>\n",
              "      <th>4</th>\n",
              "      <td>5d80dfbc6c53455f896e600e</td>\n",
              "      <td>How Competition law evolved?</td>\n",
              "      <td>Competition Laws blog</td>\n",
              "    </tr>\n",
              "  </tbody>\n",
              "</table>\n",
              "</div>"
            ],
            "text/plain": [
              "                    post_id  ...                                           keywords\n",
              "0  5d62abaa65218653a132c956  ...                           Plant Biotechnology blog\n",
              "1  5d6d39567fa40e1417a4931c  ...  Artificial Intelligence Machine Learning Infor...\n",
              "2  5d7d23315720533e15c3b1ee  ...                             Operating Systems blog\n",
              "3  5d7d405e5720533e15c3b1f3  ...                                   Drawings artwork\n",
              "4  5d80dfbc6c53455f896e600e  ...                              Competition Laws blog\n",
              "\n",
              "[5 rows x 3 columns]"
            ]
          },
          "metadata": {},
          "execution_count": 41
        }
      ]
    },
    {
      "cell_type": "markdown",
      "metadata": {
        "id": "q0w7xxkL22s2"
      },
      "source": [
        "3.1.4 Menghapus semua *stop word* pada fitur `keywords` dan mengubah semua kata menjadi huruf kecil (*lower case*). *Stop word* adalah kata-kata umum yang sering muncul dalam jumlah besar pada teks tetapi tidak memiliki makna yang penting, seperti *a*, *the*, *of*, dan lainnya. Karena tidak memiliki makna penting dan sering muncul keberadaannya, *stop word* tidak akan menjadi karakteristik unik dari suatu postingan."
      ]
    },
    {
      "cell_type": "code",
      "metadata": {
        "colab": {
          "base_uri": "https://localhost:8080/",
          "height": 204
        },
        "id": "bJw_4RjB26RG",
        "outputId": "a43e93cd-fe5b-4a49-af71-7642d5f80922"
      },
      "source": [
        "stop_words = stopwords.words('english')\n",
        "content['keywords'] = content['keywords'].apply(\n",
        "    lambda x: ' '.join(\n",
        "        [word for word in x.lower().split() if word not in stop_words]\n",
        "    )\n",
        ")\n",
        "content.head()"
      ],
      "execution_count": null,
      "outputs": [
        {
          "output_type": "execute_result",
          "data": {
            "text/html": [
              "<div>\n",
              "<style scoped>\n",
              "    .dataframe tbody tr th:only-of-type {\n",
              "        vertical-align: middle;\n",
              "    }\n",
              "\n",
              "    .dataframe tbody tr th {\n",
              "        vertical-align: top;\n",
              "    }\n",
              "\n",
              "    .dataframe thead th {\n",
              "        text-align: right;\n",
              "    }\n",
              "</style>\n",
              "<table border=\"1\" class=\"dataframe\">\n",
              "  <thead>\n",
              "    <tr style=\"text-align: right;\">\n",
              "      <th></th>\n",
              "      <th>post_id</th>\n",
              "      <th>title</th>\n",
              "      <th>keywords</th>\n",
              "    </tr>\n",
              "  </thead>\n",
              "  <tbody>\n",
              "    <tr>\n",
              "      <th>0</th>\n",
              "      <td>5d62abaa65218653a132c956</td>\n",
              "      <td>hello there</td>\n",
              "      <td>plant biotechnology blog</td>\n",
              "    </tr>\n",
              "    <tr>\n",
              "      <th>1</th>\n",
              "      <td>5d6d39567fa40e1417a4931c</td>\n",
              "      <td>Ml and AI</td>\n",
              "      <td>artificial intelligence machine learning infor...</td>\n",
              "    </tr>\n",
              "    <tr>\n",
              "      <th>2</th>\n",
              "      <td>5d7d23315720533e15c3b1ee</td>\n",
              "      <td>What is an Operating System ?</td>\n",
              "      <td>operating systems blog</td>\n",
              "    </tr>\n",
              "    <tr>\n",
              "      <th>3</th>\n",
              "      <td>5d7d405e5720533e15c3b1f3</td>\n",
              "      <td>Lord Shiva</td>\n",
              "      <td>drawings artwork</td>\n",
              "    </tr>\n",
              "    <tr>\n",
              "      <th>4</th>\n",
              "      <td>5d80dfbc6c53455f896e600e</td>\n",
              "      <td>How Competition law evolved?</td>\n",
              "      <td>competition laws blog</td>\n",
              "    </tr>\n",
              "  </tbody>\n",
              "</table>\n",
              "</div>"
            ],
            "text/plain": [
              "                    post_id  ...                                           keywords\n",
              "0  5d62abaa65218653a132c956  ...                           plant biotechnology blog\n",
              "1  5d6d39567fa40e1417a4931c  ...  artificial intelligence machine learning infor...\n",
              "2  5d7d23315720533e15c3b1ee  ...                             operating systems blog\n",
              "3  5d7d405e5720533e15c3b1f3  ...                                   drawings artwork\n",
              "4  5d80dfbc6c53455f896e600e  ...                              competition laws blog\n",
              "\n",
              "[5 rows x 3 columns]"
            ]
          },
          "metadata": {},
          "execution_count": 42
        }
      ]
    },
    {
      "cell_type": "markdown",
      "metadata": {
        "id": "Dbt7VvbyAy39"
      },
      "source": [
        "3.1.5 Melakukan normalisasi teks berupa *lemmatization* pada fitur `keywords`. *Lemmatization* adalah proses mengubah suatu kata menjadi bentuk dasar yang bermakna dengan melibatkan konteks, contohnya seperti kata `drawings` menjadi `drawing`. Hal ini dilakukan agar kata kunci yang berbeda namun memiliki makna sama tidak dianggap memiliki makna yang berbeda oleh model."
      ]
    },
    {
      "cell_type": "code",
      "metadata": {
        "colab": {
          "base_uri": "https://localhost:8080/",
          "height": 204
        },
        "id": "DpFsMG9wA1Tk",
        "outputId": "764e9c80-959f-43a8-b28e-de0171209239"
      },
      "source": [
        "lemmatizer = WordNetLemmatizer()\n",
        "content['keywords'] = content['keywords'].apply(\n",
        "    lambda x: ' '.join([lemmatizer.lemmatize(word) for word in x.split()])\n",
        ")\n",
        "content.head()"
      ],
      "execution_count": null,
      "outputs": [
        {
          "output_type": "execute_result",
          "data": {
            "text/html": [
              "<div>\n",
              "<style scoped>\n",
              "    .dataframe tbody tr th:only-of-type {\n",
              "        vertical-align: middle;\n",
              "    }\n",
              "\n",
              "    .dataframe tbody tr th {\n",
              "        vertical-align: top;\n",
              "    }\n",
              "\n",
              "    .dataframe thead th {\n",
              "        text-align: right;\n",
              "    }\n",
              "</style>\n",
              "<table border=\"1\" class=\"dataframe\">\n",
              "  <thead>\n",
              "    <tr style=\"text-align: right;\">\n",
              "      <th></th>\n",
              "      <th>post_id</th>\n",
              "      <th>title</th>\n",
              "      <th>keywords</th>\n",
              "    </tr>\n",
              "  </thead>\n",
              "  <tbody>\n",
              "    <tr>\n",
              "      <th>0</th>\n",
              "      <td>5d62abaa65218653a132c956</td>\n",
              "      <td>hello there</td>\n",
              "      <td>plant biotechnology blog</td>\n",
              "    </tr>\n",
              "    <tr>\n",
              "      <th>1</th>\n",
              "      <td>5d6d39567fa40e1417a4931c</td>\n",
              "      <td>Ml and AI</td>\n",
              "      <td>artificial intelligence machine learning infor...</td>\n",
              "    </tr>\n",
              "    <tr>\n",
              "      <th>2</th>\n",
              "      <td>5d7d23315720533e15c3b1ee</td>\n",
              "      <td>What is an Operating System ?</td>\n",
              "      <td>operating system blog</td>\n",
              "    </tr>\n",
              "    <tr>\n",
              "      <th>3</th>\n",
              "      <td>5d7d405e5720533e15c3b1f3</td>\n",
              "      <td>Lord Shiva</td>\n",
              "      <td>drawing artwork</td>\n",
              "    </tr>\n",
              "    <tr>\n",
              "      <th>4</th>\n",
              "      <td>5d80dfbc6c53455f896e600e</td>\n",
              "      <td>How Competition law evolved?</td>\n",
              "      <td>competition law blog</td>\n",
              "    </tr>\n",
              "  </tbody>\n",
              "</table>\n",
              "</div>"
            ],
            "text/plain": [
              "                    post_id  ...                                           keywords\n",
              "0  5d62abaa65218653a132c956  ...                           plant biotechnology blog\n",
              "1  5d6d39567fa40e1417a4931c  ...  artificial intelligence machine learning infor...\n",
              "2  5d7d23315720533e15c3b1ee  ...                              operating system blog\n",
              "3  5d7d405e5720533e15c3b1f3  ...                                    drawing artwork\n",
              "4  5d80dfbc6c53455f896e600e  ...                               competition law blog\n",
              "\n",
              "[5 rows x 3 columns]"
            ]
          },
          "metadata": {},
          "execution_count": 43
        }
      ]
    },
    {
      "cell_type": "markdown",
      "metadata": {
        "id": "k0lW4ezbdq6k"
      },
      "source": [
        "3.1.6 Melihat semua kata kunci yang berhubungan dengan postingan menggunakan teknik TF–IDF. TF–IDF (Term Frequency–Inverse Document Frequency) adalah sebuah teknik memilih kata yang memiliki makna penting dengan mengukur kata tersebut terhadap kata-kata lain dalam suatu teks. Kata yang memiliki makna penting akan dijadikan kata kunci dan digunakan dalam proses pemodelan nanti."
      ]
    },
    {
      "cell_type": "code",
      "metadata": {
        "colab": {
          "base_uri": "https://localhost:8080/"
        },
        "id": "eo4kX_js1a43",
        "outputId": "3866d11b-d51f-4d8a-c921-e726ccfe8765"
      },
      "source": [
        "tfidf = TfidfVectorizer()\n",
        "tfidf.fit(content['keywords'])\n",
        "tfidf.get_feature_names()"
      ],
      "execution_count": null,
      "outputs": [
        {
          "output_type": "execute_result",
          "data": {
            "text/plain": [
              "['2d',\n",
              " 'abuse',\n",
              " 'accounting',\n",
              " 'acrylic',\n",
              " 'activity',\n",
              " 'advertising',\n",
              " 'agreement',\n",
              " 'algebra',\n",
              " 'algorithm',\n",
              " 'alternate',\n",
              " 'analysis',\n",
              " 'animal',\n",
              " 'application',\n",
              " 'applied',\n",
              " 'archeology',\n",
              " 'architecture',\n",
              " 'art',\n",
              " 'articulation',\n",
              " 'artificial',\n",
              " 'artistic',\n",
              " 'artwork',\n",
              " 'atomic',\n",
              " 'audit',\n",
              " 'auditing',\n",
              " 'banking',\n",
              " 'basic',\n",
              " 'behaviour',\n",
              " 'bio',\n",
              " 'biology',\n",
              " 'biotechnology',\n",
              " 'blog',\n",
              " 'break',\n",
              " 'business',\n",
              " 'calligraphy',\n",
              " 'capitalist',\n",
              " 'cardiology',\n",
              " 'carving',\n",
              " 'ceramic',\n",
              " 'chemistry',\n",
              " 'child',\n",
              " 'cloud',\n",
              " 'coaching',\n",
              " 'colonialism',\n",
              " 'commerce',\n",
              " 'communiaction',\n",
              " 'communication',\n",
              " 'company',\n",
              " 'competition',\n",
              " 'composition',\n",
              " 'computation',\n",
              " 'computer',\n",
              " 'computing',\n",
              " 'concept',\n",
              " 'conceptual',\n",
              " 'control',\n",
              " 'corporate',\n",
              " 'cost',\n",
              " 'craft',\n",
              " 'creation',\n",
              " 'creative',\n",
              " 'culture',\n",
              " 'custom',\n",
              " 'cutting',\n",
              " 'data',\n",
              " 'database',\n",
              " 'decision',\n",
              " 'desigining',\n",
              " 'design',\n",
              " 'designing',\n",
              " 'development',\n",
              " 'digital',\n",
              " 'direct',\n",
              " 'dispute',\n",
              " 'distribution',\n",
              " 'drawing',\n",
              " 'duty',\n",
              " 'eco',\n",
              " 'ecology',\n",
              " 'economic',\n",
              " 'economics',\n",
              " 'economy',\n",
              " 'editing',\n",
              " 'education',\n",
              " 'electrical',\n",
              " 'electronics',\n",
              " 'empowerment',\n",
              " 'energy',\n",
              " 'enforcement',\n",
              " 'engineering',\n",
              " 'entreperneurship',\n",
              " 'entrepreneurship',\n",
              " 'enviorment',\n",
              " 'environment',\n",
              " 'environmental',\n",
              " 'ethic',\n",
              " 'even',\n",
              " 'event',\n",
              " 'evidence',\n",
              " 'fashion',\n",
              " 'fiction',\n",
              " 'finance',\n",
              " 'financial',\n",
              " 'fine',\n",
              " 'foreign',\n",
              " 'frontend',\n",
              " 'fundamental',\n",
              " 'garment',\n",
              " 'gastroenterology',\n",
              " 'genetic',\n",
              " 'geography',\n",
              " 'government',\n",
              " 'graphic',\n",
              " 'growth',\n",
              " 'gst',\n",
              " 'hardware',\n",
              " 'health',\n",
              " 'history',\n",
              " 'hr',\n",
              " 'human',\n",
              " 'humanity',\n",
              " 'illustration',\n",
              " 'income',\n",
              " 'india',\n",
              " 'indian',\n",
              " 'industrial',\n",
              " 'information',\n",
              " 'ink',\n",
              " 'inorganic',\n",
              " 'instrumentation',\n",
              " 'intelligence',\n",
              " 'internal',\n",
              " 'international',\n",
              " 'intervention',\n",
              " 'labor',\n",
              " 'language',\n",
              " 'lateral',\n",
              " 'law',\n",
              " 'learning',\n",
              " 'legal',\n",
              " 'linear',\n",
              " 'literature',\n",
              " 'logic',\n",
              " 'logo',\n",
              " 'machine',\n",
              " 'management',\n",
              " 'managerial',\n",
              " 'mangememnt',\n",
              " 'mangement',\n",
              " 'manufacturing',\n",
              " 'marketing',\n",
              " 'mass',\n",
              " 'mathematics',\n",
              " 'mecahnics',\n",
              " 'medium',\n",
              " 'methadology',\n",
              " 'mixed',\n",
              " 'mobile',\n",
              " 'molecular',\n",
              " 'mosaic',\n",
              " 'movement',\n",
              " 'music',\n",
              " 'nationality',\n",
              " 'neurology',\n",
              " 'new',\n",
              " 'ngo',\n",
              " 'nuclear',\n",
              " 'online',\n",
              " 'operating',\n",
              " 'organisation',\n",
              " 'organization',\n",
              " 'organizational',\n",
              " 'osteology',\n",
              " 'painting',\n",
              " 'particle',\n",
              " 'partnership',\n",
              " 'pattern',\n",
              " 'pen',\n",
              " 'performance',\n",
              " 'philosophy',\n",
              " 'photography',\n",
              " 'physic',\n",
              " 'physical',\n",
              " 'physiology',\n",
              " 'planning',\n",
              " 'plant',\n",
              " 'platform',\n",
              " 'point',\n",
              " 'policy',\n",
              " 'political',\n",
              " 'politics',\n",
              " 'pollution',\n",
              " 'portfoilio',\n",
              " 'practice',\n",
              " 'prehistory',\n",
              " 'principle',\n",
              " 'print',\n",
              " 'production',\n",
              " 'professionalism',\n",
              " 'programming',\n",
              " 'project',\n",
              " 'promotion',\n",
              " 'protection',\n",
              " 'psycholgy',\n",
              " 'psychological',\n",
              " 'psychology',\n",
              " 'public',\n",
              " 'quantum',\n",
              " 'radiology',\n",
              " 'relation',\n",
              " 'religion',\n",
              " 'remark',\n",
              " 'research',\n",
              " 'resolution',\n",
              " 'resource',\n",
              " 'responsibility',\n",
              " 'revenue',\n",
              " 'right',\n",
              " 'robotics',\n",
              " 'science',\n",
              " 'sculpture',\n",
              " 'secratarial',\n",
              " 'shopping',\n",
              " 'sketch',\n",
              " 'skill',\n",
              " 'social',\n",
              " 'society',\n",
              " 'sociology',\n",
              " 'sport',\n",
              " 'start',\n",
              " 'statuary',\n",
              " 'story',\n",
              " 'strategy',\n",
              " 'study',\n",
              " 'substance',\n",
              " 'system',\n",
              " 'tapestry',\n",
              " 'tax',\n",
              " 'taxation',\n",
              " 'team',\n",
              " 'tech',\n",
              " 'technique',\n",
              " 'technology',\n",
              " 'test',\n",
              " 'textile',\n",
              " 'theory',\n",
              " 'thought',\n",
              " 'tradition',\n",
              " 'transaction',\n",
              " 'treaty',\n",
              " 'trend',\n",
              " 'typography',\n",
              " 'uncategorized',\n",
              " 'ups',\n",
              " 'venture',\n",
              " 'video',\n",
              " 'videography',\n",
              " 'visual',\n",
              " 'watercolour',\n",
              " 'web',\n",
              " 'wood',\n",
              " 'work',\n",
              " 'zoology']"
            ]
          },
          "metadata": {},
          "execution_count": 44
        }
      ]
    },
    {
      "cell_type": "markdown",
      "metadata": {
        "id": "QONaagb2Y0Ih"
      },
      "source": [
        "Berdasarkan keluaran tersebut, terdapat beberapa kata kunci yang memiliki kesalahan penulisan, seperti *communiaction*, *desigining*, *enviorment*, dan masih banyak lagi. Oleh karena itu, kata-kata tersebut harus diubah ke bentuk kata yang benar."
      ]
    },
    {
      "cell_type": "markdown",
      "metadata": {
        "id": "-BRaEubkFwU8"
      },
      "source": [
        "3.1.7 Memperbaiki kata kunci yang memiliki kesalahan penulisan secara manual dengan bantuan [Grammarly](https://grammarly.com). Grammarly adalah aplikasi pengecek serta perbaikan kata dan kalimat dalam bahasa Inggris secara otomatis sehingga kita dapat memanfaatkan aplikasi tersebut untuk melihat kata kunci apa saja yang memiliki kesalahan penulisan.\n",
        "\n",
        "![Grammarly](https://drive.google.com/uc?id=1QHCx-5KpodA9KkqiuUbi57BcIBcoRthr)"
      ]
    },
    {
      "cell_type": "code",
      "metadata": {
        "colab": {
          "base_uri": "https://localhost:8080/"
        },
        "id": "1uuW6LEYFz-m",
        "outputId": "1df558ca-b5b3-4bd5-81eb-0b6717d2b858"
      },
      "source": [
        "typo_words = {\n",
        "    'communiaction': 'communication',\n",
        "    'desigining': 'designing',\n",
        "    'entreperneurship': 'entrepreneurship',\n",
        "    'enviorment': 'environment',\n",
        "    'mangememnt': 'management',\n",
        "    'mangement': 'management',\n",
        "    'mecahnics': 'mechanics',\n",
        "    'methadology': 'methodology',\n",
        "    'organisation': 'organization',\n",
        "    'portfoilio': 'portfolio',\n",
        "    'psycholgy': 'psychology',\n",
        "    'secratarial': 'secretarial'\n",
        "}\n",
        "content['keywords'] = content['keywords'].replace(typo_words, regex=True)\n",
        "\n",
        "tfidf.fit(content['keywords'])\n",
        "tfidf.get_feature_names()"
      ],
      "execution_count": null,
      "outputs": [
        {
          "output_type": "execute_result",
          "data": {
            "text/plain": [
              "['2d',\n",
              " 'abuse',\n",
              " 'accounting',\n",
              " 'acrylic',\n",
              " 'activity',\n",
              " 'advertising',\n",
              " 'agreement',\n",
              " 'algebra',\n",
              " 'algorithm',\n",
              " 'alternate',\n",
              " 'analysis',\n",
              " 'animal',\n",
              " 'application',\n",
              " 'applied',\n",
              " 'archeology',\n",
              " 'architecture',\n",
              " 'art',\n",
              " 'articulation',\n",
              " 'artificial',\n",
              " 'artistic',\n",
              " 'artwork',\n",
              " 'atomic',\n",
              " 'audit',\n",
              " 'auditing',\n",
              " 'banking',\n",
              " 'basic',\n",
              " 'behaviour',\n",
              " 'bio',\n",
              " 'biology',\n",
              " 'biotechnology',\n",
              " 'blog',\n",
              " 'break',\n",
              " 'business',\n",
              " 'calligraphy',\n",
              " 'capitalist',\n",
              " 'cardiology',\n",
              " 'carving',\n",
              " 'ceramic',\n",
              " 'chemistry',\n",
              " 'child',\n",
              " 'cloud',\n",
              " 'coaching',\n",
              " 'colonialism',\n",
              " 'commerce',\n",
              " 'communication',\n",
              " 'company',\n",
              " 'competition',\n",
              " 'composition',\n",
              " 'computation',\n",
              " 'computer',\n",
              " 'computing',\n",
              " 'concept',\n",
              " 'conceptual',\n",
              " 'control',\n",
              " 'corporate',\n",
              " 'cost',\n",
              " 'craft',\n",
              " 'creation',\n",
              " 'creative',\n",
              " 'culture',\n",
              " 'custom',\n",
              " 'cutting',\n",
              " 'data',\n",
              " 'database',\n",
              " 'decision',\n",
              " 'design',\n",
              " 'designing',\n",
              " 'development',\n",
              " 'digital',\n",
              " 'direct',\n",
              " 'dispute',\n",
              " 'distribution',\n",
              " 'drawing',\n",
              " 'duty',\n",
              " 'eco',\n",
              " 'ecology',\n",
              " 'economic',\n",
              " 'economics',\n",
              " 'economy',\n",
              " 'editing',\n",
              " 'education',\n",
              " 'electrical',\n",
              " 'electronics',\n",
              " 'empowerment',\n",
              " 'energy',\n",
              " 'enforcement',\n",
              " 'engineering',\n",
              " 'entrepreneurship',\n",
              " 'environment',\n",
              " 'environmental',\n",
              " 'ethic',\n",
              " 'even',\n",
              " 'event',\n",
              " 'evidence',\n",
              " 'fashion',\n",
              " 'fiction',\n",
              " 'finance',\n",
              " 'financial',\n",
              " 'fine',\n",
              " 'foreign',\n",
              " 'frontend',\n",
              " 'fundamental',\n",
              " 'garment',\n",
              " 'gastroenterology',\n",
              " 'genetic',\n",
              " 'geography',\n",
              " 'government',\n",
              " 'graphic',\n",
              " 'growth',\n",
              " 'gst',\n",
              " 'hardware',\n",
              " 'health',\n",
              " 'history',\n",
              " 'hr',\n",
              " 'human',\n",
              " 'humanity',\n",
              " 'illustration',\n",
              " 'income',\n",
              " 'india',\n",
              " 'indian',\n",
              " 'industrial',\n",
              " 'information',\n",
              " 'ink',\n",
              " 'inorganic',\n",
              " 'instrumentation',\n",
              " 'intelligence',\n",
              " 'internal',\n",
              " 'international',\n",
              " 'intervention',\n",
              " 'labor',\n",
              " 'language',\n",
              " 'lateral',\n",
              " 'law',\n",
              " 'learning',\n",
              " 'legal',\n",
              " 'linear',\n",
              " 'literature',\n",
              " 'logic',\n",
              " 'logo',\n",
              " 'machine',\n",
              " 'management',\n",
              " 'managerial',\n",
              " 'manufacturing',\n",
              " 'marketing',\n",
              " 'mass',\n",
              " 'mathematics',\n",
              " 'mechanics',\n",
              " 'medium',\n",
              " 'methodology',\n",
              " 'mixed',\n",
              " 'mobile',\n",
              " 'molecular',\n",
              " 'mosaic',\n",
              " 'movement',\n",
              " 'music',\n",
              " 'nationality',\n",
              " 'neurology',\n",
              " 'new',\n",
              " 'ngo',\n",
              " 'nuclear',\n",
              " 'online',\n",
              " 'operating',\n",
              " 'organization',\n",
              " 'organizational',\n",
              " 'osteology',\n",
              " 'painting',\n",
              " 'particle',\n",
              " 'partnership',\n",
              " 'pattern',\n",
              " 'pen',\n",
              " 'performance',\n",
              " 'philosophy',\n",
              " 'photography',\n",
              " 'physic',\n",
              " 'physical',\n",
              " 'physiology',\n",
              " 'planning',\n",
              " 'plant',\n",
              " 'platform',\n",
              " 'point',\n",
              " 'policy',\n",
              " 'political',\n",
              " 'politics',\n",
              " 'pollution',\n",
              " 'portfolio',\n",
              " 'practice',\n",
              " 'prehistory',\n",
              " 'principle',\n",
              " 'print',\n",
              " 'production',\n",
              " 'professionalism',\n",
              " 'programming',\n",
              " 'project',\n",
              " 'promotion',\n",
              " 'protection',\n",
              " 'psychological',\n",
              " 'psychology',\n",
              " 'public',\n",
              " 'quantum',\n",
              " 'radiology',\n",
              " 'relation',\n",
              " 'religion',\n",
              " 'remark',\n",
              " 'research',\n",
              " 'resolution',\n",
              " 'resource',\n",
              " 'responsibility',\n",
              " 'revenue',\n",
              " 'right',\n",
              " 'robotics',\n",
              " 'science',\n",
              " 'sculpture',\n",
              " 'secretarial',\n",
              " 'shopping',\n",
              " 'sketch',\n",
              " 'skill',\n",
              " 'social',\n",
              " 'society',\n",
              " 'sociology',\n",
              " 'sport',\n",
              " 'start',\n",
              " 'statuary',\n",
              " 'story',\n",
              " 'strategy',\n",
              " 'study',\n",
              " 'substance',\n",
              " 'system',\n",
              " 'tapestry',\n",
              " 'tax',\n",
              " 'taxation',\n",
              " 'team',\n",
              " 'tech',\n",
              " 'technique',\n",
              " 'technology',\n",
              " 'test',\n",
              " 'textile',\n",
              " 'theory',\n",
              " 'thought',\n",
              " 'tradition',\n",
              " 'transaction',\n",
              " 'treaty',\n",
              " 'trend',\n",
              " 'typography',\n",
              " 'uncategorized',\n",
              " 'ups',\n",
              " 'venture',\n",
              " 'video',\n",
              " 'videography',\n",
              " 'visual',\n",
              " 'watercolour',\n",
              " 'web',\n",
              " 'wood',\n",
              " 'work',\n",
              " 'zoology']"
            ]
          },
          "metadata": {},
          "execution_count": 45
        }
      ]
    },
    {
      "cell_type": "markdown",
      "metadata": {
        "id": "AU1uwzSqeS3-"
      },
      "source": [
        "3.1.8 Melakukan transformasi fitur `keywords` menjadi bentuk matriks TF–IDF agar nilai pada fitur tersebut dapat diolah oleh model."
      ]
    },
    {
      "cell_type": "code",
      "metadata": {
        "colab": {
          "base_uri": "https://localhost:8080/"
        },
        "id": "VVn2fYXp9G_1",
        "outputId": "8028b587-8214-4be5-954d-1d374ec9c38d"
      },
      "source": [
        "tfidf_matrix = tfidf.fit_transform(content['keywords'])\n",
        "print('Ukuran matriks TF-IDF:', tfidf_matrix.shape)"
      ],
      "execution_count": null,
      "outputs": [
        {
          "output_type": "stream",
          "name": "stdout",
          "text": [
            "Ukuran matriks TF-IDF: (493, 254)\n"
          ]
        }
      ]
    },
    {
      "cell_type": "markdown",
      "metadata": {
        "id": "6QcKZv0ea75x"
      },
      "source": [
        "Berdasarkan keluaran tersebut, TF–IDF telah berhasil mengumpulkan 254 kata penting dengan masing-masing bobot yang berbeda pada 493 postingan."
      ]
    },
    {
      "cell_type": "markdown",
      "metadata": {
        "id": "MUcboIT7emAX"
      },
      "source": [
        "3.1.9 Menerapkan matriks TF–IDF pada beberapa postingan untuk melihat berapa bobot dari semua kata kunci pada suatu postingan. Bobot tersebut memiliki nilai dengan skala 0–1, 0 berarti tidak memiliki keterkaitan dan 1 berarti sangat memiliki keterkaitan."
      ]
    },
    {
      "cell_type": "code",
      "metadata": {
        "colab": {
          "base_uri": "https://localhost:8080/",
          "height": 369
        },
        "id": "YbMELntm9k8v",
        "outputId": "089d24de-6a50-4450-acae-9ec24074490d"
      },
      "source": [
        "pd.DataFrame(tfidf_matrix.todense(), columns=tfidf.get_feature_names(),\n",
        "             index=content['title']).head()"
      ],
      "execution_count": null,
      "outputs": [
        {
          "output_type": "execute_result",
          "data": {
            "text/html": [
              "<div>\n",
              "<style scoped>\n",
              "    .dataframe tbody tr th:only-of-type {\n",
              "        vertical-align: middle;\n",
              "    }\n",
              "\n",
              "    .dataframe tbody tr th {\n",
              "        vertical-align: top;\n",
              "    }\n",
              "\n",
              "    .dataframe thead th {\n",
              "        text-align: right;\n",
              "    }\n",
              "</style>\n",
              "<table border=\"1\" class=\"dataframe\">\n",
              "  <thead>\n",
              "    <tr style=\"text-align: right;\">\n",
              "      <th></th>\n",
              "      <th>2d</th>\n",
              "      <th>abuse</th>\n",
              "      <th>accounting</th>\n",
              "      <th>acrylic</th>\n",
              "      <th>activity</th>\n",
              "      <th>advertising</th>\n",
              "      <th>agreement</th>\n",
              "      <th>algebra</th>\n",
              "      <th>algorithm</th>\n",
              "      <th>alternate</th>\n",
              "      <th>analysis</th>\n",
              "      <th>animal</th>\n",
              "      <th>application</th>\n",
              "      <th>applied</th>\n",
              "      <th>archeology</th>\n",
              "      <th>architecture</th>\n",
              "      <th>art</th>\n",
              "      <th>articulation</th>\n",
              "      <th>artificial</th>\n",
              "      <th>artistic</th>\n",
              "      <th>artwork</th>\n",
              "      <th>atomic</th>\n",
              "      <th>audit</th>\n",
              "      <th>auditing</th>\n",
              "      <th>banking</th>\n",
              "      <th>basic</th>\n",
              "      <th>behaviour</th>\n",
              "      <th>bio</th>\n",
              "      <th>biology</th>\n",
              "      <th>biotechnology</th>\n",
              "      <th>blog</th>\n",
              "      <th>break</th>\n",
              "      <th>business</th>\n",
              "      <th>calligraphy</th>\n",
              "      <th>capitalist</th>\n",
              "      <th>cardiology</th>\n",
              "      <th>carving</th>\n",
              "      <th>ceramic</th>\n",
              "      <th>chemistry</th>\n",
              "      <th>child</th>\n",
              "      <th>...</th>\n",
              "      <th>sketch</th>\n",
              "      <th>skill</th>\n",
              "      <th>social</th>\n",
              "      <th>society</th>\n",
              "      <th>sociology</th>\n",
              "      <th>sport</th>\n",
              "      <th>start</th>\n",
              "      <th>statuary</th>\n",
              "      <th>story</th>\n",
              "      <th>strategy</th>\n",
              "      <th>study</th>\n",
              "      <th>substance</th>\n",
              "      <th>system</th>\n",
              "      <th>tapestry</th>\n",
              "      <th>tax</th>\n",
              "      <th>taxation</th>\n",
              "      <th>team</th>\n",
              "      <th>tech</th>\n",
              "      <th>technique</th>\n",
              "      <th>technology</th>\n",
              "      <th>test</th>\n",
              "      <th>textile</th>\n",
              "      <th>theory</th>\n",
              "      <th>thought</th>\n",
              "      <th>tradition</th>\n",
              "      <th>transaction</th>\n",
              "      <th>treaty</th>\n",
              "      <th>trend</th>\n",
              "      <th>typography</th>\n",
              "      <th>uncategorized</th>\n",
              "      <th>ups</th>\n",
              "      <th>venture</th>\n",
              "      <th>video</th>\n",
              "      <th>videography</th>\n",
              "      <th>visual</th>\n",
              "      <th>watercolour</th>\n",
              "      <th>web</th>\n",
              "      <th>wood</th>\n",
              "      <th>work</th>\n",
              "      <th>zoology</th>\n",
              "    </tr>\n",
              "    <tr>\n",
              "      <th>title</th>\n",
              "      <th></th>\n",
              "      <th></th>\n",
              "      <th></th>\n",
              "      <th></th>\n",
              "      <th></th>\n",
              "      <th></th>\n",
              "      <th></th>\n",
              "      <th></th>\n",
              "      <th></th>\n",
              "      <th></th>\n",
              "      <th></th>\n",
              "      <th></th>\n",
              "      <th></th>\n",
              "      <th></th>\n",
              "      <th></th>\n",
              "      <th></th>\n",
              "      <th></th>\n",
              "      <th></th>\n",
              "      <th></th>\n",
              "      <th></th>\n",
              "      <th></th>\n",
              "      <th></th>\n",
              "      <th></th>\n",
              "      <th></th>\n",
              "      <th></th>\n",
              "      <th></th>\n",
              "      <th></th>\n",
              "      <th></th>\n",
              "      <th></th>\n",
              "      <th></th>\n",
              "      <th></th>\n",
              "      <th></th>\n",
              "      <th></th>\n",
              "      <th></th>\n",
              "      <th></th>\n",
              "      <th></th>\n",
              "      <th></th>\n",
              "      <th></th>\n",
              "      <th></th>\n",
              "      <th></th>\n",
              "      <th></th>\n",
              "      <th></th>\n",
              "      <th></th>\n",
              "      <th></th>\n",
              "      <th></th>\n",
              "      <th></th>\n",
              "      <th></th>\n",
              "      <th></th>\n",
              "      <th></th>\n",
              "      <th></th>\n",
              "      <th></th>\n",
              "      <th></th>\n",
              "      <th></th>\n",
              "      <th></th>\n",
              "      <th></th>\n",
              "      <th></th>\n",
              "      <th></th>\n",
              "      <th></th>\n",
              "      <th></th>\n",
              "      <th></th>\n",
              "      <th></th>\n",
              "      <th></th>\n",
              "      <th></th>\n",
              "      <th></th>\n",
              "      <th></th>\n",
              "      <th></th>\n",
              "      <th></th>\n",
              "      <th></th>\n",
              "      <th></th>\n",
              "      <th></th>\n",
              "      <th></th>\n",
              "      <th></th>\n",
              "      <th></th>\n",
              "      <th></th>\n",
              "      <th></th>\n",
              "      <th></th>\n",
              "      <th></th>\n",
              "      <th></th>\n",
              "      <th></th>\n",
              "      <th></th>\n",
              "      <th></th>\n",
              "    </tr>\n",
              "  </thead>\n",
              "  <tbody>\n",
              "    <tr>\n",
              "      <th>hello there</th>\n",
              "      <td>0.0</td>\n",
              "      <td>0.0</td>\n",
              "      <td>0.0</td>\n",
              "      <td>0.0</td>\n",
              "      <td>0.0</td>\n",
              "      <td>0.0</td>\n",
              "      <td>0.0</td>\n",
              "      <td>0.0</td>\n",
              "      <td>0.0</td>\n",
              "      <td>0.0</td>\n",
              "      <td>0.0</td>\n",
              "      <td>0.0</td>\n",
              "      <td>0.0</td>\n",
              "      <td>0.0</td>\n",
              "      <td>0.0</td>\n",
              "      <td>0.0</td>\n",
              "      <td>0.0</td>\n",
              "      <td>0.0</td>\n",
              "      <td>0.00000</td>\n",
              "      <td>0.0</td>\n",
              "      <td>0.000000</td>\n",
              "      <td>0.0</td>\n",
              "      <td>0.0</td>\n",
              "      <td>0.0</td>\n",
              "      <td>0.0</td>\n",
              "      <td>0.0</td>\n",
              "      <td>0.0</td>\n",
              "      <td>0.0</td>\n",
              "      <td>0.0</td>\n",
              "      <td>0.634966</td>\n",
              "      <td>0.230623</td>\n",
              "      <td>0.0</td>\n",
              "      <td>0.0</td>\n",
              "      <td>0.0</td>\n",
              "      <td>0.0</td>\n",
              "      <td>0.0</td>\n",
              "      <td>0.0</td>\n",
              "      <td>0.0</td>\n",
              "      <td>0.0</td>\n",
              "      <td>0.0</td>\n",
              "      <td>...</td>\n",
              "      <td>0.0</td>\n",
              "      <td>0.0</td>\n",
              "      <td>0.0</td>\n",
              "      <td>0.0</td>\n",
              "      <td>0.0</td>\n",
              "      <td>0.0</td>\n",
              "      <td>0.0</td>\n",
              "      <td>0.0</td>\n",
              "      <td>0.0</td>\n",
              "      <td>0.0</td>\n",
              "      <td>0.0</td>\n",
              "      <td>0.0</td>\n",
              "      <td>0.000000</td>\n",
              "      <td>0.0</td>\n",
              "      <td>0.0</td>\n",
              "      <td>0.0</td>\n",
              "      <td>0.0</td>\n",
              "      <td>0.0</td>\n",
              "      <td>0.0</td>\n",
              "      <td>0.000000</td>\n",
              "      <td>0.0</td>\n",
              "      <td>0.0</td>\n",
              "      <td>0.0</td>\n",
              "      <td>0.0</td>\n",
              "      <td>0.0</td>\n",
              "      <td>0.0</td>\n",
              "      <td>0.0</td>\n",
              "      <td>0.0</td>\n",
              "      <td>0.0</td>\n",
              "      <td>0.0</td>\n",
              "      <td>0.0</td>\n",
              "      <td>0.0</td>\n",
              "      <td>0.0</td>\n",
              "      <td>0.0</td>\n",
              "      <td>0.0</td>\n",
              "      <td>0.0</td>\n",
              "      <td>0.0</td>\n",
              "      <td>0.0</td>\n",
              "      <td>0.0</td>\n",
              "      <td>0.0</td>\n",
              "    </tr>\n",
              "    <tr>\n",
              "      <th>Ml and AI</th>\n",
              "      <td>0.0</td>\n",
              "      <td>0.0</td>\n",
              "      <td>0.0</td>\n",
              "      <td>0.0</td>\n",
              "      <td>0.0</td>\n",
              "      <td>0.0</td>\n",
              "      <td>0.0</td>\n",
              "      <td>0.0</td>\n",
              "      <td>0.0</td>\n",
              "      <td>0.0</td>\n",
              "      <td>0.0</td>\n",
              "      <td>0.0</td>\n",
              "      <td>0.0</td>\n",
              "      <td>0.0</td>\n",
              "      <td>0.0</td>\n",
              "      <td>0.0</td>\n",
              "      <td>0.0</td>\n",
              "      <td>0.0</td>\n",
              "      <td>0.45135</td>\n",
              "      <td>0.0</td>\n",
              "      <td>0.000000</td>\n",
              "      <td>0.0</td>\n",
              "      <td>0.0</td>\n",
              "      <td>0.0</td>\n",
              "      <td>0.0</td>\n",
              "      <td>0.0</td>\n",
              "      <td>0.0</td>\n",
              "      <td>0.0</td>\n",
              "      <td>0.0</td>\n",
              "      <td>0.000000</td>\n",
              "      <td>0.168205</td>\n",
              "      <td>0.0</td>\n",
              "      <td>0.0</td>\n",
              "      <td>0.0</td>\n",
              "      <td>0.0</td>\n",
              "      <td>0.0</td>\n",
              "      <td>0.0</td>\n",
              "      <td>0.0</td>\n",
              "      <td>0.0</td>\n",
              "      <td>0.0</td>\n",
              "      <td>...</td>\n",
              "      <td>0.0</td>\n",
              "      <td>0.0</td>\n",
              "      <td>0.0</td>\n",
              "      <td>0.0</td>\n",
              "      <td>0.0</td>\n",
              "      <td>0.0</td>\n",
              "      <td>0.0</td>\n",
              "      <td>0.0</td>\n",
              "      <td>0.0</td>\n",
              "      <td>0.0</td>\n",
              "      <td>0.0</td>\n",
              "      <td>0.0</td>\n",
              "      <td>0.000000</td>\n",
              "      <td>0.0</td>\n",
              "      <td>0.0</td>\n",
              "      <td>0.0</td>\n",
              "      <td>0.0</td>\n",
              "      <td>0.0</td>\n",
              "      <td>0.0</td>\n",
              "      <td>0.273835</td>\n",
              "      <td>0.0</td>\n",
              "      <td>0.0</td>\n",
              "      <td>0.0</td>\n",
              "      <td>0.0</td>\n",
              "      <td>0.0</td>\n",
              "      <td>0.0</td>\n",
              "      <td>0.0</td>\n",
              "      <td>0.0</td>\n",
              "      <td>0.0</td>\n",
              "      <td>0.0</td>\n",
              "      <td>0.0</td>\n",
              "      <td>0.0</td>\n",
              "      <td>0.0</td>\n",
              "      <td>0.0</td>\n",
              "      <td>0.0</td>\n",
              "      <td>0.0</td>\n",
              "      <td>0.0</td>\n",
              "      <td>0.0</td>\n",
              "      <td>0.0</td>\n",
              "      <td>0.0</td>\n",
              "    </tr>\n",
              "    <tr>\n",
              "      <th>What is an Operating System ?</th>\n",
              "      <td>0.0</td>\n",
              "      <td>0.0</td>\n",
              "      <td>0.0</td>\n",
              "      <td>0.0</td>\n",
              "      <td>0.0</td>\n",
              "      <td>0.0</td>\n",
              "      <td>0.0</td>\n",
              "      <td>0.0</td>\n",
              "      <td>0.0</td>\n",
              "      <td>0.0</td>\n",
              "      <td>0.0</td>\n",
              "      <td>0.0</td>\n",
              "      <td>0.0</td>\n",
              "      <td>0.0</td>\n",
              "      <td>0.0</td>\n",
              "      <td>0.0</td>\n",
              "      <td>0.0</td>\n",
              "      <td>0.0</td>\n",
              "      <td>0.00000</td>\n",
              "      <td>0.0</td>\n",
              "      <td>0.000000</td>\n",
              "      <td>0.0</td>\n",
              "      <td>0.0</td>\n",
              "      <td>0.0</td>\n",
              "      <td>0.0</td>\n",
              "      <td>0.0</td>\n",
              "      <td>0.0</td>\n",
              "      <td>0.0</td>\n",
              "      <td>0.0</td>\n",
              "      <td>0.000000</td>\n",
              "      <td>0.239178</td>\n",
              "      <td>0.0</td>\n",
              "      <td>0.0</td>\n",
              "      <td>0.0</td>\n",
              "      <td>0.0</td>\n",
              "      <td>0.0</td>\n",
              "      <td>0.0</td>\n",
              "      <td>0.0</td>\n",
              "      <td>0.0</td>\n",
              "      <td>0.0</td>\n",
              "      <td>...</td>\n",
              "      <td>0.0</td>\n",
              "      <td>0.0</td>\n",
              "      <td>0.0</td>\n",
              "      <td>0.0</td>\n",
              "      <td>0.0</td>\n",
              "      <td>0.0</td>\n",
              "      <td>0.0</td>\n",
              "      <td>0.0</td>\n",
              "      <td>0.0</td>\n",
              "      <td>0.0</td>\n",
              "      <td>0.0</td>\n",
              "      <td>0.0</td>\n",
              "      <td>0.641793</td>\n",
              "      <td>0.0</td>\n",
              "      <td>0.0</td>\n",
              "      <td>0.0</td>\n",
              "      <td>0.0</td>\n",
              "      <td>0.0</td>\n",
              "      <td>0.0</td>\n",
              "      <td>0.000000</td>\n",
              "      <td>0.0</td>\n",
              "      <td>0.0</td>\n",
              "      <td>0.0</td>\n",
              "      <td>0.0</td>\n",
              "      <td>0.0</td>\n",
              "      <td>0.0</td>\n",
              "      <td>0.0</td>\n",
              "      <td>0.0</td>\n",
              "      <td>0.0</td>\n",
              "      <td>0.0</td>\n",
              "      <td>0.0</td>\n",
              "      <td>0.0</td>\n",
              "      <td>0.0</td>\n",
              "      <td>0.0</td>\n",
              "      <td>0.0</td>\n",
              "      <td>0.0</td>\n",
              "      <td>0.0</td>\n",
              "      <td>0.0</td>\n",
              "      <td>0.0</td>\n",
              "      <td>0.0</td>\n",
              "    </tr>\n",
              "    <tr>\n",
              "      <th>Lord Shiva</th>\n",
              "      <td>0.0</td>\n",
              "      <td>0.0</td>\n",
              "      <td>0.0</td>\n",
              "      <td>0.0</td>\n",
              "      <td>0.0</td>\n",
              "      <td>0.0</td>\n",
              "      <td>0.0</td>\n",
              "      <td>0.0</td>\n",
              "      <td>0.0</td>\n",
              "      <td>0.0</td>\n",
              "      <td>0.0</td>\n",
              "      <td>0.0</td>\n",
              "      <td>0.0</td>\n",
              "      <td>0.0</td>\n",
              "      <td>0.0</td>\n",
              "      <td>0.0</td>\n",
              "      <td>0.0</td>\n",
              "      <td>0.0</td>\n",
              "      <td>0.00000</td>\n",
              "      <td>0.0</td>\n",
              "      <td>0.496258</td>\n",
              "      <td>0.0</td>\n",
              "      <td>0.0</td>\n",
              "      <td>0.0</td>\n",
              "      <td>0.0</td>\n",
              "      <td>0.0</td>\n",
              "      <td>0.0</td>\n",
              "      <td>0.0</td>\n",
              "      <td>0.0</td>\n",
              "      <td>0.000000</td>\n",
              "      <td>0.000000</td>\n",
              "      <td>0.0</td>\n",
              "      <td>0.0</td>\n",
              "      <td>0.0</td>\n",
              "      <td>0.0</td>\n",
              "      <td>0.0</td>\n",
              "      <td>0.0</td>\n",
              "      <td>0.0</td>\n",
              "      <td>0.0</td>\n",
              "      <td>0.0</td>\n",
              "      <td>...</td>\n",
              "      <td>0.0</td>\n",
              "      <td>0.0</td>\n",
              "      <td>0.0</td>\n",
              "      <td>0.0</td>\n",
              "      <td>0.0</td>\n",
              "      <td>0.0</td>\n",
              "      <td>0.0</td>\n",
              "      <td>0.0</td>\n",
              "      <td>0.0</td>\n",
              "      <td>0.0</td>\n",
              "      <td>0.0</td>\n",
              "      <td>0.0</td>\n",
              "      <td>0.000000</td>\n",
              "      <td>0.0</td>\n",
              "      <td>0.0</td>\n",
              "      <td>0.0</td>\n",
              "      <td>0.0</td>\n",
              "      <td>0.0</td>\n",
              "      <td>0.0</td>\n",
              "      <td>0.000000</td>\n",
              "      <td>0.0</td>\n",
              "      <td>0.0</td>\n",
              "      <td>0.0</td>\n",
              "      <td>0.0</td>\n",
              "      <td>0.0</td>\n",
              "      <td>0.0</td>\n",
              "      <td>0.0</td>\n",
              "      <td>0.0</td>\n",
              "      <td>0.0</td>\n",
              "      <td>0.0</td>\n",
              "      <td>0.0</td>\n",
              "      <td>0.0</td>\n",
              "      <td>0.0</td>\n",
              "      <td>0.0</td>\n",
              "      <td>0.0</td>\n",
              "      <td>0.0</td>\n",
              "      <td>0.0</td>\n",
              "      <td>0.0</td>\n",
              "      <td>0.0</td>\n",
              "      <td>0.0</td>\n",
              "    </tr>\n",
              "    <tr>\n",
              "      <th>How Competition law evolved?</th>\n",
              "      <td>0.0</td>\n",
              "      <td>0.0</td>\n",
              "      <td>0.0</td>\n",
              "      <td>0.0</td>\n",
              "      <td>0.0</td>\n",
              "      <td>0.0</td>\n",
              "      <td>0.0</td>\n",
              "      <td>0.0</td>\n",
              "      <td>0.0</td>\n",
              "      <td>0.0</td>\n",
              "      <td>0.0</td>\n",
              "      <td>0.0</td>\n",
              "      <td>0.0</td>\n",
              "      <td>0.0</td>\n",
              "      <td>0.0</td>\n",
              "      <td>0.0</td>\n",
              "      <td>0.0</td>\n",
              "      <td>0.0</td>\n",
              "      <td>0.00000</td>\n",
              "      <td>0.0</td>\n",
              "      <td>0.000000</td>\n",
              "      <td>0.0</td>\n",
              "      <td>0.0</td>\n",
              "      <td>0.0</td>\n",
              "      <td>0.0</td>\n",
              "      <td>0.0</td>\n",
              "      <td>0.0</td>\n",
              "      <td>0.0</td>\n",
              "      <td>0.0</td>\n",
              "      <td>0.000000</td>\n",
              "      <td>0.257026</td>\n",
              "      <td>0.0</td>\n",
              "      <td>0.0</td>\n",
              "      <td>0.0</td>\n",
              "      <td>0.0</td>\n",
              "      <td>0.0</td>\n",
              "      <td>0.0</td>\n",
              "      <td>0.0</td>\n",
              "      <td>0.0</td>\n",
              "      <td>0.0</td>\n",
              "      <td>...</td>\n",
              "      <td>0.0</td>\n",
              "      <td>0.0</td>\n",
              "      <td>0.0</td>\n",
              "      <td>0.0</td>\n",
              "      <td>0.0</td>\n",
              "      <td>0.0</td>\n",
              "      <td>0.0</td>\n",
              "      <td>0.0</td>\n",
              "      <td>0.0</td>\n",
              "      <td>0.0</td>\n",
              "      <td>0.0</td>\n",
              "      <td>0.0</td>\n",
              "      <td>0.000000</td>\n",
              "      <td>0.0</td>\n",
              "      <td>0.0</td>\n",
              "      <td>0.0</td>\n",
              "      <td>0.0</td>\n",
              "      <td>0.0</td>\n",
              "      <td>0.0</td>\n",
              "      <td>0.000000</td>\n",
              "      <td>0.0</td>\n",
              "      <td>0.0</td>\n",
              "      <td>0.0</td>\n",
              "      <td>0.0</td>\n",
              "      <td>0.0</td>\n",
              "      <td>0.0</td>\n",
              "      <td>0.0</td>\n",
              "      <td>0.0</td>\n",
              "      <td>0.0</td>\n",
              "      <td>0.0</td>\n",
              "      <td>0.0</td>\n",
              "      <td>0.0</td>\n",
              "      <td>0.0</td>\n",
              "      <td>0.0</td>\n",
              "      <td>0.0</td>\n",
              "      <td>0.0</td>\n",
              "      <td>0.0</td>\n",
              "      <td>0.0</td>\n",
              "      <td>0.0</td>\n",
              "      <td>0.0</td>\n",
              "    </tr>\n",
              "  </tbody>\n",
              "</table>\n",
              "<p>5 rows × 254 columns</p>\n",
              "</div>"
            ],
            "text/plain": [
              "                                2d  abuse  accounting  ...  wood  work  zoology\n",
              "title                                                  ...                     \n",
              "hello there                    0.0    0.0         0.0  ...   0.0   0.0      0.0\n",
              "Ml and AI                      0.0    0.0         0.0  ...   0.0   0.0      0.0\n",
              "What is an Operating System ?  0.0    0.0         0.0  ...   0.0   0.0      0.0\n",
              "Lord Shiva                     0.0    0.0         0.0  ...   0.0   0.0      0.0\n",
              "How Competition law evolved?   0.0    0.0         0.0  ...   0.0   0.0      0.0\n",
              "\n",
              "[5 rows x 254 columns]"
            ]
          },
          "metadata": {},
          "execution_count": 47
        }
      ]
    },
    {
      "cell_type": "markdown",
      "metadata": {
        "id": "BHiRbQD48M0C"
      },
      "source": [
        "### 3.2 *Collaborative Filtering*"
      ]
    },
    {
      "cell_type": "markdown",
      "metadata": {
        "id": "csvdL3-38SuD"
      },
      "source": [
        "3.2.1 Membuat data baru berdasarkan data tayangan. Fitur utama yang akan digunakan dalam proses pemodelan *collaborative filtering* kali ini adalah fitur `user_id` dan `post_id` karena kedua fitur tersebut memberikan informasi berupa pengguna mana yang telah melihat suatu postingan dan postingan apa yang dilihatnya. Pengguna dapat melihat banyak postingan dan postingan dapat dilihat banyak pengguna."
      ]
    },
    {
      "cell_type": "code",
      "metadata": {
        "colab": {
          "base_uri": "https://localhost:8080/"
        },
        "id": "3-VDCmgP8U1Z",
        "outputId": "4d24f397-ee32-4501-814f-bcc2967f8ee1"
      },
      "source": [
        "collab = views[['user_id', 'post_id']].copy()\n",
        "collab"
      ],
      "execution_count": null,
      "outputs": [
        {
          "output_type": "execute_result",
          "data": {
            "text/html": [
              "<div>\n",
              "<style scoped>\n",
              "    .dataframe tbody tr th:only-of-type {\n",
              "        vertical-align: middle;\n",
              "    }\n",
              "\n",
              "    .dataframe tbody tr th {\n",
              "        vertical-align: top;\n",
              "    }\n",
              "\n",
              "    .dataframe thead th {\n",
              "        text-align: right;\n",
              "    }\n",
              "</style>\n",
              "<table border=\"1\" class=\"dataframe\">\n",
              "  <thead>\n",
              "    <tr style=\"text-align: right;\">\n",
              "      <th></th>\n",
              "      <th>user_id</th>\n",
              "      <th>post_id</th>\n",
              "    </tr>\n",
              "  </thead>\n",
              "  <tbody>\n",
              "    <tr>\n",
              "      <th>0</th>\n",
              "      <td>5df49b32cc709107827fb3c7</td>\n",
              "      <td>5ec821ddec493f4a2655889e</td>\n",
              "    </tr>\n",
              "    <tr>\n",
              "      <th>1</th>\n",
              "      <td>5ed3748576027d35905ccaab</td>\n",
              "      <td>5ed4cbadbd514d602c1531a6</td>\n",
              "    </tr>\n",
              "    <tr>\n",
              "      <th>2</th>\n",
              "      <td>5ed0defa76027d35905cc2de</td>\n",
              "      <td>5eac305f10426255a7aa9dd3</td>\n",
              "    </tr>\n",
              "    <tr>\n",
              "      <th>3</th>\n",
              "      <td>5ed0defa76027d35905cc2de</td>\n",
              "      <td>5ed1ff0276027d35905cc60d</td>\n",
              "    </tr>\n",
              "    <tr>\n",
              "      <th>4</th>\n",
              "      <td>5ed0defa76027d35905cc2de</td>\n",
              "      <td>5ed3820f76027d35905ccac8</td>\n",
              "    </tr>\n",
              "    <tr>\n",
              "      <th>...</th>\n",
              "      <td>...</td>\n",
              "      <td>...</td>\n",
              "    </tr>\n",
              "    <tr>\n",
              "      <th>1444</th>\n",
              "      <td>5d60098a653a331687083238</td>\n",
              "      <td>5e7a60edcfc8b713f5ac7d82</td>\n",
              "    </tr>\n",
              "    <tr>\n",
              "      <th>1445</th>\n",
              "      <td>5d60098a653a331687083238</td>\n",
              "      <td>5e7a629ccfc8b713f5ac7d84</td>\n",
              "    </tr>\n",
              "    <tr>\n",
              "      <th>1446</th>\n",
              "      <td>5d60098a653a331687083238</td>\n",
              "      <td>5e7b1e65cfc8b713f5ac7d90</td>\n",
              "    </tr>\n",
              "    <tr>\n",
              "      <th>1447</th>\n",
              "      <td>5d60098a653a331687083238</td>\n",
              "      <td>5e7cc074cfc8b713f5ac7db0</td>\n",
              "    </tr>\n",
              "    <tr>\n",
              "      <th>1448</th>\n",
              "      <td>5d60098a653a331687083238</td>\n",
              "      <td>5e1029f22a37d20505da2a79</td>\n",
              "    </tr>\n",
              "  </tbody>\n",
              "</table>\n",
              "<p>1447 rows × 2 columns</p>\n",
              "</div>"
            ],
            "text/plain": [
              "                       user_id                   post_id\n",
              "0     5df49b32cc709107827fb3c7  5ec821ddec493f4a2655889e\n",
              "1     5ed3748576027d35905ccaab  5ed4cbadbd514d602c1531a6\n",
              "2     5ed0defa76027d35905cc2de  5eac305f10426255a7aa9dd3\n",
              "3     5ed0defa76027d35905cc2de  5ed1ff0276027d35905cc60d\n",
              "4     5ed0defa76027d35905cc2de  5ed3820f76027d35905ccac8\n",
              "...                        ...                       ...\n",
              "1444  5d60098a653a331687083238  5e7a60edcfc8b713f5ac7d82\n",
              "1445  5d60098a653a331687083238  5e7a629ccfc8b713f5ac7d84\n",
              "1446  5d60098a653a331687083238  5e7b1e65cfc8b713f5ac7d90\n",
              "1447  5d60098a653a331687083238  5e7cc074cfc8b713f5ac7db0\n",
              "1448  5d60098a653a331687083238  5e1029f22a37d20505da2a79\n",
              "\n",
              "[1447 rows x 2 columns]"
            ]
          },
          "metadata": {},
          "execution_count": 48
        }
      ]
    },
    {
      "cell_type": "markdown",
      "metadata": {
        "id": "03byvoCp_Rdi"
      },
      "source": [
        "3.2.2 Membuat fitur `total_views` yang berisi nilai seberapa banyak pengguna melihat suatu postingan. Nilai dari fitur tersebut didapatkan dari penggabungan sampel yang memiliki nilai `user_id` dan `post_id` yang sama."
      ]
    },
    {
      "cell_type": "code",
      "metadata": {
        "colab": {
          "base_uri": "https://localhost:8080/"
        },
        "id": "bOah64Su8xhL",
        "outputId": "733fdf8d-a78b-418f-9239-38758d928174"
      },
      "source": [
        "collab = collab.groupby(list(collab.columns), as_index=False).size()\n",
        "collab = collab.rename(columns={'size': 'total_views'})\n",
        "collab"
      ],
      "execution_count": null,
      "outputs": [
        {
          "output_type": "execute_result",
          "data": {
            "text/html": [
              "<div>\n",
              "<style scoped>\n",
              "    .dataframe tbody tr th:only-of-type {\n",
              "        vertical-align: middle;\n",
              "    }\n",
              "\n",
              "    .dataframe tbody tr th {\n",
              "        vertical-align: top;\n",
              "    }\n",
              "\n",
              "    .dataframe thead th {\n",
              "        text-align: right;\n",
              "    }\n",
              "</style>\n",
              "<table border=\"1\" class=\"dataframe\">\n",
              "  <thead>\n",
              "    <tr style=\"text-align: right;\">\n",
              "      <th></th>\n",
              "      <th>user_id</th>\n",
              "      <th>post_id</th>\n",
              "      <th>total_views</th>\n",
              "    </tr>\n",
              "  </thead>\n",
              "  <tbody>\n",
              "    <tr>\n",
              "      <th>0</th>\n",
              "      <td>5d60098a653a331687083238</td>\n",
              "      <td>5d62abaa65218653a132c956</td>\n",
              "      <td>1</td>\n",
              "    </tr>\n",
              "    <tr>\n",
              "      <th>1</th>\n",
              "      <td>5d60098a653a331687083238</td>\n",
              "      <td>5d6d39567fa40e1417a4931c</td>\n",
              "      <td>1</td>\n",
              "    </tr>\n",
              "    <tr>\n",
              "      <th>2</th>\n",
              "      <td>5d60098a653a331687083238</td>\n",
              "      <td>5dbc631f99cbb90e4339c7fd</td>\n",
              "      <td>1</td>\n",
              "    </tr>\n",
              "    <tr>\n",
              "      <th>3</th>\n",
              "      <td>5d60098a653a331687083238</td>\n",
              "      <td>5dc065ca24b883670268772f</td>\n",
              "      <td>1</td>\n",
              "    </tr>\n",
              "    <tr>\n",
              "      <th>4</th>\n",
              "      <td>5d60098a653a331687083238</td>\n",
              "      <td>5ddeb6e80eb5e25a8a07f065</td>\n",
              "      <td>1</td>\n",
              "    </tr>\n",
              "    <tr>\n",
              "      <th>...</th>\n",
              "      <td>...</td>\n",
              "      <td>...</td>\n",
              "      <td>...</td>\n",
              "    </tr>\n",
              "    <tr>\n",
              "      <th>1390</th>\n",
              "      <td>5ed3748576027d35905ccaab</td>\n",
              "      <td>5ed3791976027d35905ccab6</td>\n",
              "      <td>1</td>\n",
              "    </tr>\n",
              "    <tr>\n",
              "      <th>1391</th>\n",
              "      <td>5ed3748576027d35905ccaab</td>\n",
              "      <td>5ed3820f76027d35905ccac8</td>\n",
              "      <td>1</td>\n",
              "    </tr>\n",
              "    <tr>\n",
              "      <th>1392</th>\n",
              "      <td>5ed3748576027d35905ccaab</td>\n",
              "      <td>5ed4cbadbd514d602c1531a6</td>\n",
              "      <td>1</td>\n",
              "    </tr>\n",
              "    <tr>\n",
              "      <th>1393</th>\n",
              "      <td>5ed3cbcbbd514d602c1530a7</td>\n",
              "      <td>5ed1ff0276027d35905cc60d</td>\n",
              "      <td>1</td>\n",
              "    </tr>\n",
              "    <tr>\n",
              "      <th>1394</th>\n",
              "      <td>5ed3e898bd514d602c1530de</td>\n",
              "      <td>5ecf818376027d35905cbf03</td>\n",
              "      <td>1</td>\n",
              "    </tr>\n",
              "  </tbody>\n",
              "</table>\n",
              "<p>1395 rows × 3 columns</p>\n",
              "</div>"
            ],
            "text/plain": [
              "                       user_id                   post_id  total_views\n",
              "0     5d60098a653a331687083238  5d62abaa65218653a132c956            1\n",
              "1     5d60098a653a331687083238  5d6d39567fa40e1417a4931c            1\n",
              "2     5d60098a653a331687083238  5dbc631f99cbb90e4339c7fd            1\n",
              "3     5d60098a653a331687083238  5dc065ca24b883670268772f            1\n",
              "4     5d60098a653a331687083238  5ddeb6e80eb5e25a8a07f065            1\n",
              "...                        ...                       ...          ...\n",
              "1390  5ed3748576027d35905ccaab  5ed3791976027d35905ccab6            1\n",
              "1391  5ed3748576027d35905ccaab  5ed3820f76027d35905ccac8            1\n",
              "1392  5ed3748576027d35905ccaab  5ed4cbadbd514d602c1531a6            1\n",
              "1393  5ed3cbcbbd514d602c1530a7  5ed1ff0276027d35905cc60d            1\n",
              "1394  5ed3e898bd514d602c1530de  5ecf818376027d35905cbf03            1\n",
              "\n",
              "[1395 rows x 3 columns]"
            ]
          },
          "metadata": {},
          "execution_count": 49
        }
      ]
    },
    {
      "cell_type": "markdown",
      "metadata": {
        "id": "A4cGBj8JAdYd"
      },
      "source": [
        "3.2.3 Melakukan *encoding* pada nilai fitur `user_id` menjadi nilai angka/numerik agar dapat diolah oleh model saat pemodelan nanti."
      ]
    },
    {
      "cell_type": "code",
      "metadata": {
        "colab": {
          "base_uri": "https://localhost:8080/"
        },
        "id": "2rR2X81NAgh4",
        "outputId": "9c2ee8a2-00d7-4618-c25d-3b556b49438d"
      },
      "source": [
        "user_ids = collab['user_id'].unique().tolist()\n",
        "print('Daftar \"user_id\":', user_ids)\n",
        "\n",
        "user_to_encoded_user = {i[1]: i[0] for i in enumerate(user_ids)}\n",
        "print('\"user_id\" ke angka:', user_to_encoded_user)\n",
        "\n",
        "encoded_user_to_user = {i[0]: i[1] for i in enumerate(user_ids)}\n",
        "print('Angka ke \"user_id\":', encoded_user_to_user)"
      ],
      "execution_count": null,
      "outputs": [
        {
          "output_type": "stream",
          "name": "stdout",
          "text": [
            "Daftar \"user_id\": ['5d60098a653a331687083238', '5d610ae1653a331687083239', '5d618359fc5fcf3bdd9a0910', '5d6d2bb87fa40e1417a49315', '5d7c994d5720533e15c3b1e9', '5d90fc1a641ef364939fb6cc', '5d9a2982979d5962253c2f81', '5de50d768eab6401affbb135', '5ded443342a8854bf6eaba9a', '5deeef6142a8854bf6eabab9', '5defd51362624b0135ea9fd2', '5df11ee1ee4bb5252b4f5344', '5df20f1fee4bb5252b4f5351', '5df24eeaee4bb5252b4f5366', '5df3f8f2ee4bb5252b4f5393', '5df49b32cc709107827fb3c7', '5e0d5ce12a37d20505da2a5d', '5e1ef04c2a37d20505da2b8b', '5e26bb482a37d20505da2c10', '5e3563348d344822fed4d13a', '5e35a5ed8d344822fed4d13e', '5e365e758d344822fed4d144', '5e37b16ceab55d319938a6f8', '5e4195c3eab55d319938a82c', '5e4ce251f5561b1994c8e40d', '5e5855ced701ab08af792b51', '5e5af599d701ab08af792b63', '5e5b4511d701ab08af792b6d', '5e5dfbbefbc8805f69e02c91', '5e783375cfc8b713f5ac7c5b', '5e78ce84cfc8b713f5ac7cee', '5e7b30a6cfc8b713f5ac7d95', '5e7cf05bcfc8b713f5ac7db7', '5e7dde87a3258347b42f2108', '5e7de336a3258347b42f210e', '5e7def80a3258347b42f2124', '5e7f4ad1a3258347b42f2155', '5e822b86a3258347b42f2360', '5e8309c4a3258347b42f23f4', '5e840a75a3258347b42f2437', '5e8437f6a3258347b42f243d', '5e8447a7a3258347b42f2446', '5e845fbaa3258347b42f2450', '5e880f02a3258347b42f252c', '5e88156ca3258347b42f2542', '5e899be7a3258347b42f25d0', '5e8cbd92a3258347b42f2699', '5e901d01a3258347b42f270f', '5e902793a3258347b42f2733', '5e92e380a3258347b42f278c', '5e93471ea3258347b42f279f', '5e93d7d5a3258347b42f27e4', '5e941316a3258347b42f27f4', '5e94248aa3258347b42f2804', '5e942f7ba3258347b42f280e', '5e954e9aa3258347b42f295a', '5e958e73a3258347b42f29a1', '5e9595dba3258347b42f29aa', '5e95a2d8a3258347b42f29bd', '5e95da1aa3258347b42f29e6', '5e97ef3ea3258347b42f2b47', '5e9828f2a3258347b42f2b71', '5e99b0d4a3258347b42f2bf0', '5e9a8013a3258347b42f2c29', '5e9c146ba3258347b42f2cbd', '5ea3191210426255a7aa9aa2', '5ea3f6dc10426255a7aa9aff', '5ea43f7310426255a7aa9b1d', '5ea5ac4f10426255a7aa9b78', '5ea5af7110426255a7aa9b7c', '5ea5bf5110426255a7aa9b88', '5ea6c05910426255a7aa9baa', '5ea6c62410426255a7aa9bae', '5ea83e8810426255a7aa9bf2', '5ea890e410426255a7aa9c16', '5eaa137910426255a7aa9c41', '5eab903b10426255a7aa9c8e', '5eb2cad810426255a7aaa072', '5eb4f73910426255a7aaa0cc', '5eb508ae10426255a7aaa12c', '5eb7aeccfd92f539c465ddd7', '5ebc2ec4514aab59896bcc84', '5ebcf2f2514aab59896bcd00', '5ec11abc74f7660d73aa0fbd', '5ec2204374f7660d73aa100f', '5ec3ba5374f7660d73aa1201', '5ec553e2f2781131cc7e5138', '5ecb979eeaff6b0c3a58a4f0', '5ecd5a5c7023451e662235c1', '5ecdf7397023451e66223784', '5ece02427023451e66223861', '5ecf6e6576027d35905cbeec', '5ecfa94676027d35905cbf78', '5ecfaa0076027d35905cbf83', '5ecfbcb376027d35905cbfe5', '5ecfdaa976027d35905cc02c', '5ed09e8576027d35905cc164', '5ed0bfc176027d35905cc1f8', '5ed0cfc676027d35905cc26a', '5ed0d9bc76027d35905cc2c2', '5ed0defa76027d35905cc2de', '5ed0dfec76027d35905cc2ec', '5ed0fc0976027d35905cc448', '5ed12ae476027d35905cc4a1', '5ed13bb076027d35905cc4ba', '5ed142cd76027d35905cc4cd', '5ed232b976027d35905cc689', '5ed237ee76027d35905cc6c5', '5ed2399b76027d35905cc70f', '5ed24d5a76027d35905cc7d7', '5ed2672576027d35905cc7f6', '5ed2edf176027d35905cc961', '5ed350ed76027d35905cca2c', '5ed35aa376027d35905cca67', '5ed3737976027d35905ccaa2', '5ed3748576027d35905ccaab', '5ed3cbcbbd514d602c1530a7', '5ed3e898bd514d602c1530de']\n",
            "\"user_id\" ke angka: {'5d60098a653a331687083238': 0, '5d610ae1653a331687083239': 1, '5d618359fc5fcf3bdd9a0910': 2, '5d6d2bb87fa40e1417a49315': 3, '5d7c994d5720533e15c3b1e9': 4, '5d90fc1a641ef364939fb6cc': 5, '5d9a2982979d5962253c2f81': 6, '5de50d768eab6401affbb135': 7, '5ded443342a8854bf6eaba9a': 8, '5deeef6142a8854bf6eabab9': 9, '5defd51362624b0135ea9fd2': 10, '5df11ee1ee4bb5252b4f5344': 11, '5df20f1fee4bb5252b4f5351': 12, '5df24eeaee4bb5252b4f5366': 13, '5df3f8f2ee4bb5252b4f5393': 14, '5df49b32cc709107827fb3c7': 15, '5e0d5ce12a37d20505da2a5d': 16, '5e1ef04c2a37d20505da2b8b': 17, '5e26bb482a37d20505da2c10': 18, '5e3563348d344822fed4d13a': 19, '5e35a5ed8d344822fed4d13e': 20, '5e365e758d344822fed4d144': 21, '5e37b16ceab55d319938a6f8': 22, '5e4195c3eab55d319938a82c': 23, '5e4ce251f5561b1994c8e40d': 24, '5e5855ced701ab08af792b51': 25, '5e5af599d701ab08af792b63': 26, '5e5b4511d701ab08af792b6d': 27, '5e5dfbbefbc8805f69e02c91': 28, '5e783375cfc8b713f5ac7c5b': 29, '5e78ce84cfc8b713f5ac7cee': 30, '5e7b30a6cfc8b713f5ac7d95': 31, '5e7cf05bcfc8b713f5ac7db7': 32, '5e7dde87a3258347b42f2108': 33, '5e7de336a3258347b42f210e': 34, '5e7def80a3258347b42f2124': 35, '5e7f4ad1a3258347b42f2155': 36, '5e822b86a3258347b42f2360': 37, '5e8309c4a3258347b42f23f4': 38, '5e840a75a3258347b42f2437': 39, '5e8437f6a3258347b42f243d': 40, '5e8447a7a3258347b42f2446': 41, '5e845fbaa3258347b42f2450': 42, '5e880f02a3258347b42f252c': 43, '5e88156ca3258347b42f2542': 44, '5e899be7a3258347b42f25d0': 45, '5e8cbd92a3258347b42f2699': 46, '5e901d01a3258347b42f270f': 47, '5e902793a3258347b42f2733': 48, '5e92e380a3258347b42f278c': 49, '5e93471ea3258347b42f279f': 50, '5e93d7d5a3258347b42f27e4': 51, '5e941316a3258347b42f27f4': 52, '5e94248aa3258347b42f2804': 53, '5e942f7ba3258347b42f280e': 54, '5e954e9aa3258347b42f295a': 55, '5e958e73a3258347b42f29a1': 56, '5e9595dba3258347b42f29aa': 57, '5e95a2d8a3258347b42f29bd': 58, '5e95da1aa3258347b42f29e6': 59, '5e97ef3ea3258347b42f2b47': 60, '5e9828f2a3258347b42f2b71': 61, '5e99b0d4a3258347b42f2bf0': 62, '5e9a8013a3258347b42f2c29': 63, '5e9c146ba3258347b42f2cbd': 64, '5ea3191210426255a7aa9aa2': 65, '5ea3f6dc10426255a7aa9aff': 66, '5ea43f7310426255a7aa9b1d': 67, '5ea5ac4f10426255a7aa9b78': 68, '5ea5af7110426255a7aa9b7c': 69, '5ea5bf5110426255a7aa9b88': 70, '5ea6c05910426255a7aa9baa': 71, '5ea6c62410426255a7aa9bae': 72, '5ea83e8810426255a7aa9bf2': 73, '5ea890e410426255a7aa9c16': 74, '5eaa137910426255a7aa9c41': 75, '5eab903b10426255a7aa9c8e': 76, '5eb2cad810426255a7aaa072': 77, '5eb4f73910426255a7aaa0cc': 78, '5eb508ae10426255a7aaa12c': 79, '5eb7aeccfd92f539c465ddd7': 80, '5ebc2ec4514aab59896bcc84': 81, '5ebcf2f2514aab59896bcd00': 82, '5ec11abc74f7660d73aa0fbd': 83, '5ec2204374f7660d73aa100f': 84, '5ec3ba5374f7660d73aa1201': 85, '5ec553e2f2781131cc7e5138': 86, '5ecb979eeaff6b0c3a58a4f0': 87, '5ecd5a5c7023451e662235c1': 88, '5ecdf7397023451e66223784': 89, '5ece02427023451e66223861': 90, '5ecf6e6576027d35905cbeec': 91, '5ecfa94676027d35905cbf78': 92, '5ecfaa0076027d35905cbf83': 93, '5ecfbcb376027d35905cbfe5': 94, '5ecfdaa976027d35905cc02c': 95, '5ed09e8576027d35905cc164': 96, '5ed0bfc176027d35905cc1f8': 97, '5ed0cfc676027d35905cc26a': 98, '5ed0d9bc76027d35905cc2c2': 99, '5ed0defa76027d35905cc2de': 100, '5ed0dfec76027d35905cc2ec': 101, '5ed0fc0976027d35905cc448': 102, '5ed12ae476027d35905cc4a1': 103, '5ed13bb076027d35905cc4ba': 104, '5ed142cd76027d35905cc4cd': 105, '5ed232b976027d35905cc689': 106, '5ed237ee76027d35905cc6c5': 107, '5ed2399b76027d35905cc70f': 108, '5ed24d5a76027d35905cc7d7': 109, '5ed2672576027d35905cc7f6': 110, '5ed2edf176027d35905cc961': 111, '5ed350ed76027d35905cca2c': 112, '5ed35aa376027d35905cca67': 113, '5ed3737976027d35905ccaa2': 114, '5ed3748576027d35905ccaab': 115, '5ed3cbcbbd514d602c1530a7': 116, '5ed3e898bd514d602c1530de': 117}\n",
            "Angka ke \"user_id\": {0: '5d60098a653a331687083238', 1: '5d610ae1653a331687083239', 2: '5d618359fc5fcf3bdd9a0910', 3: '5d6d2bb87fa40e1417a49315', 4: '5d7c994d5720533e15c3b1e9', 5: '5d90fc1a641ef364939fb6cc', 6: '5d9a2982979d5962253c2f81', 7: '5de50d768eab6401affbb135', 8: '5ded443342a8854bf6eaba9a', 9: '5deeef6142a8854bf6eabab9', 10: '5defd51362624b0135ea9fd2', 11: '5df11ee1ee4bb5252b4f5344', 12: '5df20f1fee4bb5252b4f5351', 13: '5df24eeaee4bb5252b4f5366', 14: '5df3f8f2ee4bb5252b4f5393', 15: '5df49b32cc709107827fb3c7', 16: '5e0d5ce12a37d20505da2a5d', 17: '5e1ef04c2a37d20505da2b8b', 18: '5e26bb482a37d20505da2c10', 19: '5e3563348d344822fed4d13a', 20: '5e35a5ed8d344822fed4d13e', 21: '5e365e758d344822fed4d144', 22: '5e37b16ceab55d319938a6f8', 23: '5e4195c3eab55d319938a82c', 24: '5e4ce251f5561b1994c8e40d', 25: '5e5855ced701ab08af792b51', 26: '5e5af599d701ab08af792b63', 27: '5e5b4511d701ab08af792b6d', 28: '5e5dfbbefbc8805f69e02c91', 29: '5e783375cfc8b713f5ac7c5b', 30: '5e78ce84cfc8b713f5ac7cee', 31: '5e7b30a6cfc8b713f5ac7d95', 32: '5e7cf05bcfc8b713f5ac7db7', 33: '5e7dde87a3258347b42f2108', 34: '5e7de336a3258347b42f210e', 35: '5e7def80a3258347b42f2124', 36: '5e7f4ad1a3258347b42f2155', 37: '5e822b86a3258347b42f2360', 38: '5e8309c4a3258347b42f23f4', 39: '5e840a75a3258347b42f2437', 40: '5e8437f6a3258347b42f243d', 41: '5e8447a7a3258347b42f2446', 42: '5e845fbaa3258347b42f2450', 43: '5e880f02a3258347b42f252c', 44: '5e88156ca3258347b42f2542', 45: '5e899be7a3258347b42f25d0', 46: '5e8cbd92a3258347b42f2699', 47: '5e901d01a3258347b42f270f', 48: '5e902793a3258347b42f2733', 49: '5e92e380a3258347b42f278c', 50: '5e93471ea3258347b42f279f', 51: '5e93d7d5a3258347b42f27e4', 52: '5e941316a3258347b42f27f4', 53: '5e94248aa3258347b42f2804', 54: '5e942f7ba3258347b42f280e', 55: '5e954e9aa3258347b42f295a', 56: '5e958e73a3258347b42f29a1', 57: '5e9595dba3258347b42f29aa', 58: '5e95a2d8a3258347b42f29bd', 59: '5e95da1aa3258347b42f29e6', 60: '5e97ef3ea3258347b42f2b47', 61: '5e9828f2a3258347b42f2b71', 62: '5e99b0d4a3258347b42f2bf0', 63: '5e9a8013a3258347b42f2c29', 64: '5e9c146ba3258347b42f2cbd', 65: '5ea3191210426255a7aa9aa2', 66: '5ea3f6dc10426255a7aa9aff', 67: '5ea43f7310426255a7aa9b1d', 68: '5ea5ac4f10426255a7aa9b78', 69: '5ea5af7110426255a7aa9b7c', 70: '5ea5bf5110426255a7aa9b88', 71: '5ea6c05910426255a7aa9baa', 72: '5ea6c62410426255a7aa9bae', 73: '5ea83e8810426255a7aa9bf2', 74: '5ea890e410426255a7aa9c16', 75: '5eaa137910426255a7aa9c41', 76: '5eab903b10426255a7aa9c8e', 77: '5eb2cad810426255a7aaa072', 78: '5eb4f73910426255a7aaa0cc', 79: '5eb508ae10426255a7aaa12c', 80: '5eb7aeccfd92f539c465ddd7', 81: '5ebc2ec4514aab59896bcc84', 82: '5ebcf2f2514aab59896bcd00', 83: '5ec11abc74f7660d73aa0fbd', 84: '5ec2204374f7660d73aa100f', 85: '5ec3ba5374f7660d73aa1201', 86: '5ec553e2f2781131cc7e5138', 87: '5ecb979eeaff6b0c3a58a4f0', 88: '5ecd5a5c7023451e662235c1', 89: '5ecdf7397023451e66223784', 90: '5ece02427023451e66223861', 91: '5ecf6e6576027d35905cbeec', 92: '5ecfa94676027d35905cbf78', 93: '5ecfaa0076027d35905cbf83', 94: '5ecfbcb376027d35905cbfe5', 95: '5ecfdaa976027d35905cc02c', 96: '5ed09e8576027d35905cc164', 97: '5ed0bfc176027d35905cc1f8', 98: '5ed0cfc676027d35905cc26a', 99: '5ed0d9bc76027d35905cc2c2', 100: '5ed0defa76027d35905cc2de', 101: '5ed0dfec76027d35905cc2ec', 102: '5ed0fc0976027d35905cc448', 103: '5ed12ae476027d35905cc4a1', 104: '5ed13bb076027d35905cc4ba', 105: '5ed142cd76027d35905cc4cd', 106: '5ed232b976027d35905cc689', 107: '5ed237ee76027d35905cc6c5', 108: '5ed2399b76027d35905cc70f', 109: '5ed24d5a76027d35905cc7d7', 110: '5ed2672576027d35905cc7f6', 111: '5ed2edf176027d35905cc961', 112: '5ed350ed76027d35905cca2c', 113: '5ed35aa376027d35905cca67', 114: '5ed3737976027d35905ccaa2', 115: '5ed3748576027d35905ccaab', 116: '5ed3cbcbbd514d602c1530a7', 117: '5ed3e898bd514d602c1530de'}\n"
          ]
        }
      ]
    },
    {
      "cell_type": "markdown",
      "metadata": {
        "id": "tvz_hRYKBsPZ"
      },
      "source": [
        "3.2.4 Melakukan *encoding* pada nilai fitur `post_id` menjadi angka/numerik agar dapat diolah oleh model saat pemodelan nanti."
      ]
    },
    {
      "cell_type": "code",
      "metadata": {
        "colab": {
          "base_uri": "https://localhost:8080/"
        },
        "id": "2nuNEEHqBs7T",
        "outputId": "3ec2e03a-ffeb-48c6-a9b4-b25cd331ecbf"
      },
      "source": [
        "post_ids = collab['post_id'].unique().tolist()\n",
        "print('Daftar \"post_id\":', post_ids)\n",
        "\n",
        "post_to_encoded_post = {i[1]: i[0] for i in enumerate(post_ids)}\n",
        "print('\"post_id\" ke angka:', post_to_encoded_post)\n",
        "\n",
        "encoded_post_to_post = {i[0]: i[1] for i in enumerate(post_ids)}\n",
        "print('Angka ke \"post_id\":', encoded_post_to_post)"
      ],
      "execution_count": null,
      "outputs": [
        {
          "output_type": "stream",
          "name": "stdout",
          "text": [
            "Daftar \"post_id\": ['5d62abaa65218653a132c956', '5d6d39567fa40e1417a4931c', '5dbc631f99cbb90e4339c7fd', '5dc065ca24b883670268772f', '5ddeb6e80eb5e25a8a07f065', '5e1029f22a37d20505da2a79', '5e294fd1c85ab714a7da6643', '5e2d36ebc85ab714a7da66d1', '5e52fd0ed701ab08af792a1f', '5e5b59cbd701ab08af792b90', '5e5b6320d701ab08af792b9d', '5e7082f91b24db0468e90cc5', '5e7304761b24db0468e90ce7', '5e773e15cfc8b713f5ac7ad9', '5e782cd9cfc8b713f5ac7c4f', '5e7838bdcfc8b713f5ac7c99', '5e78c64acfc8b713f5ac7ce7', '5e7a0d85cfc8b713f5ac7d77', '5e7a5ebdcfc8b713f5ac7d7f', '5e7a5f5dcfc8b713f5ac7d80', '5e7a60edcfc8b713f5ac7d82', '5e7a629ccfc8b713f5ac7d84', '5e7a63c2cfc8b713f5ac7d86', '5e7a7066cfc8b713f5ac7d88', '5e7b1e65cfc8b713f5ac7d90', '5e7b8764cfc8b713f5ac7da2', '5e7bd922cfc8b713f5ac7da9', '5e7c7a44cfc8b713f5ac7dac', '5e7cc074cfc8b713f5ac7db0', '5e7de250a3258347b42f210a', '5e7de48ca3258347b42f2110', '5e7df068a3258347b42f2125', '5e7df283a3258347b42f2128', '5e7e66e7a3258347b42f213c', '5e7f39a3a3258347b42f2151', '5e7f3cf8a3258347b42f2154', '5e7f4fb3a3258347b42f2156', '5e80b40ea3258347b42f21a5', '5e80b4cca3258347b42f21a7', '5e81a4f2a3258347b42f21d3', '5e81b47fa3258347b42f21d7', '5e81ba06a3258347b42f21ef', '5e81be54a3258347b42f221d', '5e81c1b7a3258347b42f22ca', '5e81c257a3258347b42f22f0', '5e81c29ea3258347b42f2303', '5e822b4aa3258347b42f235f', '5e823908a3258347b42f2368', '5e82390ea3258347b42f2369', '5e8307ada3258347b42f23ec', '5e8308c4a3258347b42f23ed', '5e8309a9a3258347b42f23f2', '5e830a6ca3258347b42f23f6', '5e830dc8a3258347b42f23fb', '5e8381cfa3258347b42f2428', '5e8448aba3258347b42f2447', '5e847970a3258347b42f245e', '5e84a6a3a3258347b42f246e', '5e85054fa3258347b42f24a0', '5e866cffa3258347b42f24ef', '5e8837fba3258347b42f255b', '5e88383aa3258347b42f255c', '5e88a3c0a3258347b42f2572', '5e88aa21a3258347b42f2575', '5e88aac5a3258347b42f2577', '5e895d87a3258347b42f25bb', '5e897ab4a3258347b42f25ca', '5e8bfa8aa3258347b42f2611', '5e8c2d01a3258347b42f2627', '5e8cb88ea3258347b42f267e', '5e8cc876a3258347b42f26a3', '5e8d539ba3258347b42f26d8', '5e8e13dca3258347b42f26f2', '5e936c67a3258347b42f27b6', '5e940dd0a3258347b42f27f1', '5e9415d2a3258347b42f27f8', '5e941877a3258347b42f27fd', '5e94827ea3258347b42f2854', '5e948786a3258347b42f287e', '5e9488c1a3258347b42f288a', '5e9489e7a3258347b42f2896', '5e948c4fa3258347b42f28a2', '5e948ce6a3258347b42f28aa', '5e948db2a3258347b42f28ae', '5e948db6a3258347b42f28b2', '5e948e4ca3258347b42f28ba', '5e948e97a3258347b42f28be', '5e948f05a3258347b42f28c2', '5e948fb8a3258347b42f28c6', '5e948fdfa3258347b42f28ca', '5e9496b3a3258347b42f28d8', '5e94ae2fa3258347b42f28ee', '5e94bc47a3258347b42f291d', '5e94caeda3258347b42f2932', '5e956e42a3258347b42f297f', '5e95a06da3258347b42f29b4', '5e95d427a3258347b42f29db', '5e95dd30a3258347b42f29f5', '5e95e469a3258347b42f2a02', '5e95ed0aa3258347b42f2a0e', '5e95f087a3258347b42f2a16', '5e95f13ba3258347b42f2a1b', '5e95f3a0a3258347b42f2a2c', '5e95f44ba3258347b42f2a31', '5e964254a3258347b42f2a75', '5e964354a3258347b42f2a7d', '5e964576a3258347b42f2a86', '5e96464da3258347b42f2a8e', '5e964bcea3258347b42f2a96', '5e966b74a3258347b42f2ab1', '5e973a30a3258347b42f2ada', '5e97542da3258347b42f2ae5', '5e9754efa3258347b42f2ae8', '5e977f94a3258347b42f2af9', '5e979490a3258347b42f2b13', '5e979637a3258347b42f2b1e', '5e9796dba3258347b42f2b26', '5e979786a3258347b42f2b2e', '5e9806f5a3258347b42f2b61', '5e9895e8a3258347b42f2ba7', '5e98c18fa3258347b42f2bc4', '5e99b1c6a3258347b42f2bf2', '5e99b786a3258347b42f2bfd', '5e99c99fa3258347b42f2c05', '5e9a7e73a3258347b42f2c24', '5e9a8271a3258347b42f2c35', '5e9a8437a3258347b42f2c38', '5e9aaeefa3258347b42f2c3f', '5e9ab176a3258347b42f2c4a', '5e9b0274a3258347b42f2c60', '5e9b0475a3258347b42f2c6b', '5e9b6b20a3258347b42f2c8d', '5e9db770a3258347b42f2dcf', '5e9eececa3258347b42f2e11', '5e9f3e1aa3258347b42f2e39', '5e9f439ba3258347b42f2e51', '5e9f4421a3258347b42f2e54', '5ea11fbd10426255a7aa9a38', '5ea1603a10426255a7aa9a3e', '5ea1ef0710426255a7aa9a7e', '5ea30f6010426255a7aa9a9c', '5ea319ee10426255a7aa9aa4', '5ea31ee710426255a7aa9ab3', '5ea3227010426255a7aa9ac1', '5ea3236810426255a7aa9ac8', '5ea323a010426255a7aa9aca', '5ea5ce9310426255a7aa9b8d', '5ea7cd9610426255a7aa9bd2', '5ea80a7e10426255a7aa9be2', '5ea85c1f10426255a7aa9c05', '5ea8618a10426255a7aa9c0d', '5eaaffe110426255a7aa9c5b', '5eab002f10426255a7aa9c6c', '5eab924610426255a7aa9c90', '5eab942d10426255a7aa9ca7', '5eab962e10426255a7aa9cb8', '5eabeec210426255a7aa9cd2', '5eabfaf510426255a7aa9da0', '5eac349010426255a7aa9e29', '5eac350110426255a7aa9e92', '5eac578010426255a7aa9eba', '5eadc2f710426255a7aa9ee4', '5eaed2f210426255a7aa9eef', '5eaf8b9310426255a7aa9f7e', '5eb1407c10426255a7aa9fdb', '5eb1551e10426255a7aaa003', '5eb15a9810426255a7aaa019', '5eb1ac4510426255a7aaa024', '5eb1df6d10426255a7aaa029', '5eb2c11210426255a7aaa052', '5eb2ce0c10426255a7aaa078', '5eb4f80810426255a7aaa0ce', '5eb4fab110426255a7aaa0ed', '5eb4fbe910426255a7aaa105', '5eb7b10ffd92f539c465ddda', '5ebc3239514aab59896bcc86', '5ebcf6ea514aab59896bcd09', '5ebd5b46514aab59896bcd5a', '5ec1fd0974f7660d73aa0fd5', '5ec2215374f7660d73aa1011', '5ec278b574f7660d73aa10d5', '5ec2b27974f7660d73aa1115', '5ec2d29074f7660d73aa113b', '5ec2e16074f7660d73aa1154', '5ec3667274f7660d73aa1194', '5ec3676574f7660d73aa119a', '5ec3c09274f7660d73aa1229', '5ec54fc9f2781131cc7e50f5', '5ec5546bf2781131cc7e5140', '5ec573a3f2781131cc7e51b8', '5ec57914f2781131cc7e51c8', '5ec57acaf2781131cc7e51d5', '5ec601a0f2781131cc7e522e', '5ec7a699ec493f4a2655883a', '5ec7a7a3ec493f4a26558840', '5ec7a8bdec493f4a26558846', '5ec7aafbec493f4a26558857', '5ec7abfdec493f4a26558860', '5ec7ad1aec493f4a26558869', '5eca6ddbec493f4a26558a46', '5eca8fceeaff6b0c3a58a3c0', '5ecb72c0eaff6b0c3a58a48e', '5ecb7567eaff6b0c3a58a4cf', '5ecce8a5eaff6b0c3a58a5e9', '5ecd5d417023451e662235c5', '5ecdecc67023451e66223765', '5ecf23b87023451e66223944', '5ecf818376027d35905cbf03', '5ecf96e876027d35905cbf46', '5ecfa0ca76027d35905cbf57', '5ecfafcc76027d35905cbfb0', '5ecfffb976027d35905cc0e9', '5ed09ad076027d35905cc15f', '5ed0e20776027d35905cc2fe', '5ed13d2876027d35905cc4c2', '5ed1ff0276027d35905cc60d', '5ed3820f76027d35905ccac8', '5d80dfbc6c53455f896e600e', '5db2b91a99cbb90e4339c749', '5e2d3fbfc85ab714a7da66d5', '5e2d447dc85ab714a7da66d7', '5e2d4737c85ab714a7da66d9', '5e2d516fc85ab714a7da66dd', '5e4ba8b2f5561b1994c8e39f', '5e4edd87f5561b1994c8e497', '5e51a9e8d701ab08af7929dc', '5e78ae4ccfc8b713f5ac7cde', '5e7c78fdcfc8b713f5ac7daa', '5e81bc41a3258347b42f220a', '5e81bf2fa3258347b42f2244', '5e81bf73a3258347b42f2257', '5e81bfe5a3258347b42f226a', '5e81c06ba3258347b42f227d', '5e81c0cba3258347b42f2290', '5e81c101a3258347b42f22a3', '5e81c15aa3258347b42f22b6', '5e81c1e6a3258347b42f22dd', '5e84657da3258347b42f2452', '5e895ceca3258347b42f25b6', '5e8c993da3258347b42f264d', '5e901f23a3258347b42f2725', '5e90208ca3258347b42f2730', '5e9028cea3258347b42f2736', '5e91a2dda3258347b42f276d', '5e980938a3258347b42f2b66', '5e9e2760a3258347b42f2df7', '5e9f3f16a3258347b42f2e3c', '5e9f4045a3258347b42f2e42', '5e9f40b2a3258347b42f2e45', '5e9f4155a3258347b42f2e48', '5e9f4295a3258347b42f2e4e', '5e9ff423a3258347b42f2e72', '5ea029e9a3258347b42f2e85', '5ea07ddba3258347b42f2eb6', '5ea1d7ac10426255a7aa9a66', '5eabf76a10426255a7aa9cfb', '5eac305f10426255a7aa9dd3', '5eac315210426255a7aa9dfe', '5eaf322910426255a7aa9efa', '5eaf4d4210426255a7aa9f76', '5eb0f27f10426255a7aa9fa2', '5eb1358910426255a7aa9fba', '5eb1373110426255a7aa9fc1', '5eb13a3610426255a7aa9fc5', '5eb13e2a10426255a7aa9fcf', '5eb1478a10426255a7aa9feb', '5eb1485410426255a7aa9fef', '5eb1490610426255a7aa9ff4', '5eb153ca10426255a7aa9fff', '5eb1569910426255a7aaa007', '5eb158d410426255a7aaa011', '5eb159a610426255a7aaa015', '5eba2e94514aab59896bcc5a', '5ebd1111514aab59896bcd1c', '5ec3bc1a74f7660d73aa1207', '5ec8204cec493f4a26558893', '5ecc186aeaff6b0c3a58a53f', '5ecc1d4eeaff6b0c3a58a565', '5ecd6ba47023451e66223604', '5ed0e31a76027d35905cc302', '5d80e7c16c53455f896e6014', '5e773c0bcfc8b713f5ac7ab7', '5e79f3fccfc8b713f5ac7d54', '5e7a605dcfc8b713f5ac7d81', '5eca7601ec493f4a26558a62', '5ed0e65976027d35905cc356', '5ed0f0c576027d35905cc3c7', '5ed141aa76027d35905cc4c9', '5ed175f176027d35905cc554', '5eba2dd3514aab59896bcc57', '5ec2f7c074f7660d73aa116e', '5ec821ddec493f4a2655889e', '5d7d405e5720533e15c3b1f3', '5e3674c68d344822fed4d152', '5e4ef199f5561b1994c8e4a4', '5e52e7abd701ab08af7929f8', '5e52f911d701ab08af792a12', '5e5b561cd701ab08af792b8a', '5e5b59bcd701ab08af792b8f', '5e77bdc2cfc8b713f5ac7be4', '5e77c625cfc8b713f5ac7c0b', '5e79b32ecfc8b713f5ac7d3f', '5e8ccfb5a3258347b42f26bc', '5e943363a3258347b42f2813', '5ea31faf10426255a7aa9ab5', '5ea3213010426255a7aa9abb', '5ea321dd10426255a7aa9abd', '5ea5aacd10426255a7aa9b71', '5eb2cbde10426255a7aaa074', '5ecb6edeeaff6b0c3a58a479', '5ecb7155eaff6b0c3a58a486', '5ecfb35c76027d35905cbfbc', '5ed23cb876027d35905cc788', '5d9b3514979d5962253c2f90', '5e767d501b24db0468e90d54', '5e773c89cfc8b713f5ac7ac9', '5e77738bcfc8b713f5ac7b36', '5dea816a42a8854bf6eaba89', '5d9b950768671220a1b2b153', '5e947c4aa3258347b42f283e', '5e947dcda3258347b42f2843', '5e95f1a8a3258347b42f2a20', '5e9f3fd9a3258347b42f2e3f', '5eb13ee710426255a7aa9fd3', '5eb6db91fd92f539c465dd71', '5eb6dc4cfd92f539c465dd77', '5eb6dd5afd92f539c465dd7d', '5eb6de2dfd92f539c465dd83', '5eb6df2dfd92f539c465dd89', '5eb6e04ffd92f539c465dd8f', '5e37c301eab55d319938a701', '5e37d490eab55d319938a713', '5e37dc1aeab55d319938a720', '5e3fc856eab55d319938a7f2', '5e3fc931eab55d319938a7f4', '5e3fcc56eab55d319938a808', '5e3fcd38eab55d319938a81a', '5e3fce21eab55d319938a81c', '5e3fcfcdeab55d319938a81e', '5e3fd10aeab55d319938a820', '5e3fd290eab55d319938a822', '5e3fd3bdeab55d319938a824', '5e3fd57aeab55d319938a826', '5e5bb3eed701ab08af792bfa', '5e7680361b24db0468e90d66', '5e7a614fcfc8b713f5ac7d83', '5d7d23315720533e15c3b1ee', '5dada695610ba040fbfdf585', '5dada734610ba040fbfdf588', '5dada798610ba040fbfdf58b', '5dada82f610ba040fbfdf58e', '5dada89b610ba040fbfdf591', '5dadf6ae610ba040fbfdf5c8', '5de7971b8eab6401affbb137', '5dee9b5042a8854bf6eabaaf', '5e281cf0025ae20886de2050', '5e36746a8d344822fed4d147', '5e36763d8d344822fed4d15d', '5e36e7baeab55d319938a6d1', '5e372ee2eab55d319938a6ed', '5e3c7293eab55d319938a74d', '5e3e9cc0eab55d319938a79b', '5e3ea110eab55d319938a7a7', '5e41b98eeab55d319938a82d', '5e41bd7deab55d319938a839', '5e431bf9eab55d319938a86a', '5e45ae70f5561b1994c8e320', '5e45b5c9f5561b1994c8e32d', '5e4a3cf6f5561b1994c8e378', '5e4af475f5561b1994c8e385', '5e4ba3a9f5561b1994c8e392', '5e4c28c5f5561b1994c8e3b0', '5e4c2e65f5561b1994c8e3bd', '5e4c3873f5561b1994c8e3d9', '5e4c3c09f5561b1994c8e3e6', '5e4c3d1df5561b1994c8e3f3', '5e4c435cf5561b1994c8e400', '5e4da502f5561b1994c8e42c', '5e4da7c8f5561b1994c8e439', '5e4dab15f5561b1994c8e446', '5e4ed85af5561b1994c8e470', '5e4ed8ccf5561b1994c8e47d', '5e4edd1bf5561b1994c8e48a', '5e50141ed15de17a8cf1b912', '5e501d55d15de17a8cf1b91f', '5e50207cd15de17a8cf1b92c', '5e5023f1d15de17a8cf1b939', '5e502673d15de17a8cf1b946', '5e518c9fd701ab08af79299a', '5e5196b5d701ab08af7929a8', '5e519e8fd701ab08af7929b5', '5e51a2cfd701ab08af7929c2', '5e51a46ad701ab08af7929cf', '5e52e1b0d701ab08af7929eb', '5e52f2b8d701ab08af792a05', '5df64ad1cc709107827fb3dd', '5e9435f7a3258347b42f281a', '5e94bf78a3258347b42f2925', '5e9651d5a3258347b42f2a9f', '5ea04678a3258347b42f2e8a', '5ea45fdf10426255a7aa9b34', '5eb45ca210426255a7aaa0b5', '5e7a0fa1cfc8b713f5ac7d78', '5e7a633ecfc8b713f5ac7d85', '5db2a7d099cbb90e4339c734', '5dbc622a99cbb90e4339c7f6', '5e2d4d63c85ab714a7da66db', '5e9486f6a3258347b42f287a', '5e27002d2a37d20505da2c13', '5e2867f6025ae20886de205a', '5e2f1811c85ab714a7da670d', '5e31a591c85ab714a7da6760', '5e4d359cf5561b1994c8e424', '5dde6a91369b28584ecca156', '5de8d73249e8203ff9219a74', '5e5e7e0afbc8805f69e02ca8', '5e5e81e8fbc8805f69e02cab', '5e5fcd9a49d7f322c033e02f', '5e6eff8aed32a005135d6bb8', '5e8164f9a3258347b42f21bf', '5e961830a3258347b42f2a4e', '5e976a64a3258347b42f2af1', '5e978c7ca3258347b42f2b09', '5ea2e85b10426255a7aa9a8c', '5eaf3d4110426255a7aa9f4c', '5e787636cfc8b713f5ac7cbe', '5e78d6dccfc8b713f5ac7cf4', '5e36db70eab55d319938a6cc', '5e37c087eab55d319938a700', '5e37c78aeab55d319938a703', '5e37ce10eab55d319938a710', '5e37d08ceab55d319938a711', '5e37d1afeab55d319938a712', '5e37d699eab55d319938a71a', '5e37d8c9eab55d319938a71e', '5e37d9eaeab55d319938a71f', '5e3fcb74eab55d319938a806', '5e816629a3258347b42f21c2', '5e5e3b35fbc8805f69e02c9e', '5e5facf649d7f322c033e02b', '5e733f1c1b24db0468e90cf1', '5dd1751db802e41ed198b680', '5e81a441a3258347b42f21d1', '5e897f6ca3258347b42f25cd', '5e966ad3a3258347b42f2aaf', '5e901b98a3258347b42f2708', '5e908602a3258347b42f275b', '5e783590cfc8b713f5ac7c5d', '5e778ffccfc8b713f5ac7b50', '5e3ab644eab55d319938a72d', '5e79b8becfc8b713f5ac7d45', '5e79cf2acfc8b713f5ac7d4e', '5d81323a6c53455f896e6044', '5e901e9da3258347b42f2711', '5e04fb252a37d20505da2a2b', '5d80ecfd6c53455f896e601a', '5e94452ea3258347b42f282a', '5ea047d5a3258347b42f2e96', '5e7220891b24db0468e90ce2', '5ea31e5610426255a7aa9ab0', '5e964200a3258347b42f2a6d', '5e9483b6a3258347b42f2860', '5da745b6019399436815c4cd', '5e964006a3258347b42f2a65', '5e9f4215a3258347b42f2e4b', '5e7743ebcfc8b713f5ac7aeb', '5e776c1fcfc8b713f5ac7b23', '5e948155a3258347b42f2850', '5e5bdf4fd701ab08af792bfd', '5e65346c85ae350860168b53', '5de179d80eb5e25a8a07f079', '5ed175f476027d35905cc562', '5ed229d976027d35905cc666', '5ed2378276027d35905cc6b5', '5ed237d676027d35905cc6bd', '5ed2383776027d35905cc6ca', '5ed238d376027d35905cc6e5', '5ed23a6376027d35905cc73b', '5ed23b0776027d35905cc746', '5ed23b6276027d35905cc74f', '5ed23bb876027d35905cc759', '5ed23c1876027d35905cc761', '5ed23c8676027d35905cc780', '5ed23cf876027d35905cc790', '5ed23e4d76027d35905cc7b8', '5ed2502b76027d35905cc7db', '5ed3476576027d35905cca1d', '5ed3791976027d35905ccab6', '5ed3ef4cbd514d602c1530f2', '5ed415c6bd514d602c15312d', '5ed0007a76027d35905cc0ea', '5ed23d4276027d35905cc798', '5ed4cbadbd514d602c1531a6']\n",
            "\"post_id\" ke angka: {'5d62abaa65218653a132c956': 0, '5d6d39567fa40e1417a4931c': 1, '5dbc631f99cbb90e4339c7fd': 2, '5dc065ca24b883670268772f': 3, '5ddeb6e80eb5e25a8a07f065': 4, '5e1029f22a37d20505da2a79': 5, '5e294fd1c85ab714a7da6643': 6, '5e2d36ebc85ab714a7da66d1': 7, '5e52fd0ed701ab08af792a1f': 8, '5e5b59cbd701ab08af792b90': 9, '5e5b6320d701ab08af792b9d': 10, '5e7082f91b24db0468e90cc5': 11, '5e7304761b24db0468e90ce7': 12, '5e773e15cfc8b713f5ac7ad9': 13, '5e782cd9cfc8b713f5ac7c4f': 14, '5e7838bdcfc8b713f5ac7c99': 15, '5e78c64acfc8b713f5ac7ce7': 16, '5e7a0d85cfc8b713f5ac7d77': 17, '5e7a5ebdcfc8b713f5ac7d7f': 18, '5e7a5f5dcfc8b713f5ac7d80': 19, '5e7a60edcfc8b713f5ac7d82': 20, '5e7a629ccfc8b713f5ac7d84': 21, '5e7a63c2cfc8b713f5ac7d86': 22, '5e7a7066cfc8b713f5ac7d88': 23, '5e7b1e65cfc8b713f5ac7d90': 24, '5e7b8764cfc8b713f5ac7da2': 25, '5e7bd922cfc8b713f5ac7da9': 26, '5e7c7a44cfc8b713f5ac7dac': 27, '5e7cc074cfc8b713f5ac7db0': 28, '5e7de250a3258347b42f210a': 29, '5e7de48ca3258347b42f2110': 30, '5e7df068a3258347b42f2125': 31, '5e7df283a3258347b42f2128': 32, '5e7e66e7a3258347b42f213c': 33, '5e7f39a3a3258347b42f2151': 34, '5e7f3cf8a3258347b42f2154': 35, '5e7f4fb3a3258347b42f2156': 36, '5e80b40ea3258347b42f21a5': 37, '5e80b4cca3258347b42f21a7': 38, '5e81a4f2a3258347b42f21d3': 39, '5e81b47fa3258347b42f21d7': 40, '5e81ba06a3258347b42f21ef': 41, '5e81be54a3258347b42f221d': 42, '5e81c1b7a3258347b42f22ca': 43, '5e81c257a3258347b42f22f0': 44, '5e81c29ea3258347b42f2303': 45, '5e822b4aa3258347b42f235f': 46, '5e823908a3258347b42f2368': 47, '5e82390ea3258347b42f2369': 48, '5e8307ada3258347b42f23ec': 49, '5e8308c4a3258347b42f23ed': 50, '5e8309a9a3258347b42f23f2': 51, '5e830a6ca3258347b42f23f6': 52, '5e830dc8a3258347b42f23fb': 53, '5e8381cfa3258347b42f2428': 54, '5e8448aba3258347b42f2447': 55, '5e847970a3258347b42f245e': 56, '5e84a6a3a3258347b42f246e': 57, '5e85054fa3258347b42f24a0': 58, '5e866cffa3258347b42f24ef': 59, '5e8837fba3258347b42f255b': 60, '5e88383aa3258347b42f255c': 61, '5e88a3c0a3258347b42f2572': 62, '5e88aa21a3258347b42f2575': 63, '5e88aac5a3258347b42f2577': 64, '5e895d87a3258347b42f25bb': 65, '5e897ab4a3258347b42f25ca': 66, '5e8bfa8aa3258347b42f2611': 67, '5e8c2d01a3258347b42f2627': 68, '5e8cb88ea3258347b42f267e': 69, '5e8cc876a3258347b42f26a3': 70, '5e8d539ba3258347b42f26d8': 71, '5e8e13dca3258347b42f26f2': 72, '5e936c67a3258347b42f27b6': 73, '5e940dd0a3258347b42f27f1': 74, '5e9415d2a3258347b42f27f8': 75, '5e941877a3258347b42f27fd': 76, '5e94827ea3258347b42f2854': 77, '5e948786a3258347b42f287e': 78, '5e9488c1a3258347b42f288a': 79, '5e9489e7a3258347b42f2896': 80, '5e948c4fa3258347b42f28a2': 81, '5e948ce6a3258347b42f28aa': 82, '5e948db2a3258347b42f28ae': 83, '5e948db6a3258347b42f28b2': 84, '5e948e4ca3258347b42f28ba': 85, '5e948e97a3258347b42f28be': 86, '5e948f05a3258347b42f28c2': 87, '5e948fb8a3258347b42f28c6': 88, '5e948fdfa3258347b42f28ca': 89, '5e9496b3a3258347b42f28d8': 90, '5e94ae2fa3258347b42f28ee': 91, '5e94bc47a3258347b42f291d': 92, '5e94caeda3258347b42f2932': 93, '5e956e42a3258347b42f297f': 94, '5e95a06da3258347b42f29b4': 95, '5e95d427a3258347b42f29db': 96, '5e95dd30a3258347b42f29f5': 97, '5e95e469a3258347b42f2a02': 98, '5e95ed0aa3258347b42f2a0e': 99, '5e95f087a3258347b42f2a16': 100, '5e95f13ba3258347b42f2a1b': 101, '5e95f3a0a3258347b42f2a2c': 102, '5e95f44ba3258347b42f2a31': 103, '5e964254a3258347b42f2a75': 104, '5e964354a3258347b42f2a7d': 105, '5e964576a3258347b42f2a86': 106, '5e96464da3258347b42f2a8e': 107, '5e964bcea3258347b42f2a96': 108, '5e966b74a3258347b42f2ab1': 109, '5e973a30a3258347b42f2ada': 110, '5e97542da3258347b42f2ae5': 111, '5e9754efa3258347b42f2ae8': 112, '5e977f94a3258347b42f2af9': 113, '5e979490a3258347b42f2b13': 114, '5e979637a3258347b42f2b1e': 115, '5e9796dba3258347b42f2b26': 116, '5e979786a3258347b42f2b2e': 117, '5e9806f5a3258347b42f2b61': 118, '5e9895e8a3258347b42f2ba7': 119, '5e98c18fa3258347b42f2bc4': 120, '5e99b1c6a3258347b42f2bf2': 121, '5e99b786a3258347b42f2bfd': 122, '5e99c99fa3258347b42f2c05': 123, '5e9a7e73a3258347b42f2c24': 124, '5e9a8271a3258347b42f2c35': 125, '5e9a8437a3258347b42f2c38': 126, '5e9aaeefa3258347b42f2c3f': 127, '5e9ab176a3258347b42f2c4a': 128, '5e9b0274a3258347b42f2c60': 129, '5e9b0475a3258347b42f2c6b': 130, '5e9b6b20a3258347b42f2c8d': 131, '5e9db770a3258347b42f2dcf': 132, '5e9eececa3258347b42f2e11': 133, '5e9f3e1aa3258347b42f2e39': 134, '5e9f439ba3258347b42f2e51': 135, '5e9f4421a3258347b42f2e54': 136, '5ea11fbd10426255a7aa9a38': 137, '5ea1603a10426255a7aa9a3e': 138, '5ea1ef0710426255a7aa9a7e': 139, '5ea30f6010426255a7aa9a9c': 140, '5ea319ee10426255a7aa9aa4': 141, '5ea31ee710426255a7aa9ab3': 142, '5ea3227010426255a7aa9ac1': 143, '5ea3236810426255a7aa9ac8': 144, '5ea323a010426255a7aa9aca': 145, '5ea5ce9310426255a7aa9b8d': 146, '5ea7cd9610426255a7aa9bd2': 147, '5ea80a7e10426255a7aa9be2': 148, '5ea85c1f10426255a7aa9c05': 149, '5ea8618a10426255a7aa9c0d': 150, '5eaaffe110426255a7aa9c5b': 151, '5eab002f10426255a7aa9c6c': 152, '5eab924610426255a7aa9c90': 153, '5eab942d10426255a7aa9ca7': 154, '5eab962e10426255a7aa9cb8': 155, '5eabeec210426255a7aa9cd2': 156, '5eabfaf510426255a7aa9da0': 157, '5eac349010426255a7aa9e29': 158, '5eac350110426255a7aa9e92': 159, '5eac578010426255a7aa9eba': 160, '5eadc2f710426255a7aa9ee4': 161, '5eaed2f210426255a7aa9eef': 162, '5eaf8b9310426255a7aa9f7e': 163, '5eb1407c10426255a7aa9fdb': 164, '5eb1551e10426255a7aaa003': 165, '5eb15a9810426255a7aaa019': 166, '5eb1ac4510426255a7aaa024': 167, '5eb1df6d10426255a7aaa029': 168, '5eb2c11210426255a7aaa052': 169, '5eb2ce0c10426255a7aaa078': 170, '5eb4f80810426255a7aaa0ce': 171, '5eb4fab110426255a7aaa0ed': 172, '5eb4fbe910426255a7aaa105': 173, '5eb7b10ffd92f539c465ddda': 174, '5ebc3239514aab59896bcc86': 175, '5ebcf6ea514aab59896bcd09': 176, '5ebd5b46514aab59896bcd5a': 177, '5ec1fd0974f7660d73aa0fd5': 178, '5ec2215374f7660d73aa1011': 179, '5ec278b574f7660d73aa10d5': 180, '5ec2b27974f7660d73aa1115': 181, '5ec2d29074f7660d73aa113b': 182, '5ec2e16074f7660d73aa1154': 183, '5ec3667274f7660d73aa1194': 184, '5ec3676574f7660d73aa119a': 185, '5ec3c09274f7660d73aa1229': 186, '5ec54fc9f2781131cc7e50f5': 187, '5ec5546bf2781131cc7e5140': 188, '5ec573a3f2781131cc7e51b8': 189, '5ec57914f2781131cc7e51c8': 190, '5ec57acaf2781131cc7e51d5': 191, '5ec601a0f2781131cc7e522e': 192, '5ec7a699ec493f4a2655883a': 193, '5ec7a7a3ec493f4a26558840': 194, '5ec7a8bdec493f4a26558846': 195, '5ec7aafbec493f4a26558857': 196, '5ec7abfdec493f4a26558860': 197, '5ec7ad1aec493f4a26558869': 198, '5eca6ddbec493f4a26558a46': 199, '5eca8fceeaff6b0c3a58a3c0': 200, '5ecb72c0eaff6b0c3a58a48e': 201, '5ecb7567eaff6b0c3a58a4cf': 202, '5ecce8a5eaff6b0c3a58a5e9': 203, '5ecd5d417023451e662235c5': 204, '5ecdecc67023451e66223765': 205, '5ecf23b87023451e66223944': 206, '5ecf818376027d35905cbf03': 207, '5ecf96e876027d35905cbf46': 208, '5ecfa0ca76027d35905cbf57': 209, '5ecfafcc76027d35905cbfb0': 210, '5ecfffb976027d35905cc0e9': 211, '5ed09ad076027d35905cc15f': 212, '5ed0e20776027d35905cc2fe': 213, '5ed13d2876027d35905cc4c2': 214, '5ed1ff0276027d35905cc60d': 215, '5ed3820f76027d35905ccac8': 216, '5d80dfbc6c53455f896e600e': 217, '5db2b91a99cbb90e4339c749': 218, '5e2d3fbfc85ab714a7da66d5': 219, '5e2d447dc85ab714a7da66d7': 220, '5e2d4737c85ab714a7da66d9': 221, '5e2d516fc85ab714a7da66dd': 222, '5e4ba8b2f5561b1994c8e39f': 223, '5e4edd87f5561b1994c8e497': 224, '5e51a9e8d701ab08af7929dc': 225, '5e78ae4ccfc8b713f5ac7cde': 226, '5e7c78fdcfc8b713f5ac7daa': 227, '5e81bc41a3258347b42f220a': 228, '5e81bf2fa3258347b42f2244': 229, '5e81bf73a3258347b42f2257': 230, '5e81bfe5a3258347b42f226a': 231, '5e81c06ba3258347b42f227d': 232, '5e81c0cba3258347b42f2290': 233, '5e81c101a3258347b42f22a3': 234, '5e81c15aa3258347b42f22b6': 235, '5e81c1e6a3258347b42f22dd': 236, '5e84657da3258347b42f2452': 237, '5e895ceca3258347b42f25b6': 238, '5e8c993da3258347b42f264d': 239, '5e901f23a3258347b42f2725': 240, '5e90208ca3258347b42f2730': 241, '5e9028cea3258347b42f2736': 242, '5e91a2dda3258347b42f276d': 243, '5e980938a3258347b42f2b66': 244, '5e9e2760a3258347b42f2df7': 245, '5e9f3f16a3258347b42f2e3c': 246, '5e9f4045a3258347b42f2e42': 247, '5e9f40b2a3258347b42f2e45': 248, '5e9f4155a3258347b42f2e48': 249, '5e9f4295a3258347b42f2e4e': 250, '5e9ff423a3258347b42f2e72': 251, '5ea029e9a3258347b42f2e85': 252, '5ea07ddba3258347b42f2eb6': 253, '5ea1d7ac10426255a7aa9a66': 254, '5eabf76a10426255a7aa9cfb': 255, '5eac305f10426255a7aa9dd3': 256, '5eac315210426255a7aa9dfe': 257, '5eaf322910426255a7aa9efa': 258, '5eaf4d4210426255a7aa9f76': 259, '5eb0f27f10426255a7aa9fa2': 260, '5eb1358910426255a7aa9fba': 261, '5eb1373110426255a7aa9fc1': 262, '5eb13a3610426255a7aa9fc5': 263, '5eb13e2a10426255a7aa9fcf': 264, '5eb1478a10426255a7aa9feb': 265, '5eb1485410426255a7aa9fef': 266, '5eb1490610426255a7aa9ff4': 267, '5eb153ca10426255a7aa9fff': 268, '5eb1569910426255a7aaa007': 269, '5eb158d410426255a7aaa011': 270, '5eb159a610426255a7aaa015': 271, '5eba2e94514aab59896bcc5a': 272, '5ebd1111514aab59896bcd1c': 273, '5ec3bc1a74f7660d73aa1207': 274, '5ec8204cec493f4a26558893': 275, '5ecc186aeaff6b0c3a58a53f': 276, '5ecc1d4eeaff6b0c3a58a565': 277, '5ecd6ba47023451e66223604': 278, '5ed0e31a76027d35905cc302': 279, '5d80e7c16c53455f896e6014': 280, '5e773c0bcfc8b713f5ac7ab7': 281, '5e79f3fccfc8b713f5ac7d54': 282, '5e7a605dcfc8b713f5ac7d81': 283, '5eca7601ec493f4a26558a62': 284, '5ed0e65976027d35905cc356': 285, '5ed0f0c576027d35905cc3c7': 286, '5ed141aa76027d35905cc4c9': 287, '5ed175f176027d35905cc554': 288, '5eba2dd3514aab59896bcc57': 289, '5ec2f7c074f7660d73aa116e': 290, '5ec821ddec493f4a2655889e': 291, '5d7d405e5720533e15c3b1f3': 292, '5e3674c68d344822fed4d152': 293, '5e4ef199f5561b1994c8e4a4': 294, '5e52e7abd701ab08af7929f8': 295, '5e52f911d701ab08af792a12': 296, '5e5b561cd701ab08af792b8a': 297, '5e5b59bcd701ab08af792b8f': 298, '5e77bdc2cfc8b713f5ac7be4': 299, '5e77c625cfc8b713f5ac7c0b': 300, '5e79b32ecfc8b713f5ac7d3f': 301, '5e8ccfb5a3258347b42f26bc': 302, '5e943363a3258347b42f2813': 303, '5ea31faf10426255a7aa9ab5': 304, '5ea3213010426255a7aa9abb': 305, '5ea321dd10426255a7aa9abd': 306, '5ea5aacd10426255a7aa9b71': 307, '5eb2cbde10426255a7aaa074': 308, '5ecb6edeeaff6b0c3a58a479': 309, '5ecb7155eaff6b0c3a58a486': 310, '5ecfb35c76027d35905cbfbc': 311, '5ed23cb876027d35905cc788': 312, '5d9b3514979d5962253c2f90': 313, '5e767d501b24db0468e90d54': 314, '5e773c89cfc8b713f5ac7ac9': 315, '5e77738bcfc8b713f5ac7b36': 316, '5dea816a42a8854bf6eaba89': 317, '5d9b950768671220a1b2b153': 318, '5e947c4aa3258347b42f283e': 319, '5e947dcda3258347b42f2843': 320, '5e95f1a8a3258347b42f2a20': 321, '5e9f3fd9a3258347b42f2e3f': 322, '5eb13ee710426255a7aa9fd3': 323, '5eb6db91fd92f539c465dd71': 324, '5eb6dc4cfd92f539c465dd77': 325, '5eb6dd5afd92f539c465dd7d': 326, '5eb6de2dfd92f539c465dd83': 327, '5eb6df2dfd92f539c465dd89': 328, '5eb6e04ffd92f539c465dd8f': 329, '5e37c301eab55d319938a701': 330, '5e37d490eab55d319938a713': 331, '5e37dc1aeab55d319938a720': 332, '5e3fc856eab55d319938a7f2': 333, '5e3fc931eab55d319938a7f4': 334, '5e3fcc56eab55d319938a808': 335, '5e3fcd38eab55d319938a81a': 336, '5e3fce21eab55d319938a81c': 337, '5e3fcfcdeab55d319938a81e': 338, '5e3fd10aeab55d319938a820': 339, '5e3fd290eab55d319938a822': 340, '5e3fd3bdeab55d319938a824': 341, '5e3fd57aeab55d319938a826': 342, '5e5bb3eed701ab08af792bfa': 343, '5e7680361b24db0468e90d66': 344, '5e7a614fcfc8b713f5ac7d83': 345, '5d7d23315720533e15c3b1ee': 346, '5dada695610ba040fbfdf585': 347, '5dada734610ba040fbfdf588': 348, '5dada798610ba040fbfdf58b': 349, '5dada82f610ba040fbfdf58e': 350, '5dada89b610ba040fbfdf591': 351, '5dadf6ae610ba040fbfdf5c8': 352, '5de7971b8eab6401affbb137': 353, '5dee9b5042a8854bf6eabaaf': 354, '5e281cf0025ae20886de2050': 355, '5e36746a8d344822fed4d147': 356, '5e36763d8d344822fed4d15d': 357, '5e36e7baeab55d319938a6d1': 358, '5e372ee2eab55d319938a6ed': 359, '5e3c7293eab55d319938a74d': 360, '5e3e9cc0eab55d319938a79b': 361, '5e3ea110eab55d319938a7a7': 362, '5e41b98eeab55d319938a82d': 363, '5e41bd7deab55d319938a839': 364, '5e431bf9eab55d319938a86a': 365, '5e45ae70f5561b1994c8e320': 366, '5e45b5c9f5561b1994c8e32d': 367, '5e4a3cf6f5561b1994c8e378': 368, '5e4af475f5561b1994c8e385': 369, '5e4ba3a9f5561b1994c8e392': 370, '5e4c28c5f5561b1994c8e3b0': 371, '5e4c2e65f5561b1994c8e3bd': 372, '5e4c3873f5561b1994c8e3d9': 373, '5e4c3c09f5561b1994c8e3e6': 374, '5e4c3d1df5561b1994c8e3f3': 375, '5e4c435cf5561b1994c8e400': 376, '5e4da502f5561b1994c8e42c': 377, '5e4da7c8f5561b1994c8e439': 378, '5e4dab15f5561b1994c8e446': 379, '5e4ed85af5561b1994c8e470': 380, '5e4ed8ccf5561b1994c8e47d': 381, '5e4edd1bf5561b1994c8e48a': 382, '5e50141ed15de17a8cf1b912': 383, '5e501d55d15de17a8cf1b91f': 384, '5e50207cd15de17a8cf1b92c': 385, '5e5023f1d15de17a8cf1b939': 386, '5e502673d15de17a8cf1b946': 387, '5e518c9fd701ab08af79299a': 388, '5e5196b5d701ab08af7929a8': 389, '5e519e8fd701ab08af7929b5': 390, '5e51a2cfd701ab08af7929c2': 391, '5e51a46ad701ab08af7929cf': 392, '5e52e1b0d701ab08af7929eb': 393, '5e52f2b8d701ab08af792a05': 394, '5df64ad1cc709107827fb3dd': 395, '5e9435f7a3258347b42f281a': 396, '5e94bf78a3258347b42f2925': 397, '5e9651d5a3258347b42f2a9f': 398, '5ea04678a3258347b42f2e8a': 399, '5ea45fdf10426255a7aa9b34': 400, '5eb45ca210426255a7aaa0b5': 401, '5e7a0fa1cfc8b713f5ac7d78': 402, '5e7a633ecfc8b713f5ac7d85': 403, '5db2a7d099cbb90e4339c734': 404, '5dbc622a99cbb90e4339c7f6': 405, '5e2d4d63c85ab714a7da66db': 406, '5e9486f6a3258347b42f287a': 407, '5e27002d2a37d20505da2c13': 408, '5e2867f6025ae20886de205a': 409, '5e2f1811c85ab714a7da670d': 410, '5e31a591c85ab714a7da6760': 411, '5e4d359cf5561b1994c8e424': 412, '5dde6a91369b28584ecca156': 413, '5de8d73249e8203ff9219a74': 414, '5e5e7e0afbc8805f69e02ca8': 415, '5e5e81e8fbc8805f69e02cab': 416, '5e5fcd9a49d7f322c033e02f': 417, '5e6eff8aed32a005135d6bb8': 418, '5e8164f9a3258347b42f21bf': 419, '5e961830a3258347b42f2a4e': 420, '5e976a64a3258347b42f2af1': 421, '5e978c7ca3258347b42f2b09': 422, '5ea2e85b10426255a7aa9a8c': 423, '5eaf3d4110426255a7aa9f4c': 424, '5e787636cfc8b713f5ac7cbe': 425, '5e78d6dccfc8b713f5ac7cf4': 426, '5e36db70eab55d319938a6cc': 427, '5e37c087eab55d319938a700': 428, '5e37c78aeab55d319938a703': 429, '5e37ce10eab55d319938a710': 430, '5e37d08ceab55d319938a711': 431, '5e37d1afeab55d319938a712': 432, '5e37d699eab55d319938a71a': 433, '5e37d8c9eab55d319938a71e': 434, '5e37d9eaeab55d319938a71f': 435, '5e3fcb74eab55d319938a806': 436, '5e816629a3258347b42f21c2': 437, '5e5e3b35fbc8805f69e02c9e': 438, '5e5facf649d7f322c033e02b': 439, '5e733f1c1b24db0468e90cf1': 440, '5dd1751db802e41ed198b680': 441, '5e81a441a3258347b42f21d1': 442, '5e897f6ca3258347b42f25cd': 443, '5e966ad3a3258347b42f2aaf': 444, '5e901b98a3258347b42f2708': 445, '5e908602a3258347b42f275b': 446, '5e783590cfc8b713f5ac7c5d': 447, '5e778ffccfc8b713f5ac7b50': 448, '5e3ab644eab55d319938a72d': 449, '5e79b8becfc8b713f5ac7d45': 450, '5e79cf2acfc8b713f5ac7d4e': 451, '5d81323a6c53455f896e6044': 452, '5e901e9da3258347b42f2711': 453, '5e04fb252a37d20505da2a2b': 454, '5d80ecfd6c53455f896e601a': 455, '5e94452ea3258347b42f282a': 456, '5ea047d5a3258347b42f2e96': 457, '5e7220891b24db0468e90ce2': 458, '5ea31e5610426255a7aa9ab0': 459, '5e964200a3258347b42f2a6d': 460, '5e9483b6a3258347b42f2860': 461, '5da745b6019399436815c4cd': 462, '5e964006a3258347b42f2a65': 463, '5e9f4215a3258347b42f2e4b': 464, '5e7743ebcfc8b713f5ac7aeb': 465, '5e776c1fcfc8b713f5ac7b23': 466, '5e948155a3258347b42f2850': 467, '5e5bdf4fd701ab08af792bfd': 468, '5e65346c85ae350860168b53': 469, '5de179d80eb5e25a8a07f079': 470, '5ed175f476027d35905cc562': 471, '5ed229d976027d35905cc666': 472, '5ed2378276027d35905cc6b5': 473, '5ed237d676027d35905cc6bd': 474, '5ed2383776027d35905cc6ca': 475, '5ed238d376027d35905cc6e5': 476, '5ed23a6376027d35905cc73b': 477, '5ed23b0776027d35905cc746': 478, '5ed23b6276027d35905cc74f': 479, '5ed23bb876027d35905cc759': 480, '5ed23c1876027d35905cc761': 481, '5ed23c8676027d35905cc780': 482, '5ed23cf876027d35905cc790': 483, '5ed23e4d76027d35905cc7b8': 484, '5ed2502b76027d35905cc7db': 485, '5ed3476576027d35905cca1d': 486, '5ed3791976027d35905ccab6': 487, '5ed3ef4cbd514d602c1530f2': 488, '5ed415c6bd514d602c15312d': 489, '5ed0007a76027d35905cc0ea': 490, '5ed23d4276027d35905cc798': 491, '5ed4cbadbd514d602c1531a6': 492}\n",
            "Angka ke \"post_id\": {0: '5d62abaa65218653a132c956', 1: '5d6d39567fa40e1417a4931c', 2: '5dbc631f99cbb90e4339c7fd', 3: '5dc065ca24b883670268772f', 4: '5ddeb6e80eb5e25a8a07f065', 5: '5e1029f22a37d20505da2a79', 6: '5e294fd1c85ab714a7da6643', 7: '5e2d36ebc85ab714a7da66d1', 8: '5e52fd0ed701ab08af792a1f', 9: '5e5b59cbd701ab08af792b90', 10: '5e5b6320d701ab08af792b9d', 11: '5e7082f91b24db0468e90cc5', 12: '5e7304761b24db0468e90ce7', 13: '5e773e15cfc8b713f5ac7ad9', 14: '5e782cd9cfc8b713f5ac7c4f', 15: '5e7838bdcfc8b713f5ac7c99', 16: '5e78c64acfc8b713f5ac7ce7', 17: '5e7a0d85cfc8b713f5ac7d77', 18: '5e7a5ebdcfc8b713f5ac7d7f', 19: '5e7a5f5dcfc8b713f5ac7d80', 20: '5e7a60edcfc8b713f5ac7d82', 21: '5e7a629ccfc8b713f5ac7d84', 22: '5e7a63c2cfc8b713f5ac7d86', 23: '5e7a7066cfc8b713f5ac7d88', 24: '5e7b1e65cfc8b713f5ac7d90', 25: '5e7b8764cfc8b713f5ac7da2', 26: '5e7bd922cfc8b713f5ac7da9', 27: '5e7c7a44cfc8b713f5ac7dac', 28: '5e7cc074cfc8b713f5ac7db0', 29: '5e7de250a3258347b42f210a', 30: '5e7de48ca3258347b42f2110', 31: '5e7df068a3258347b42f2125', 32: '5e7df283a3258347b42f2128', 33: '5e7e66e7a3258347b42f213c', 34: '5e7f39a3a3258347b42f2151', 35: '5e7f3cf8a3258347b42f2154', 36: '5e7f4fb3a3258347b42f2156', 37: '5e80b40ea3258347b42f21a5', 38: '5e80b4cca3258347b42f21a7', 39: '5e81a4f2a3258347b42f21d3', 40: '5e81b47fa3258347b42f21d7', 41: '5e81ba06a3258347b42f21ef', 42: '5e81be54a3258347b42f221d', 43: '5e81c1b7a3258347b42f22ca', 44: '5e81c257a3258347b42f22f0', 45: '5e81c29ea3258347b42f2303', 46: '5e822b4aa3258347b42f235f', 47: '5e823908a3258347b42f2368', 48: '5e82390ea3258347b42f2369', 49: '5e8307ada3258347b42f23ec', 50: '5e8308c4a3258347b42f23ed', 51: '5e8309a9a3258347b42f23f2', 52: '5e830a6ca3258347b42f23f6', 53: '5e830dc8a3258347b42f23fb', 54: '5e8381cfa3258347b42f2428', 55: '5e8448aba3258347b42f2447', 56: '5e847970a3258347b42f245e', 57: '5e84a6a3a3258347b42f246e', 58: '5e85054fa3258347b42f24a0', 59: '5e866cffa3258347b42f24ef', 60: '5e8837fba3258347b42f255b', 61: '5e88383aa3258347b42f255c', 62: '5e88a3c0a3258347b42f2572', 63: '5e88aa21a3258347b42f2575', 64: '5e88aac5a3258347b42f2577', 65: '5e895d87a3258347b42f25bb', 66: '5e897ab4a3258347b42f25ca', 67: '5e8bfa8aa3258347b42f2611', 68: '5e8c2d01a3258347b42f2627', 69: '5e8cb88ea3258347b42f267e', 70: '5e8cc876a3258347b42f26a3', 71: '5e8d539ba3258347b42f26d8', 72: '5e8e13dca3258347b42f26f2', 73: '5e936c67a3258347b42f27b6', 74: '5e940dd0a3258347b42f27f1', 75: '5e9415d2a3258347b42f27f8', 76: '5e941877a3258347b42f27fd', 77: '5e94827ea3258347b42f2854', 78: '5e948786a3258347b42f287e', 79: '5e9488c1a3258347b42f288a', 80: '5e9489e7a3258347b42f2896', 81: '5e948c4fa3258347b42f28a2', 82: '5e948ce6a3258347b42f28aa', 83: '5e948db2a3258347b42f28ae', 84: '5e948db6a3258347b42f28b2', 85: '5e948e4ca3258347b42f28ba', 86: '5e948e97a3258347b42f28be', 87: '5e948f05a3258347b42f28c2', 88: '5e948fb8a3258347b42f28c6', 89: '5e948fdfa3258347b42f28ca', 90: '5e9496b3a3258347b42f28d8', 91: '5e94ae2fa3258347b42f28ee', 92: '5e94bc47a3258347b42f291d', 93: '5e94caeda3258347b42f2932', 94: '5e956e42a3258347b42f297f', 95: '5e95a06da3258347b42f29b4', 96: '5e95d427a3258347b42f29db', 97: '5e95dd30a3258347b42f29f5', 98: '5e95e469a3258347b42f2a02', 99: '5e95ed0aa3258347b42f2a0e', 100: '5e95f087a3258347b42f2a16', 101: '5e95f13ba3258347b42f2a1b', 102: '5e95f3a0a3258347b42f2a2c', 103: '5e95f44ba3258347b42f2a31', 104: '5e964254a3258347b42f2a75', 105: '5e964354a3258347b42f2a7d', 106: '5e964576a3258347b42f2a86', 107: '5e96464da3258347b42f2a8e', 108: '5e964bcea3258347b42f2a96', 109: '5e966b74a3258347b42f2ab1', 110: '5e973a30a3258347b42f2ada', 111: '5e97542da3258347b42f2ae5', 112: '5e9754efa3258347b42f2ae8', 113: '5e977f94a3258347b42f2af9', 114: '5e979490a3258347b42f2b13', 115: '5e979637a3258347b42f2b1e', 116: '5e9796dba3258347b42f2b26', 117: '5e979786a3258347b42f2b2e', 118: '5e9806f5a3258347b42f2b61', 119: '5e9895e8a3258347b42f2ba7', 120: '5e98c18fa3258347b42f2bc4', 121: '5e99b1c6a3258347b42f2bf2', 122: '5e99b786a3258347b42f2bfd', 123: '5e99c99fa3258347b42f2c05', 124: '5e9a7e73a3258347b42f2c24', 125: '5e9a8271a3258347b42f2c35', 126: '5e9a8437a3258347b42f2c38', 127: '5e9aaeefa3258347b42f2c3f', 128: '5e9ab176a3258347b42f2c4a', 129: '5e9b0274a3258347b42f2c60', 130: '5e9b0475a3258347b42f2c6b', 131: '5e9b6b20a3258347b42f2c8d', 132: '5e9db770a3258347b42f2dcf', 133: '5e9eececa3258347b42f2e11', 134: '5e9f3e1aa3258347b42f2e39', 135: '5e9f439ba3258347b42f2e51', 136: '5e9f4421a3258347b42f2e54', 137: '5ea11fbd10426255a7aa9a38', 138: '5ea1603a10426255a7aa9a3e', 139: '5ea1ef0710426255a7aa9a7e', 140: '5ea30f6010426255a7aa9a9c', 141: '5ea319ee10426255a7aa9aa4', 142: '5ea31ee710426255a7aa9ab3', 143: '5ea3227010426255a7aa9ac1', 144: '5ea3236810426255a7aa9ac8', 145: '5ea323a010426255a7aa9aca', 146: '5ea5ce9310426255a7aa9b8d', 147: '5ea7cd9610426255a7aa9bd2', 148: '5ea80a7e10426255a7aa9be2', 149: '5ea85c1f10426255a7aa9c05', 150: '5ea8618a10426255a7aa9c0d', 151: '5eaaffe110426255a7aa9c5b', 152: '5eab002f10426255a7aa9c6c', 153: '5eab924610426255a7aa9c90', 154: '5eab942d10426255a7aa9ca7', 155: '5eab962e10426255a7aa9cb8', 156: '5eabeec210426255a7aa9cd2', 157: '5eabfaf510426255a7aa9da0', 158: '5eac349010426255a7aa9e29', 159: '5eac350110426255a7aa9e92', 160: '5eac578010426255a7aa9eba', 161: '5eadc2f710426255a7aa9ee4', 162: '5eaed2f210426255a7aa9eef', 163: '5eaf8b9310426255a7aa9f7e', 164: '5eb1407c10426255a7aa9fdb', 165: '5eb1551e10426255a7aaa003', 166: '5eb15a9810426255a7aaa019', 167: '5eb1ac4510426255a7aaa024', 168: '5eb1df6d10426255a7aaa029', 169: '5eb2c11210426255a7aaa052', 170: '5eb2ce0c10426255a7aaa078', 171: '5eb4f80810426255a7aaa0ce', 172: '5eb4fab110426255a7aaa0ed', 173: '5eb4fbe910426255a7aaa105', 174: '5eb7b10ffd92f539c465ddda', 175: '5ebc3239514aab59896bcc86', 176: '5ebcf6ea514aab59896bcd09', 177: '5ebd5b46514aab59896bcd5a', 178: '5ec1fd0974f7660d73aa0fd5', 179: '5ec2215374f7660d73aa1011', 180: '5ec278b574f7660d73aa10d5', 181: '5ec2b27974f7660d73aa1115', 182: '5ec2d29074f7660d73aa113b', 183: '5ec2e16074f7660d73aa1154', 184: '5ec3667274f7660d73aa1194', 185: '5ec3676574f7660d73aa119a', 186: '5ec3c09274f7660d73aa1229', 187: '5ec54fc9f2781131cc7e50f5', 188: '5ec5546bf2781131cc7e5140', 189: '5ec573a3f2781131cc7e51b8', 190: '5ec57914f2781131cc7e51c8', 191: '5ec57acaf2781131cc7e51d5', 192: '5ec601a0f2781131cc7e522e', 193: '5ec7a699ec493f4a2655883a', 194: '5ec7a7a3ec493f4a26558840', 195: '5ec7a8bdec493f4a26558846', 196: '5ec7aafbec493f4a26558857', 197: '5ec7abfdec493f4a26558860', 198: '5ec7ad1aec493f4a26558869', 199: '5eca6ddbec493f4a26558a46', 200: '5eca8fceeaff6b0c3a58a3c0', 201: '5ecb72c0eaff6b0c3a58a48e', 202: '5ecb7567eaff6b0c3a58a4cf', 203: '5ecce8a5eaff6b0c3a58a5e9', 204: '5ecd5d417023451e662235c5', 205: '5ecdecc67023451e66223765', 206: '5ecf23b87023451e66223944', 207: '5ecf818376027d35905cbf03', 208: '5ecf96e876027d35905cbf46', 209: '5ecfa0ca76027d35905cbf57', 210: '5ecfafcc76027d35905cbfb0', 211: '5ecfffb976027d35905cc0e9', 212: '5ed09ad076027d35905cc15f', 213: '5ed0e20776027d35905cc2fe', 214: '5ed13d2876027d35905cc4c2', 215: '5ed1ff0276027d35905cc60d', 216: '5ed3820f76027d35905ccac8', 217: '5d80dfbc6c53455f896e600e', 218: '5db2b91a99cbb90e4339c749', 219: '5e2d3fbfc85ab714a7da66d5', 220: '5e2d447dc85ab714a7da66d7', 221: '5e2d4737c85ab714a7da66d9', 222: '5e2d516fc85ab714a7da66dd', 223: '5e4ba8b2f5561b1994c8e39f', 224: '5e4edd87f5561b1994c8e497', 225: '5e51a9e8d701ab08af7929dc', 226: '5e78ae4ccfc8b713f5ac7cde', 227: '5e7c78fdcfc8b713f5ac7daa', 228: '5e81bc41a3258347b42f220a', 229: '5e81bf2fa3258347b42f2244', 230: '5e81bf73a3258347b42f2257', 231: '5e81bfe5a3258347b42f226a', 232: '5e81c06ba3258347b42f227d', 233: '5e81c0cba3258347b42f2290', 234: '5e81c101a3258347b42f22a3', 235: '5e81c15aa3258347b42f22b6', 236: '5e81c1e6a3258347b42f22dd', 237: '5e84657da3258347b42f2452', 238: '5e895ceca3258347b42f25b6', 239: '5e8c993da3258347b42f264d', 240: '5e901f23a3258347b42f2725', 241: '5e90208ca3258347b42f2730', 242: '5e9028cea3258347b42f2736', 243: '5e91a2dda3258347b42f276d', 244: '5e980938a3258347b42f2b66', 245: '5e9e2760a3258347b42f2df7', 246: '5e9f3f16a3258347b42f2e3c', 247: '5e9f4045a3258347b42f2e42', 248: '5e9f40b2a3258347b42f2e45', 249: '5e9f4155a3258347b42f2e48', 250: '5e9f4295a3258347b42f2e4e', 251: '5e9ff423a3258347b42f2e72', 252: '5ea029e9a3258347b42f2e85', 253: '5ea07ddba3258347b42f2eb6', 254: '5ea1d7ac10426255a7aa9a66', 255: '5eabf76a10426255a7aa9cfb', 256: '5eac305f10426255a7aa9dd3', 257: '5eac315210426255a7aa9dfe', 258: '5eaf322910426255a7aa9efa', 259: '5eaf4d4210426255a7aa9f76', 260: '5eb0f27f10426255a7aa9fa2', 261: '5eb1358910426255a7aa9fba', 262: '5eb1373110426255a7aa9fc1', 263: '5eb13a3610426255a7aa9fc5', 264: '5eb13e2a10426255a7aa9fcf', 265: '5eb1478a10426255a7aa9feb', 266: '5eb1485410426255a7aa9fef', 267: '5eb1490610426255a7aa9ff4', 268: '5eb153ca10426255a7aa9fff', 269: '5eb1569910426255a7aaa007', 270: '5eb158d410426255a7aaa011', 271: '5eb159a610426255a7aaa015', 272: '5eba2e94514aab59896bcc5a', 273: '5ebd1111514aab59896bcd1c', 274: '5ec3bc1a74f7660d73aa1207', 275: '5ec8204cec493f4a26558893', 276: '5ecc186aeaff6b0c3a58a53f', 277: '5ecc1d4eeaff6b0c3a58a565', 278: '5ecd6ba47023451e66223604', 279: '5ed0e31a76027d35905cc302', 280: '5d80e7c16c53455f896e6014', 281: '5e773c0bcfc8b713f5ac7ab7', 282: '5e79f3fccfc8b713f5ac7d54', 283: '5e7a605dcfc8b713f5ac7d81', 284: '5eca7601ec493f4a26558a62', 285: '5ed0e65976027d35905cc356', 286: '5ed0f0c576027d35905cc3c7', 287: '5ed141aa76027d35905cc4c9', 288: '5ed175f176027d35905cc554', 289: '5eba2dd3514aab59896bcc57', 290: '5ec2f7c074f7660d73aa116e', 291: '5ec821ddec493f4a2655889e', 292: '5d7d405e5720533e15c3b1f3', 293: '5e3674c68d344822fed4d152', 294: '5e4ef199f5561b1994c8e4a4', 295: '5e52e7abd701ab08af7929f8', 296: '5e52f911d701ab08af792a12', 297: '5e5b561cd701ab08af792b8a', 298: '5e5b59bcd701ab08af792b8f', 299: '5e77bdc2cfc8b713f5ac7be4', 300: '5e77c625cfc8b713f5ac7c0b', 301: '5e79b32ecfc8b713f5ac7d3f', 302: '5e8ccfb5a3258347b42f26bc', 303: '5e943363a3258347b42f2813', 304: '5ea31faf10426255a7aa9ab5', 305: '5ea3213010426255a7aa9abb', 306: '5ea321dd10426255a7aa9abd', 307: '5ea5aacd10426255a7aa9b71', 308: '5eb2cbde10426255a7aaa074', 309: '5ecb6edeeaff6b0c3a58a479', 310: '5ecb7155eaff6b0c3a58a486', 311: '5ecfb35c76027d35905cbfbc', 312: '5ed23cb876027d35905cc788', 313: '5d9b3514979d5962253c2f90', 314: '5e767d501b24db0468e90d54', 315: '5e773c89cfc8b713f5ac7ac9', 316: '5e77738bcfc8b713f5ac7b36', 317: '5dea816a42a8854bf6eaba89', 318: '5d9b950768671220a1b2b153', 319: '5e947c4aa3258347b42f283e', 320: '5e947dcda3258347b42f2843', 321: '5e95f1a8a3258347b42f2a20', 322: '5e9f3fd9a3258347b42f2e3f', 323: '5eb13ee710426255a7aa9fd3', 324: '5eb6db91fd92f539c465dd71', 325: '5eb6dc4cfd92f539c465dd77', 326: '5eb6dd5afd92f539c465dd7d', 327: '5eb6de2dfd92f539c465dd83', 328: '5eb6df2dfd92f539c465dd89', 329: '5eb6e04ffd92f539c465dd8f', 330: '5e37c301eab55d319938a701', 331: '5e37d490eab55d319938a713', 332: '5e37dc1aeab55d319938a720', 333: '5e3fc856eab55d319938a7f2', 334: '5e3fc931eab55d319938a7f4', 335: '5e3fcc56eab55d319938a808', 336: '5e3fcd38eab55d319938a81a', 337: '5e3fce21eab55d319938a81c', 338: '5e3fcfcdeab55d319938a81e', 339: '5e3fd10aeab55d319938a820', 340: '5e3fd290eab55d319938a822', 341: '5e3fd3bdeab55d319938a824', 342: '5e3fd57aeab55d319938a826', 343: '5e5bb3eed701ab08af792bfa', 344: '5e7680361b24db0468e90d66', 345: '5e7a614fcfc8b713f5ac7d83', 346: '5d7d23315720533e15c3b1ee', 347: '5dada695610ba040fbfdf585', 348: '5dada734610ba040fbfdf588', 349: '5dada798610ba040fbfdf58b', 350: '5dada82f610ba040fbfdf58e', 351: '5dada89b610ba040fbfdf591', 352: '5dadf6ae610ba040fbfdf5c8', 353: '5de7971b8eab6401affbb137', 354: '5dee9b5042a8854bf6eabaaf', 355: '5e281cf0025ae20886de2050', 356: '5e36746a8d344822fed4d147', 357: '5e36763d8d344822fed4d15d', 358: '5e36e7baeab55d319938a6d1', 359: '5e372ee2eab55d319938a6ed', 360: '5e3c7293eab55d319938a74d', 361: '5e3e9cc0eab55d319938a79b', 362: '5e3ea110eab55d319938a7a7', 363: '5e41b98eeab55d319938a82d', 364: '5e41bd7deab55d319938a839', 365: '5e431bf9eab55d319938a86a', 366: '5e45ae70f5561b1994c8e320', 367: '5e45b5c9f5561b1994c8e32d', 368: '5e4a3cf6f5561b1994c8e378', 369: '5e4af475f5561b1994c8e385', 370: '5e4ba3a9f5561b1994c8e392', 371: '5e4c28c5f5561b1994c8e3b0', 372: '5e4c2e65f5561b1994c8e3bd', 373: '5e4c3873f5561b1994c8e3d9', 374: '5e4c3c09f5561b1994c8e3e6', 375: '5e4c3d1df5561b1994c8e3f3', 376: '5e4c435cf5561b1994c8e400', 377: '5e4da502f5561b1994c8e42c', 378: '5e4da7c8f5561b1994c8e439', 379: '5e4dab15f5561b1994c8e446', 380: '5e4ed85af5561b1994c8e470', 381: '5e4ed8ccf5561b1994c8e47d', 382: '5e4edd1bf5561b1994c8e48a', 383: '5e50141ed15de17a8cf1b912', 384: '5e501d55d15de17a8cf1b91f', 385: '5e50207cd15de17a8cf1b92c', 386: '5e5023f1d15de17a8cf1b939', 387: '5e502673d15de17a8cf1b946', 388: '5e518c9fd701ab08af79299a', 389: '5e5196b5d701ab08af7929a8', 390: '5e519e8fd701ab08af7929b5', 391: '5e51a2cfd701ab08af7929c2', 392: '5e51a46ad701ab08af7929cf', 393: '5e52e1b0d701ab08af7929eb', 394: '5e52f2b8d701ab08af792a05', 395: '5df64ad1cc709107827fb3dd', 396: '5e9435f7a3258347b42f281a', 397: '5e94bf78a3258347b42f2925', 398: '5e9651d5a3258347b42f2a9f', 399: '5ea04678a3258347b42f2e8a', 400: '5ea45fdf10426255a7aa9b34', 401: '5eb45ca210426255a7aaa0b5', 402: '5e7a0fa1cfc8b713f5ac7d78', 403: '5e7a633ecfc8b713f5ac7d85', 404: '5db2a7d099cbb90e4339c734', 405: '5dbc622a99cbb90e4339c7f6', 406: '5e2d4d63c85ab714a7da66db', 407: '5e9486f6a3258347b42f287a', 408: '5e27002d2a37d20505da2c13', 409: '5e2867f6025ae20886de205a', 410: '5e2f1811c85ab714a7da670d', 411: '5e31a591c85ab714a7da6760', 412: '5e4d359cf5561b1994c8e424', 413: '5dde6a91369b28584ecca156', 414: '5de8d73249e8203ff9219a74', 415: '5e5e7e0afbc8805f69e02ca8', 416: '5e5e81e8fbc8805f69e02cab', 417: '5e5fcd9a49d7f322c033e02f', 418: '5e6eff8aed32a005135d6bb8', 419: '5e8164f9a3258347b42f21bf', 420: '5e961830a3258347b42f2a4e', 421: '5e976a64a3258347b42f2af1', 422: '5e978c7ca3258347b42f2b09', 423: '5ea2e85b10426255a7aa9a8c', 424: '5eaf3d4110426255a7aa9f4c', 425: '5e787636cfc8b713f5ac7cbe', 426: '5e78d6dccfc8b713f5ac7cf4', 427: '5e36db70eab55d319938a6cc', 428: '5e37c087eab55d319938a700', 429: '5e37c78aeab55d319938a703', 430: '5e37ce10eab55d319938a710', 431: '5e37d08ceab55d319938a711', 432: '5e37d1afeab55d319938a712', 433: '5e37d699eab55d319938a71a', 434: '5e37d8c9eab55d319938a71e', 435: '5e37d9eaeab55d319938a71f', 436: '5e3fcb74eab55d319938a806', 437: '5e816629a3258347b42f21c2', 438: '5e5e3b35fbc8805f69e02c9e', 439: '5e5facf649d7f322c033e02b', 440: '5e733f1c1b24db0468e90cf1', 441: '5dd1751db802e41ed198b680', 442: '5e81a441a3258347b42f21d1', 443: '5e897f6ca3258347b42f25cd', 444: '5e966ad3a3258347b42f2aaf', 445: '5e901b98a3258347b42f2708', 446: '5e908602a3258347b42f275b', 447: '5e783590cfc8b713f5ac7c5d', 448: '5e778ffccfc8b713f5ac7b50', 449: '5e3ab644eab55d319938a72d', 450: '5e79b8becfc8b713f5ac7d45', 451: '5e79cf2acfc8b713f5ac7d4e', 452: '5d81323a6c53455f896e6044', 453: '5e901e9da3258347b42f2711', 454: '5e04fb252a37d20505da2a2b', 455: '5d80ecfd6c53455f896e601a', 456: '5e94452ea3258347b42f282a', 457: '5ea047d5a3258347b42f2e96', 458: '5e7220891b24db0468e90ce2', 459: '5ea31e5610426255a7aa9ab0', 460: '5e964200a3258347b42f2a6d', 461: '5e9483b6a3258347b42f2860', 462: '5da745b6019399436815c4cd', 463: '5e964006a3258347b42f2a65', 464: '5e9f4215a3258347b42f2e4b', 465: '5e7743ebcfc8b713f5ac7aeb', 466: '5e776c1fcfc8b713f5ac7b23', 467: '5e948155a3258347b42f2850', 468: '5e5bdf4fd701ab08af792bfd', 469: '5e65346c85ae350860168b53', 470: '5de179d80eb5e25a8a07f079', 471: '5ed175f476027d35905cc562', 472: '5ed229d976027d35905cc666', 473: '5ed2378276027d35905cc6b5', 474: '5ed237d676027d35905cc6bd', 475: '5ed2383776027d35905cc6ca', 476: '5ed238d376027d35905cc6e5', 477: '5ed23a6376027d35905cc73b', 478: '5ed23b0776027d35905cc746', 479: '5ed23b6276027d35905cc74f', 480: '5ed23bb876027d35905cc759', 481: '5ed23c1876027d35905cc761', 482: '5ed23c8676027d35905cc780', 483: '5ed23cf876027d35905cc790', 484: '5ed23e4d76027d35905cc7b8', 485: '5ed2502b76027d35905cc7db', 486: '5ed3476576027d35905cca1d', 487: '5ed3791976027d35905ccab6', 488: '5ed3ef4cbd514d602c1530f2', 489: '5ed415c6bd514d602c15312d', 490: '5ed0007a76027d35905cc0ea', 491: '5ed23d4276027d35905cc798', 492: '5ed4cbadbd514d602c1531a6'}\n"
          ]
        }
      ]
    },
    {
      "cell_type": "markdown",
      "metadata": {
        "id": "MPBoe6TCCObD"
      },
      "source": [
        "3.2.5 Memetakan hasil *encoding* dari fitur `user_id` ke kolom baru `user` dan `post_id` ke kolom baru `post`. Kedua fitur tersebut yang akan digunakan dalam proses pemodelan bersama dengan fitur `total_views` agar model dapat mengolah nilai-nilainya."
      ]
    },
    {
      "cell_type": "code",
      "metadata": {
        "colab": {
          "base_uri": "https://localhost:8080/"
        },
        "id": "fG_fK752CRXj",
        "outputId": "868f19f1-4696-4c40-dca1-8631f996e2a2"
      },
      "source": [
        "collab['user'] = collab['user_id'].map(user_to_encoded_user)\n",
        "collab['post'] = collab['post_id'].map(post_to_encoded_post)\n",
        "collab.head()"
      ],
      "execution_count": null,
      "outputs": [
        {
          "output_type": "execute_result",
          "data": {
            "text/html": [
              "<div>\n",
              "<style scoped>\n",
              "    .dataframe tbody tr th:only-of-type {\n",
              "        vertical-align: middle;\n",
              "    }\n",
              "\n",
              "    .dataframe tbody tr th {\n",
              "        vertical-align: top;\n",
              "    }\n",
              "\n",
              "    .dataframe thead th {\n",
              "        text-align: right;\n",
              "    }\n",
              "</style>\n",
              "<table border=\"1\" class=\"dataframe\">\n",
              "  <thead>\n",
              "    <tr style=\"text-align: right;\">\n",
              "      <th></th>\n",
              "      <th>user_id</th>\n",
              "      <th>post_id</th>\n",
              "      <th>total_views</th>\n",
              "      <th>user</th>\n",
              "      <th>post</th>\n",
              "    </tr>\n",
              "  </thead>\n",
              "  <tbody>\n",
              "    <tr>\n",
              "      <th>0</th>\n",
              "      <td>5d60098a653a331687083238</td>\n",
              "      <td>5d62abaa65218653a132c956</td>\n",
              "      <td>1</td>\n",
              "      <td>0</td>\n",
              "      <td>0</td>\n",
              "    </tr>\n",
              "    <tr>\n",
              "      <th>1</th>\n",
              "      <td>5d60098a653a331687083238</td>\n",
              "      <td>5d6d39567fa40e1417a4931c</td>\n",
              "      <td>1</td>\n",
              "      <td>0</td>\n",
              "      <td>1</td>\n",
              "    </tr>\n",
              "    <tr>\n",
              "      <th>2</th>\n",
              "      <td>5d60098a653a331687083238</td>\n",
              "      <td>5dbc631f99cbb90e4339c7fd</td>\n",
              "      <td>1</td>\n",
              "      <td>0</td>\n",
              "      <td>2</td>\n",
              "    </tr>\n",
              "    <tr>\n",
              "      <th>3</th>\n",
              "      <td>5d60098a653a331687083238</td>\n",
              "      <td>5dc065ca24b883670268772f</td>\n",
              "      <td>1</td>\n",
              "      <td>0</td>\n",
              "      <td>3</td>\n",
              "    </tr>\n",
              "    <tr>\n",
              "      <th>4</th>\n",
              "      <td>5d60098a653a331687083238</td>\n",
              "      <td>5ddeb6e80eb5e25a8a07f065</td>\n",
              "      <td>1</td>\n",
              "      <td>0</td>\n",
              "      <td>4</td>\n",
              "    </tr>\n",
              "  </tbody>\n",
              "</table>\n",
              "</div>"
            ],
            "text/plain": [
              "                    user_id                   post_id  total_views  user  post\n",
              "0  5d60098a653a331687083238  5d62abaa65218653a132c956            1     0     0\n",
              "1  5d60098a653a331687083238  5d6d39567fa40e1417a4931c            1     0     1\n",
              "2  5d60098a653a331687083238  5dbc631f99cbb90e4339c7fd            1     0     2\n",
              "3  5d60098a653a331687083238  5dc065ca24b883670268772f            1     0     3\n",
              "4  5d60098a653a331687083238  5ddeb6e80eb5e25a8a07f065            1     0     4"
            ]
          },
          "metadata": {},
          "execution_count": 52
        }
      ]
    },
    {
      "cell_type": "markdown",
      "metadata": {
        "id": "zAKaqGpWDFQl"
      },
      "source": [
        "3.2.6 Melihat jumlah pengguna, jumlah postingan, jumlah tayangan minimum, dan jumlah tayangan maksimum untuk mengetahui informasi dari data yang akan diolah oleh model."
      ]
    },
    {
      "cell_type": "code",
      "metadata": {
        "colab": {
          "base_uri": "https://localhost:8080/"
        },
        "id": "BJdTrUaoEBpE",
        "outputId": "5352c2e8-bf80-4169-dedb-ce00749c372e"
      },
      "source": [
        "total_users = len(collab['user'].unique())\n",
        "total_posts = len(collab['post'].unique())\n",
        "min_views = collab['total_views'].min()\n",
        "max_views = collab['total_views'].max()\n",
        "\n",
        "print('Jumlah pengguna:', total_users)\n",
        "print('Jumlah postingan:', total_posts)\n",
        "print('Jumlah tayangan minimum:', min_views)\n",
        "print('Jumlah tayangan maksimum:', max_views)"
      ],
      "execution_count": null,
      "outputs": [
        {
          "output_type": "stream",
          "name": "stdout",
          "text": [
            "Jumlah pengguna: 118\n",
            "Jumlah postingan: 493\n",
            "Jumlah tayangan minimum: 1\n",
            "Jumlah tayangan maksimum: 5\n"
          ]
        }
      ]
    },
    {
      "cell_type": "markdown",
      "metadata": {
        "id": "hD9u_GBBcgor"
      },
      "source": [
        "Berdasarkan keluaran tersebut, jumlah postingan lebih banyak lima kali lipat dibandingkan jumlah pengguna. Hal tersebut menandakan ketersediaan postingan untuk pengguna dapat tercukupi dan pilihan postingan lebih variatif untuk pengguna."
      ]
    },
    {
      "cell_type": "markdown",
      "metadata": {
        "id": "Rq3JxmE8ErRh"
      },
      "source": [
        "3.2.7 Mengacak data agar persebaran sampelnya tidak menumpuk di satu pengguna."
      ]
    },
    {
      "cell_type": "code",
      "metadata": {
        "colab": {
          "base_uri": "https://localhost:8080/"
        },
        "id": "UqTUaA3aEsN-",
        "outputId": "e4901a63-6640-4dd4-9369-54637ab2019f"
      },
      "source": [
        "collab = collab.sample(frac=1, random_state=32)\n",
        "collab.head()"
      ],
      "execution_count": null,
      "outputs": [
        {
          "output_type": "execute_result",
          "data": {
            "text/html": [
              "<div>\n",
              "<style scoped>\n",
              "    .dataframe tbody tr th:only-of-type {\n",
              "        vertical-align: middle;\n",
              "    }\n",
              "\n",
              "    .dataframe tbody tr th {\n",
              "        vertical-align: top;\n",
              "    }\n",
              "\n",
              "    .dataframe thead th {\n",
              "        text-align: right;\n",
              "    }\n",
              "</style>\n",
              "<table border=\"1\" class=\"dataframe\">\n",
              "  <thead>\n",
              "    <tr style=\"text-align: right;\">\n",
              "      <th></th>\n",
              "      <th>user_id</th>\n",
              "      <th>post_id</th>\n",
              "      <th>total_views</th>\n",
              "      <th>user</th>\n",
              "      <th>post</th>\n",
              "    </tr>\n",
              "  </thead>\n",
              "  <tbody>\n",
              "    <tr>\n",
              "      <th>737</th>\n",
              "      <td>5df49b32cc709107827fb3c7</td>\n",
              "      <td>5e7a0fa1cfc8b713f5ac7d78</td>\n",
              "      <td>1</td>\n",
              "      <td>15</td>\n",
              "      <td>402</td>\n",
              "    </tr>\n",
              "    <tr>\n",
              "      <th>1319</th>\n",
              "      <td>5ecb979eeaff6b0c3a58a4f0</td>\n",
              "      <td>5ed415c6bd514d602c15312d</td>\n",
              "      <td>1</td>\n",
              "      <td>87</td>\n",
              "      <td>489</td>\n",
              "    </tr>\n",
              "    <tr>\n",
              "      <th>561</th>\n",
              "      <td>5deeef6142a8854bf6eabab9</td>\n",
              "      <td>5ec7a699ec493f4a2655883a</td>\n",
              "      <td>1</td>\n",
              "      <td>9</td>\n",
              "      <td>193</td>\n",
              "    </tr>\n",
              "    <tr>\n",
              "      <th>1080</th>\n",
              "      <td>5e902793a3258347b42f2733</td>\n",
              "      <td>5e9028cea3258347b42f2736</td>\n",
              "      <td>1</td>\n",
              "      <td>48</td>\n",
              "      <td>242</td>\n",
              "    </tr>\n",
              "    <tr>\n",
              "      <th>59</th>\n",
              "      <td>5d60098a653a331687083238</td>\n",
              "      <td>5e866cffa3258347b42f24ef</td>\n",
              "      <td>1</td>\n",
              "      <td>0</td>\n",
              "      <td>59</td>\n",
              "    </tr>\n",
              "  </tbody>\n",
              "</table>\n",
              "</div>"
            ],
            "text/plain": [
              "                       user_id                   post_id  ...  user  post\n",
              "737   5df49b32cc709107827fb3c7  5e7a0fa1cfc8b713f5ac7d78  ...    15   402\n",
              "1319  5ecb979eeaff6b0c3a58a4f0  5ed415c6bd514d602c15312d  ...    87   489\n",
              "561   5deeef6142a8854bf6eabab9  5ec7a699ec493f4a2655883a  ...     9   193\n",
              "1080  5e902793a3258347b42f2733  5e9028cea3258347b42f2736  ...    48   242\n",
              "59    5d60098a653a331687083238  5e866cffa3258347b42f24ef  ...     0    59\n",
              "\n",
              "[5 rows x 5 columns]"
            ]
          },
          "metadata": {},
          "execution_count": 54
        }
      ]
    },
    {
      "cell_type": "markdown",
      "metadata": {
        "id": "n5OZmJjWE4Aw"
      },
      "source": [
        "3.2.8 Membagi data menjadi data latih dan data validasi dengan fitur `post`, `user`, dan `total_views`. Fitur yang akan menjadi data target adalah fitur `total_views`. Data latih akan diambil 80% dari data keseluruhan dan data validasi akan diambil dari sisa data keseluruhan (20%). Sebelum itu, fitur `total_views` harus dilakukan skala ulang terlebih dahulu pada nilainya menjadi skala 0–1 agar model dapat bekerja lebih baik."
      ]
    },
    {
      "cell_type": "code",
      "metadata": {
        "colab": {
          "base_uri": "https://localhost:8080/"
        },
        "id": "IqqivTwgE6Q5",
        "outputId": "e2d53faa-61a2-481e-ab20-0467c214cf08"
      },
      "source": [
        "X = collab[['user', 'post']].values\n",
        "y = collab['total_views'].apply(\n",
        "    lambda x: (x - min_views) / (max_views - min_views)).values\n",
        "\n",
        "train_indices = int(0.8 * len(collab))\n",
        "X_train, X_val, y_train, y_val = (\n",
        "    X[:train_indices], X[train_indices:], y[:train_indices], y[train_indices:]\n",
        ")\n",
        "\n",
        "print('Jumlah data latih: {} (80%)'.format(len(X_train)))\n",
        "print('Jumlah data validasi: {} (20%)'.format(len(X_val)))\n",
        "print('Jumlah data keseluruhan:', len(collab))"
      ],
      "execution_count": null,
      "outputs": [
        {
          "output_type": "stream",
          "name": "stdout",
          "text": [
            "Jumlah data latih: 1116 (80%)\n",
            "Jumlah data validasi: 279 (20%)\n",
            "Jumlah data keseluruhan: 1395\n"
          ]
        }
      ]
    },
    {
      "cell_type": "markdown",
      "metadata": {
        "id": "FjG9i0_v4GAg"
      },
      "source": [
        "## 4. Pemodelan"
      ]
    },
    {
      "cell_type": "markdown",
      "metadata": {
        "id": "WObXH2Wg4e9j"
      },
      "source": [
        "### 4.1 *Content-Based Filtering*"
      ]
    },
    {
      "cell_type": "markdown",
      "metadata": {
        "id": "J3AwlA1NfjK_"
      },
      "source": [
        "4.1.1 Menghitung tingkat kesamaan antara suatu postingan dengan postingan lainnya berdasarkan matriks TF–IDF dengan kesamaan kosinus (*cosine similarity*). Kesamaan kosinus mengukur kesamaan antara dua vektor dan menentukan apakah kedua vektor tersebut menunjuk ke arah yang sama. Kesamaan kosinus akan menghitung sudut kosinus antara dua vektor, semakin kecil sudut kosinus tersebut maka akan semakin besar pula tingkat kesamaannya. Jadi, pada kasus kali ini kesamaan kosinus akan membandingkan dua postingan beserta bobot dari setiap kata kunci, semakin banyak kedua postingan memiliki kesamaan berdasarkan kata kunci maka akan semakin besar pula tingkat kesamaannya."
      ]
    },
    {
      "cell_type": "code",
      "metadata": {
        "colab": {
          "base_uri": "https://localhost:8080/"
        },
        "id": "UXjvQ6Oi-nsG",
        "outputId": "f65fb27d-f28b-49ee-ff78-cef6bae0079b"
      },
      "source": [
        "cosine_sim = cosine_similarity(tfidf_matrix)\n",
        "cosine_sim"
      ],
      "execution_count": null,
      "outputs": [
        {
          "output_type": "execute_result",
          "data": {
            "text/plain": [
              "array([[1.        , 0.03879194, 0.05515978, ..., 0.        , 0.        ,\n",
              "        0.04050004],\n",
              "       [0.03879194, 1.        , 0.04023098, ..., 0.        , 0.12355439,\n",
              "        0.32952431],\n",
              "       [0.05515978, 0.04023098, 1.        , ..., 0.        , 0.        ,\n",
              "        0.04200244],\n",
              "       ...,\n",
              "       [0.        , 0.        , 0.        , ..., 1.        , 0.        ,\n",
              "        0.        ],\n",
              "       [0.        , 0.12355439, 0.        , ..., 0.        , 1.        ,\n",
              "        0.25798953],\n",
              "       [0.04050004, 0.32952431, 0.04200244, ..., 0.        , 0.25798953,\n",
              "        1.        ]])"
            ]
          },
          "metadata": {},
          "execution_count": 48
        }
      ]
    },
    {
      "cell_type": "markdown",
      "metadata": {
        "id": "KsZ_oXhAf14O"
      },
      "source": [
        "4.1.2 Melihat tingkat kesamaan kosinus dari beberapa postingan berdasarkan bobot setiap kata kunci pada matriks TF–IDF. Tingkat kesamaan tersebut memiliki nilai dengan skala 0–1, 0 berarti tidak ada kesamaan dan 1 berarti sangat sama."
      ]
    },
    {
      "cell_type": "code",
      "metadata": {
        "colab": {
          "base_uri": "https://localhost:8080/",
          "height": 303
        },
        "id": "6WlT0VWhf5j6",
        "outputId": "0e26475b-9110-405b-89d0-911cdb829568"
      },
      "source": [
        "cosine_sim_df = pd.DataFrame(cosine_sim, index=content['title'],\n",
        "                             columns=content['title'])\n",
        "cosine_sim_df.sample(5, axis=1).sample(5, axis=0)"
      ],
      "execution_count": null,
      "outputs": [
        {
          "output_type": "execute_result",
          "data": {
            "text/html": [
              "<div>\n",
              "<style scoped>\n",
              "    .dataframe tbody tr th:only-of-type {\n",
              "        vertical-align: middle;\n",
              "    }\n",
              "\n",
              "    .dataframe tbody tr th {\n",
              "        vertical-align: top;\n",
              "    }\n",
              "\n",
              "    .dataframe thead th {\n",
              "        text-align: right;\n",
              "    }\n",
              "</style>\n",
              "<table border=\"1\" class=\"dataframe\">\n",
              "  <thead>\n",
              "    <tr style=\"text-align: right;\">\n",
              "      <th>title</th>\n",
              "      <th>Oliveres mediterrànies</th>\n",
              "      <th>HOW TO PREPARE YOURSELF FOR A BETTER TOMORROW?</th>\n",
              "      <th>Habit.</th>\n",
              "      <th>Applications of mobile computing</th>\n",
              "      <th>Human Resource Management</th>\n",
              "    </tr>\n",
              "    <tr>\n",
              "      <th>title</th>\n",
              "      <th></th>\n",
              "      <th></th>\n",
              "      <th></th>\n",
              "      <th></th>\n",
              "      <th></th>\n",
              "    </tr>\n",
              "  </thead>\n",
              "  <tbody>\n",
              "    <tr>\n",
              "      <th>Distracted? Unfocused? Used This Method To Avoid Distraction.</th>\n",
              "      <td>0.026801</td>\n",
              "      <td>0.037192</td>\n",
              "      <td>0.0000</td>\n",
              "      <td>0.039401</td>\n",
              "      <td>0.030372</td>\n",
              "    </tr>\n",
              "    <tr>\n",
              "      <th>Solitude</th>\n",
              "      <td>0.000000</td>\n",
              "      <td>0.000000</td>\n",
              "      <td>0.1018</td>\n",
              "      <td>0.000000</td>\n",
              "      <td>0.000000</td>\n",
              "    </tr>\n",
              "    <tr>\n",
              "      <th>Bloom to life</th>\n",
              "      <td>0.000000</td>\n",
              "      <td>0.000000</td>\n",
              "      <td>0.1018</td>\n",
              "      <td>0.000000</td>\n",
              "      <td>0.000000</td>\n",
              "    </tr>\n",
              "    <tr>\n",
              "      <th>Operators In PHP</th>\n",
              "      <td>0.022261</td>\n",
              "      <td>0.030892</td>\n",
              "      <td>0.0000</td>\n",
              "      <td>0.728842</td>\n",
              "      <td>0.025227</td>\n",
              "    </tr>\n",
              "    <tr>\n",
              "      <th>Designing Cmos circuit from Boolean expressions (Microwind)</th>\n",
              "      <td>0.000000</td>\n",
              "      <td>0.000000</td>\n",
              "      <td>0.0000</td>\n",
              "      <td>0.000000</td>\n",
              "      <td>0.000000</td>\n",
              "    </tr>\n",
              "  </tbody>\n",
              "</table>\n",
              "</div>"
            ],
            "text/plain": [
              "title                                               Oliveres mediterrànies  ...  Human Resource Management\n",
              "title                                                                       ...                           \n",
              "Distracted? Unfocused? Used This Method To Avoi...                0.026801  ...                   0.030372\n",
              "Solitude                                                          0.000000  ...                   0.000000\n",
              "Bloom to life                                                     0.000000  ...                   0.000000\n",
              "Operators In PHP                                                  0.022261  ...                   0.025227\n",
              "Designing Cmos circuit from Boolean expressions...                0.000000  ...                   0.000000\n",
              "\n",
              "[5 rows x 5 columns]"
            ]
          },
          "metadata": {},
          "execution_count": 52
        }
      ]
    },
    {
      "cell_type": "markdown",
      "metadata": {
        "id": "vO-EG1UkojWJ"
      },
      "source": [
        "4.1.3 Membuat kelas yang dapat menampilkan daftar rekomendasi postingan berdasarkan suatu postingan. Kelas ini akan menggunakan tingkat kesamaan kosinus untuk membuat daftar postingan yang memiliki kesamaan dengan suatu postingan. Kelas akan diberi nama `ContentRecommender` dan memiliki tiga pilihan keluaran, yaitu daftar rekomendasi dalam bentuk bingkai data (*data frame*) yang diakses melalui metode `frame`, daftar rekomendasi dalam bentuk teks laporan yang diakses melalui metode `text`, dan informasi postingan acuan dalam bentuk bingkai data yang diakses melalui metode `base`. Postingan yang akan dijadikan acuan untuk mencari daftar rekomendasi dapat dimasukkan melalui parameter `value` berdasarkan fitur tertentu yang ditentukan dari parameter `by`. Fitur yang diperbolehkan untuk menentukan postingan acuan adalah fitur `post_id` dan `title`. Selain itu, jumlah daftar rekomendasi dapat ditentukan melalui parameter `n` dan tingkat kesamaan kosinus akan ditampilkan atau tidak melalui parameter `metric`."
      ]
    },
    {
      "cell_type": "code",
      "metadata": {
        "id": "eYyHVwxJD7Pp"
      },
      "source": [
        "class ContentRecommender:\n",
        "    def __init__(self, by, value, n=5, metric=True):\n",
        "        accepted_features = ['post_id', 'title']\n",
        "        if by not in accepted_features:\n",
        "            raise ValueError(\n",
        "                'Daftar fitur untuk menentukan postingan acuan: {}'.format(\n",
        "                    accepted_features))\n",
        "        elif metric not in [True, False]:\n",
        "            raise ValueError(\n",
        "                'Argumen \"metric\" harus boolean: {} atau {}.'.format(\n",
        "                    True, False))\n",
        "\n",
        "        self.by = by\n",
        "        self.value = value\n",
        "        self.n = n\n",
        "        self.metric= metric\n",
        "        self.base_index = posts[posts[self.by] == self.value].index.values[0]\n",
        "\n",
        "    def base(self):\n",
        "        return posts.iloc[[self.base_index]]\n",
        "\n",
        "    def frame(self):\n",
        "        closest_posts = list(enumerate(cosine_sim[self.base_index]))\n",
        "        closest_posts.pop(self.base_index)\n",
        "        sorted_closest_posts = sorted(\n",
        "            closest_posts, key=(lambda x: x[1]), reverse=True\n",
        "        )\n",
        "\n",
        "        top_recomm = [sorted_closest_posts[i] for i in range(self.n)]\n",
        "        top_recomm_index = [i[0] for i in top_recomm]\n",
        "        top_recomm_metric = [i[1] for i in top_recomm]\n",
        "\n",
        "        top_recomm_df = posts.iloc[top_recomm_index].copy()\n",
        "        top_recomm_df.index = range(1, self.n+1)\n",
        "\n",
        "        if self.metric:\n",
        "            top_recomm_df['metric'] = top_recomm_metric\n",
        "            top_recomm_df['metric'] = top_recomm_df['metric'].round(2)\n",
        "\n",
        "        return top_recomm_df\n",
        "\n",
        "    def text(self):\n",
        "        columns_in_id = {\n",
        "            'title': 'Judul', 'category': 'Kategori', 'type': 'Jenis',\n",
        "            'metric': 'Tingkat Kesamaan'\n",
        "        }\n",
        "        base = self.base()\n",
        "        base = base.drop(columns='post_id')\n",
        "        base = base.rename(columns=columns_in_id)      \n",
        "        top_recomm = self.frame()\n",
        "        top_recomm = top_recomm.drop(columns='post_id')\n",
        "        top_recomm = top_recomm.rename(columns=columns_in_id)\n",
        "\n",
        "        print('=' * 70)\n",
        "        print('SISTEM REKOMENDASI POSTINGAN BERDASARKAN SUATU POSTINGAN')\n",
        "        print('=' * 70)\n",
        "        print('Postingan Acuan')\n",
        "        print('-' * 70)\n",
        "        with pd.option_context('display.max_colwidth', 20):\n",
        "            print(base)\n",
        "        print('-' * 70)\n",
        "        print('Daftar Rekomendasi Postingan')\n",
        "        print('-' * 70)\n",
        "        with pd.option_context('display.max_colwidth', 20):\n",
        "            print(top_recomm)\n",
        "        if self.metric:\n",
        "            metric_mean = round(top_recomm['Tingkat Kesamaan'].mean(), 2)\n",
        "            print('-' * 70)\n",
        "            print('Nilai Rata-Rata Tingkat Kesamaan: {} ({}%)'.format(\n",
        "                metric_mean, int(metric_mean * 100)))\n",
        "        print('=' * 70)"
      ],
      "execution_count": null,
      "outputs": []
    },
    {
      "cell_type": "markdown",
      "metadata": {
        "id": "In4Ffg6x4iDp"
      },
      "source": [
        "### 4.2 *Collaborative Filtering*"
      ]
    },
    {
      "cell_type": "markdown",
      "metadata": {
        "id": "Sp3VHVk-Liaa"
      },
      "source": [
        "4.2.1 Membuat kelas model bernama `RecommenderNet` dengan teknik *embedding*. Model akan menghitung skor kecocokan antara pengguna dengan postingan melalui teknik tersebut. Selanjutnya, model akan melakukan operasi perkalian *dot product* antara *embedding* pengguna dengan postingan. Selain itu, model juga akan menambahkan bias untuk setiap pengguna dan postingan. Skor kecocokan ditetapkan dalam skala 0–1 dengan fungsi aktivasi *sigmoid*."
      ]
    },
    {
      "cell_type": "code",
      "metadata": {
        "id": "oWqziOGOLjji"
      },
      "source": [
        "class RecommenderNet(keras.Model):\n",
        "    def __init__(self, total_users, total_posts, embedding_size, **kwargs):\n",
        "        super(RecommenderNet, self).__init__(**kwargs)\n",
        "        self.total_users = total_users\n",
        "        self.total_posts = total_posts\n",
        "        self.embedding_size = embedding_size\n",
        "        self.user_embedding = keras.layers.Embedding(\n",
        "            total_users, embedding_size, embeddings_initializer='he_normal',\n",
        "            embeddings_regularizer=keras.regularizers.l2(1e-6)\n",
        "        )\n",
        "        self.user_bias = keras.layers.Embedding(total_users, 1)\n",
        "        self.post_embedding = keras.layers.Embedding(\n",
        "            total_posts, embedding_size, embeddings_initializer='he_normal',\n",
        "            embeddings_regularizer=keras.regularizers.l2(1e-6)\n",
        "        )\n",
        "        self.post_bias = keras.layers.Embedding(total_posts, 1)\n",
        "    \n",
        "    def call(self, inputs):\n",
        "        user_vector = self.user_embedding(inputs[:, 0])\n",
        "        user_bias = self.user_bias(inputs[:, 0])\n",
        "        post_vector = self.post_embedding(inputs[:, 1])\n",
        "        post_bias = self.post_bias(inputs[:, 1])\n",
        "        dot_user_post = tf.tensordot(user_vector, post_vector, 2)\n",
        "        X = dot_user_post + user_bias + post_bias\n",
        "\n",
        "        return tf.nn.sigmoid(X)"
      ],
      "execution_count": null,
      "outputs": []
    },
    {
      "cell_type": "markdown",
      "metadata": {
        "id": "HWGEkF-LOCfo"
      },
      "source": [
        "4.2.2 Melakukan *compile* pada model dengan beberapa pengaturan, seperti menetapkan *loss* Binary Cross-entropy, *optimizer* Adam, dan metrik Root Mean Squared Error (RMSE)."
      ]
    },
    {
      "cell_type": "code",
      "metadata": {
        "id": "NMhWOnnLODk4"
      },
      "source": [
        "model = RecommenderNet(total_users, total_posts, embedding_size=5)\n",
        "model.compile(\n",
        "    loss=keras.losses.BinaryCrossentropy(),\n",
        "    optimizer=keras.optimizers.Adam(),\n",
        "    metrics=keras.metrics.RootMeanSquaredError()\n",
        ")"
      ],
      "execution_count": null,
      "outputs": []
    },
    {
      "cell_type": "markdown",
      "metadata": {
        "id": "RUxJ4pnVsWsq"
      },
      "source": [
        "4.2.3 Membuat *callback* untuk menghentikan proses pelatihan model apabila nilai metrik RMSE pada data validasi sudah mencapai target, yaitu di bawah 0,1."
      ]
    },
    {
      "cell_type": "code",
      "metadata": {
        "id": "DbNrlI4WsnUy"
      },
      "source": [
        "class ModelCallback(keras.callbacks.Callback):\n",
        "    def on_epoch_end(self, epoch, logs={}):\n",
        "        val_rmse_target = 0.1\n",
        "        if logs.get('val_root_mean_squared_error') < val_rmse_target:\n",
        "            print('\\nMetrik RMSE pada data validasi sudah mencapat target!')\n",
        "            print('Target: <', val_rmse_target)\n",
        "            self.model.stop_training = True"
      ],
      "execution_count": null,
      "outputs": []
    },
    {
      "cell_type": "markdown",
      "metadata": {
        "id": "ZVQ_xQyKOfWf"
      },
      "source": [
        "4.2.4 Melatih model dengan menjalankan 100 epoch dan menyimpan hasil pelatihannya ke dalam sebuah variabel yang nanti akan digunakan untuk melakukan proses visualisasi metrik RMSE."
      ]
    },
    {
      "cell_type": "code",
      "metadata": {
        "colab": {
          "base_uri": "https://localhost:8080/"
        },
        "id": "sNhFmwbNOgdG",
        "outputId": "836e9946-303f-4dca-9130-02d5987b9ca0"
      },
      "source": [
        "model_history = model.fit(\n",
        "    X_train, y_train, batch_size=8, epochs=100, validation_data=(X_val, y_val),\n",
        "    callbacks=ModelCallback()\n",
        ")"
      ],
      "execution_count": null,
      "outputs": [
        {
          "output_type": "stream",
          "name": "stdout",
          "text": [
            "Epoch 1/100\n",
            "140/140 [==============================] - 1s 3ms/step - loss: 0.6692 - root_mean_squared_error: 0.4810 - val_loss: 0.6434 - val_root_mean_squared_error: 0.4696\n",
            "Epoch 2/100\n",
            "140/140 [==============================] - 0s 1ms/step - loss: 0.6142 - root_mean_squared_error: 0.4517 - val_loss: 0.6039 - val_root_mean_squared_error: 0.4482\n",
            "Epoch 3/100\n",
            "140/140 [==============================] - 0s 1ms/step - loss: 0.5564 - root_mean_squared_error: 0.4191 - val_loss: 0.5621 - val_root_mean_squared_error: 0.4247\n",
            "Epoch 4/100\n",
            "140/140 [==============================] - 0s 1ms/step - loss: 0.4930 - root_mean_squared_error: 0.3812 - val_loss: 0.5147 - val_root_mean_squared_error: 0.3971\n",
            "Epoch 5/100\n",
            "140/140 [==============================] - 0s 2ms/step - loss: 0.4226 - root_mean_squared_error: 0.3364 - val_loss: 0.4616 - val_root_mean_squared_error: 0.3646\n",
            "Epoch 6/100\n",
            "140/140 [==============================] - 0s 1ms/step - loss: 0.3500 - root_mean_squared_error: 0.2869 - val_loss: 0.4048 - val_root_mean_squared_error: 0.3283\n",
            "Epoch 7/100\n",
            "140/140 [==============================] - 0s 1ms/step - loss: 0.2800 - root_mean_squared_error: 0.2361 - val_loss: 0.3492 - val_root_mean_squared_error: 0.2911\n",
            "Epoch 8/100\n",
            "140/140 [==============================] - 0s 1ms/step - loss: 0.2208 - root_mean_squared_error: 0.1906 - val_loss: 0.2985 - val_root_mean_squared_error: 0.2558\n",
            "Epoch 9/100\n",
            "140/140 [==============================] - 0s 1ms/step - loss: 0.1748 - root_mean_squared_error: 0.1527 - val_loss: 0.2563 - val_root_mean_squared_error: 0.2255\n",
            "Epoch 10/100\n",
            "140/140 [==============================] - 0s 1ms/step - loss: 0.1412 - root_mean_squared_error: 0.1255 - val_loss: 0.2231 - val_root_mean_squared_error: 0.2009\n",
            "Epoch 11/100\n",
            "140/140 [==============================] - 0s 1ms/step - loss: 0.1173 - root_mean_squared_error: 0.1038 - val_loss: 0.1953 - val_root_mean_squared_error: 0.1798\n",
            "Epoch 12/100\n",
            "140/140 [==============================] - 0s 1ms/step - loss: 0.0999 - root_mean_squared_error: 0.0902 - val_loss: 0.1745 - val_root_mean_squared_error: 0.1638\n",
            "Epoch 13/100\n",
            "140/140 [==============================] - 0s 1ms/step - loss: 0.0894 - root_mean_squared_error: 0.0815 - val_loss: 0.1572 - val_root_mean_squared_error: 0.1499\n",
            "Epoch 14/100\n",
            "140/140 [==============================] - 0s 2ms/step - loss: 0.0833 - root_mean_squared_error: 0.0776 - val_loss: 0.1442 - val_root_mean_squared_error: 0.1393\n",
            "Epoch 15/100\n",
            "140/140 [==============================] - 0s 2ms/step - loss: 0.0760 - root_mean_squared_error: 0.0710 - val_loss: 0.1328 - val_root_mean_squared_error: 0.1297\n",
            "Epoch 16/100\n",
            "140/140 [==============================] - 0s 1ms/step - loss: 0.0701 - root_mean_squared_error: 0.0666 - val_loss: 0.1243 - val_root_mean_squared_error: 0.1225\n",
            "Epoch 17/100\n",
            "140/140 [==============================] - 0s 1ms/step - loss: 0.0665 - root_mean_squared_error: 0.0645 - val_loss: 0.1170 - val_root_mean_squared_error: 0.1165\n",
            "Epoch 18/100\n",
            "140/140 [==============================] - 0s 1ms/step - loss: 0.0656 - root_mean_squared_error: 0.0633 - val_loss: 0.1109 - val_root_mean_squared_error: 0.1111\n",
            "Epoch 19/100\n",
            "140/140 [==============================] - 0s 2ms/step - loss: 0.0650 - root_mean_squared_error: 0.0615 - val_loss: 0.1067 - val_root_mean_squared_error: 0.1076\n",
            "Epoch 20/100\n",
            "140/140 [==============================] - 0s 2ms/step - loss: 0.0606 - root_mean_squared_error: 0.0608 - val_loss: 0.1029 - val_root_mean_squared_error: 0.1042\n",
            "Epoch 21/100\n",
            "140/140 [==============================] - 0s 1ms/step - loss: 0.0606 - root_mean_squared_error: 0.0599 - val_loss: 0.0994 - val_root_mean_squared_error: 0.1009\n",
            "Epoch 22/100\n",
            "140/140 [==============================] - 0s 1ms/step - loss: 0.0615 - root_mean_squared_error: 0.0602 - val_loss: 0.0963 - val_root_mean_squared_error: 0.0981\n",
            "\n",
            "Metrik RMSE pada data validasi sudah mencapat target!\n",
            "Target: < 0.1\n"
          ]
        }
      ]
    },
    {
      "cell_type": "markdown",
      "metadata": {
        "id": "iAwycdJi3QoC"
      },
      "source": [
        "4.2.5 Membuat kelas yang dapat menampilkan daftar rekomendasi postingan berdasarkan postingan apa saja yang sering dilihat pengguna. Kelas ini akan memberikan rekomendasi berdasarkan model yang telah dilatih sebelumnya, yaitu `RecommenderNet`. Kelas akan diberi nama `CollaborativeRecommender` dan memiliki tiga pilihan keluaran, yaitu daftar rekomendasi dalam bentuk bingkai data (*data frame*) yang diakses melalui metode `frame`, daftar rekomendasi dalam bentuk teks laporan yang diakses melalui metode `text`, dan daftar postingan yang sering dilihat pengguna dalam bingkai data yang diakses melalui metode `most_viewed`. Pengguna yang akan diberikan daftar rekomendasi dapat dimasukkan melalui fitur `user_id` di parameter `user_id` dan jumlah daftar rekomendasi dapat ditentukan melalui parameter `n`."
      ]
    },
    {
      "cell_type": "code",
      "metadata": {
        "id": "pk2L3aKm3TW7"
      },
      "source": [
        "class CollaborativeRecommender:\n",
        "    def __init__(self, user_id, n=5):\n",
        "        self.user_id = user_id\n",
        "        self.n = n\n",
        "\n",
        "    def frame(self):\n",
        "        viewed_posts = collab[collab['user_id'] == self.user_id]['post_id']\n",
        "        unviewed_posts = posts[~posts['post_id'].isin(viewed_posts)]['post_id']\n",
        "        unviewed_posts = list(\n",
        "            set(unviewed_posts).intersection(set(collab['post_id']))\n",
        "        )\n",
        "\n",
        "        encoded_user = user_to_encoded_user[self.user_id]\n",
        "        encoded_unviewed_posts = [\n",
        "            [post_to_encoded_post[i]] for i in unviewed_posts\n",
        "        ]\n",
        "        user_unviewed_posts = np.hstack(\n",
        "            ([[encoded_user]] * len(unviewed_posts), encoded_unviewed_posts)\n",
        "        )\n",
        "\n",
        "        top_recomm = model.predict(user_unviewed_posts).flatten()\n",
        "        top_recomm_indices = top_recomm.argsort()[-self.n:][::-1]\n",
        "        top_recomm_ids = [\n",
        "            encoded_unviewed_posts[i][0] for i in top_recomm_indices\n",
        "        ]\n",
        "        top_recomm_ids = [encoded_post_to_post[i] for i in top_recomm_ids]\n",
        "        top_recomm_df = pd.DataFrame(\n",
        "            posts[posts['post_id'].isin(top_recomm_ids)]\n",
        "        )\n",
        "        top_recomm_df.index = range(1, self.n+1)\n",
        "\n",
        "        return top_recomm_df\n",
        "\n",
        "    def most_viewed(self, n=5):\n",
        "        most_viewed = collab[collab['user_id'] == self.user_id]\n",
        "        most_viewed = most_viewed.sort_values('total_views', ascending=False)\n",
        "        most_viewed = most_viewed.head(n)\n",
        "        most_viewed = most_viewed.drop(columns=['user_id', 'user', 'post'])\n",
        "        most_viewed = posts.merge(most_viewed, how='right', on='post_id')\n",
        "        most_viewed.index = range(1, self.n+1)\n",
        "        \n",
        "        return most_viewed\n",
        "\n",
        "    def text(self):\n",
        "        columns_in_id = {\n",
        "            'title': 'Judul', 'category': 'Kategori', 'type': 'Jenis',\n",
        "            'total_views': 'Jumlah Tayangan'\n",
        "        }\n",
        "        user = users[users['user_id'] == self.user_id].iloc[0]\n",
        "        most_viewed = self.most_viewed().drop(columns='post_id')\n",
        "        most_viewed = most_viewed.rename(columns=columns_in_id)\n",
        "        top_recomm = self.frame().drop(columns='post_id')\n",
        "        top_recomm = top_recomm.rename(columns=columns_in_id)\n",
        "\n",
        "        print('=' * 70)\n",
        "        print('SISTEM REKOMENDASI POSTINGAN BERDASARKAN PENGGUNA')\n",
        "        print('=' * 70)\n",
        "        print('Pengguna: {} ({})'.format(user['name'], user['user_id']))\n",
        "        print('-' * 70)\n",
        "        print('Postingan yang Sering Dilihat Pengguna')\n",
        "        print('-' * 70)\n",
        "        with pd.option_context('display.max_colwidth', 20):\n",
        "            print(most_viewed)\n",
        "        print('-' * 70)\n",
        "        print('Daftar Rekomendasi Postingan untuk Pengguna')\n",
        "        print('-' * 70)\n",
        "        with pd.option_context('display.max_colwidth', 20):\n",
        "            print(top_recomm)\n",
        "        print('=' * 70)"
      ],
      "execution_count": null,
      "outputs": []
    },
    {
      "cell_type": "markdown",
      "metadata": {
        "id": "A2jOth194Khg"
      },
      "source": [
        "## 5. Evaluasi"
      ]
    },
    {
      "cell_type": "markdown",
      "metadata": {
        "id": "LfSvHPiS4nVg"
      },
      "source": [
        "### 5.1 *Content-Based Filtering*"
      ]
    },
    {
      "cell_type": "markdown",
      "metadata": {
        "id": "4POyRWq7o8TQ"
      },
      "source": [
        "5.1.1 Menampilkan lima daftar rekomendasi postingan dalam bentuk bingkai data melalui fitur `post_id` dengan postingan acak sebagai postingan acuannya."
      ]
    },
    {
      "cell_type": "code",
      "metadata": {
        "colab": {
          "base_uri": "https://localhost:8080/",
          "height": 272
        },
        "id": "T11MxGOgpDOa",
        "outputId": "ff742038-dfd2-4abc-c224-cf4fa6678397"
      },
      "source": [
        "random_post_id = posts.sample(1, random_state=120)['post_id'].values[0]\n",
        "content_recommender = ContentRecommender(by='post_id', value=random_post_id)\n",
        "content_recommender.frame()"
      ],
      "execution_count": null,
      "outputs": [
        {
          "output_type": "execute_result",
          "data": {
            "text/html": [
              "<div>\n",
              "<style scoped>\n",
              "    .dataframe tbody tr th:only-of-type {\n",
              "        vertical-align: middle;\n",
              "    }\n",
              "\n",
              "    .dataframe tbody tr th {\n",
              "        vertical-align: top;\n",
              "    }\n",
              "\n",
              "    .dataframe thead th {\n",
              "        text-align: right;\n",
              "    }\n",
              "</style>\n",
              "<table border=\"1\" class=\"dataframe\">\n",
              "  <thead>\n",
              "    <tr style=\"text-align: right;\">\n",
              "      <th></th>\n",
              "      <th>post_id</th>\n",
              "      <th>title</th>\n",
              "      <th>category</th>\n",
              "      <th>type</th>\n",
              "      <th>metric</th>\n",
              "    </tr>\n",
              "  </thead>\n",
              "  <tbody>\n",
              "    <tr>\n",
              "      <th>1</th>\n",
              "      <td>5e733f1c1b24db0468e90cf1</td>\n",
              "      <td>Benefits of Guest Posting to both Writers and ...</td>\n",
              "      <td>Marketing|Promotion And Distribution Decisions</td>\n",
              "      <td>blog</td>\n",
              "      <td>1.00</td>\n",
              "    </tr>\n",
              "    <tr>\n",
              "      <th>2</th>\n",
              "      <td>5ea85c1f10426255a7aa9c05</td>\n",
              "      <td>Innovative Marketing Strategies</td>\n",
              "      <td>Marketing|Principles Of Marketing|Internationa...</td>\n",
              "      <td>blog</td>\n",
              "      <td>0.79</td>\n",
              "    </tr>\n",
              "    <tr>\n",
              "      <th>3</th>\n",
              "      <td>5e85054fa3258347b42f24a0</td>\n",
              "      <td>How Artificial Intelligence tools Help You To ...</td>\n",
              "      <td>Marketing|Marketing Management</td>\n",
              "      <td>blog</td>\n",
              "      <td>0.41</td>\n",
              "    </tr>\n",
              "    <tr>\n",
              "      <th>4</th>\n",
              "      <td>5e9eececa3258347b42f2e11</td>\n",
              "      <td>Innovative Marketing Strategies</td>\n",
              "      <td>Marketing|Principles Of Marketing|Marketing Re...</td>\n",
              "      <td>blog</td>\n",
              "      <td>0.39</td>\n",
              "    </tr>\n",
              "    <tr>\n",
              "      <th>5</th>\n",
              "      <td>5e5e3b35fbc8805f69e02c9e</td>\n",
              "      <td>Importance of Digital Marketing for Startups</td>\n",
              "      <td>Marketing|Advertising</td>\n",
              "      <td>blog</td>\n",
              "      <td>0.31</td>\n",
              "    </tr>\n",
              "  </tbody>\n",
              "</table>\n",
              "</div>"
            ],
            "text/plain": [
              "                    post_id  ... metric\n",
              "1  5e733f1c1b24db0468e90cf1  ...   1.00\n",
              "2  5ea85c1f10426255a7aa9c05  ...   0.79\n",
              "3  5e85054fa3258347b42f24a0  ...   0.41\n",
              "4  5e9eececa3258347b42f2e11  ...   0.39\n",
              "5  5e5e3b35fbc8805f69e02c9e  ...   0.31\n",
              "\n",
              "[5 rows x 5 columns]"
            ]
          },
          "metadata": {},
          "execution_count": 61
        }
      ]
    },
    {
      "cell_type": "markdown",
      "metadata": {
        "id": "AbPPP_iypSP0"
      },
      "source": [
        "5.1.2 Membandingkan daftar rekomendasi postingan dengan postingan acuannya, apakah terdapat kesamaan atau tidak."
      ]
    },
    {
      "cell_type": "code",
      "metadata": {
        "colab": {
          "base_uri": "https://localhost:8080/",
          "height": 80
        },
        "id": "OKxiGk1WpI_g",
        "outputId": "43e83bd4-d35a-47b4-bbd4-1d5afc312caf"
      },
      "source": [
        "content_recommender.base()"
      ],
      "execution_count": null,
      "outputs": [
        {
          "output_type": "execute_result",
          "data": {
            "text/html": [
              "<div>\n",
              "<style scoped>\n",
              "    .dataframe tbody tr th:only-of-type {\n",
              "        vertical-align: middle;\n",
              "    }\n",
              "\n",
              "    .dataframe tbody tr th {\n",
              "        vertical-align: top;\n",
              "    }\n",
              "\n",
              "    .dataframe thead th {\n",
              "        text-align: right;\n",
              "    }\n",
              "</style>\n",
              "<table border=\"1\" class=\"dataframe\">\n",
              "  <thead>\n",
              "    <tr style=\"text-align: right;\">\n",
              "      <th></th>\n",
              "      <th>post_id</th>\n",
              "      <th>title</th>\n",
              "      <th>category</th>\n",
              "      <th>type</th>\n",
              "    </tr>\n",
              "  </thead>\n",
              "  <tbody>\n",
              "    <tr>\n",
              "      <th>184</th>\n",
              "      <td>5e816629a3258347b42f21c2</td>\n",
              "      <td>Employee Stock Option and Buyback Securities.</td>\n",
              "      <td>Marketing|Promotion And Distribution Decisions</td>\n",
              "      <td>blog</td>\n",
              "    </tr>\n",
              "  </tbody>\n",
              "</table>\n",
              "</div>"
            ],
            "text/plain": [
              "                      post_id  ...  type\n",
              "184  5e816629a3258347b42f21c2  ...  blog\n",
              "\n",
              "[1 rows x 4 columns]"
            ]
          },
          "metadata": {},
          "execution_count": 62
        }
      ]
    },
    {
      "cell_type": "markdown",
      "metadata": {
        "id": "Z6l8p5mqM6Yt"
      },
      "source": [
        "**Penjelasan:**\n",
        "\n",
        "Setiap postingan yang direkomendasikan memiliki tingkat kesamaan yang bervariasi dengan postingan acuannya, mulai dari 1,00 (100%) hingga 0,31 (31%) dalam lima rekomendasi postingan teratas. Nilai rata-rata tingkat kesamaan dalam lima rekomendasi postingan teratas adalah 0,58 (58%). Postingan acuan merupakan postingan berjenis blog dan memiliki kategori pemasaran (*marketing*). Jadi, postingan yang direkomendasikan adalah postingan yang juga berjenis blog dan memiliki kategori pemasaran. Tingkat kesamaan yang bervariasi pada daftar rekomendasi tersebut dikarenakan terdapat beberapa kategori rekomendasi postingan yang tidak ada di postingan acuan sehingga tingkat kesamaannya tidak terlalu besar.\n",
        "\n",
        "Untuk mengetahui performa model dalam memberikan postingan yang relevan, model dapat dievaluasi menggunakan metrik presisi (*precision*). Metrik tersebut akan melihat seberapa banyak model memberikan rekomendasi yang relevan dibandingkan memberikan rekomendasi yang tidak relevan. Untuk menentukan suatu postingan relevan atau tidak, kita dapat menetapkannya berdasarkan tingkat kesamaannya. Bila tingkat kesamaan suatu rekomendasi postingan di atas atau sama dengan 0,75 (>= 75%) maka postingan tersebut dapat dikatakan relevan dengan postingan acuan, begitu pun sebaliknya. Jadi, dari lima rekomendasi postingan tersebut dapat diketahui bahwa dua postingan teratas merupakan postingan relevan dan tiga sisanya merupakan postingan tidak relevan sehingga nilai presisinya adalah (2 / [2 + 3]) = 0,4 (40%)."
      ]
    },
    {
      "cell_type": "markdown",
      "metadata": {
        "id": "Ylgru2mXpWwQ"
      },
      "source": [
        "5.1.3 Menampilkan lima daftar rekomendasi postingan dalam bentuk teks laporan melalui fitur `title` dengan postingan acak sebagai postingan acuannya."
      ]
    },
    {
      "cell_type": "code",
      "metadata": {
        "colab": {
          "base_uri": "https://localhost:8080/"
        },
        "id": "SLZnioQzpZpG",
        "outputId": "76e446fc-79c4-4fb2-c901-3c3509cd26f2"
      },
      "source": [
        "random_post_title = posts.sample(1, random_state=421)['title'].values[0]\n",
        "ContentRecommender(by='title', value=random_post_title).text()"
      ],
      "execution_count": null,
      "outputs": [
        {
          "output_type": "stream",
          "name": "stdout",
          "text": [
            "======================================================================\n",
            "SISTEM REKOMENDASI POSTINGAN BERDASARKAN SUATU POSTINGAN\n",
            "======================================================================\n",
            "Postingan Acuan\n",
            "----------------------------------------------------------------------\n",
            "        Judul  Kategori    Jenis\n",
            "100  Mahakaal  Drawings  artwork\n",
            "----------------------------------------------------------------------\n",
            "Daftar Rekomendasi Postingan\n",
            "----------------------------------------------------------------------\n",
            "           Judul  Kategori    Jenis  Tingkat Kesamaan\n",
            "1     Lord Shiva  Drawings  artwork               1.0\n",
            "2        Trident  Drawings  artwork               1.0\n",
            "3     Lord shiva  Drawings  artwork               1.0\n",
            "4         Kid Bu  Drawings  artwork               1.0\n",
            "5  Shadow Sketch  Drawings  artwork               1.0\n",
            "----------------------------------------------------------------------\n",
            "Nilai Rata-Rata Tingkat Kesamaan: 1.0 (100%)\n",
            "======================================================================\n"
          ]
        }
      ]
    },
    {
      "cell_type": "markdown",
      "metadata": {
        "id": "EHZUyVaxQVRB"
      },
      "source": [
        "**Penjelasan:**\n",
        "\n",
        "Setiap postingan yang direkomendasikan memiliki tingkat kesamaan 100% dengan postingan acuannya. Postingan acuan merupakan postingan berjenis karya seni (*artwork*) dengan kategori menggambar (*drawings*). Jadi, postingan yang direkomendasikan adalah postingan yang juga berjenis karya seni dengan kategori menggambar. Setiap rekomendasi postingan memiliki kategori yang juga dimiliki oleh postingan acuan sehingga tingkat kesamaannya mencapai 100%.\n",
        "\n",
        "Karena semua rekomendasi postingan merupakan postingan yang relevan (tingkat kesamaannya di atas atau sama dengan 75%), dapat disimpulkan bahwa model dalam memberikan rekomendasi postingan berdasarkan postingan acuan ke-2 memiliki nilai presisi sebesar (5 / [5 + 0]) = 1,0 (100%)."
      ]
    },
    {
      "cell_type": "markdown",
      "metadata": {
        "id": "oLlefAJD4qGE"
      },
      "source": [
        "### 5.2 *Collaborative Filtering*"
      ]
    },
    {
      "cell_type": "markdown",
      "metadata": {
        "id": "zugNX1dwP8Md"
      },
      "source": [
        "5.2.1 Melakukan visualisasi nilai metrik RMSE untuk mengetahui seberapa jauh kesalahan antara hasil rekomendasi model dengan yang sebenarnya. Semakin kecil nilai RMSE maka akan semakin baik pula hasil rekomendasi model."
      ]
    },
    {
      "cell_type": "code",
      "metadata": {
        "colab": {
          "base_uri": "https://localhost:8080/",
          "height": 401
        },
        "id": "QORI6Cp8P9nW",
        "outputId": "330ff695-1f41-4b0d-c274-ac818c252979"
      },
      "source": [
        "rmse_history = model_history.history['root_mean_squared_error']\n",
        "val_rmse_history = model_history.history['val_root_mean_squared_error']\n",
        "total_epoch = len(rmse_history)\n",
        "\n",
        "print('Nilai RMSE data latih pada epoch terakhir ({} epoch): {}'.format(\n",
        "    total_epoch, round(rmse_history[-1], 4)\n",
        "))\n",
        "print('Nilai RMSE data validasi pada epoch terakhir ({} epoch): {}'.format(\n",
        "    total_epoch, round(val_rmse_history[-1], 4)\n",
        "))\n",
        "print()\n",
        "\n",
        "plt.figure(figsize=(8, 5))\n",
        "plt.plot(rmse_history, color='orange', linewidth=2)\n",
        "plt.plot(val_rmse_history, color='limegreen', linewidth=2)\n",
        "plt.title('Histori Nilai Root Mean Squared Error pada Pelatihan Model',\n",
        "          fontweight='bold')\n",
        "plt.xlabel('Epoch yang Dijalankan')\n",
        "plt.ylabel('Nilai Root Mean Squared Error')\n",
        "plt.legend(['Latih', 'Validasi'], loc='upper right')\n",
        "plt.grid(color='gray', linewidth=0.3)\n",
        "plt.show()"
      ],
      "execution_count": null,
      "outputs": [
        {
          "output_type": "stream",
          "name": "stdout",
          "text": [
            "Nilai RMSE data latih pada epoch terakhir (22 epoch): 0.0602\n",
            "Nilai RMSE data validasi pada epoch terakhir (22 epoch): 0.0981\n",
            "\n"
          ]
        },
        {
          "output_type": "display_data",
          "data": {
            "image/png": "[encoded data removed]",
            "text/plain": [
              "<Figure size 576x360 with 1 Axes>"
            ]
          },
          "metadata": {
            "needs_background": "light"
          }
        }
      ]
    },
    {
      "cell_type": "markdown",
      "metadata": {
        "id": "9FdWFMNyOerf"
      },
      "source": [
        "**Penjelasan:**\n",
        "\n",
        "Nilai RMSE dari epoch pertama hingga epoch ke-22 mengalami penurunan yang cukup baik. Nilai RMSE pada data latih di epoch terakhir adalah 0,0602 dan nilai RMSE pada data validasi adalah 0,0981. Nilai dengan angka tersebut menunjukkan bahwa model dapat memberikan daftar rekomendasi dengan kesalahan yang sangat kecil, bahkan tidak lebih dari 0,1."
      ]
    },
    {
      "cell_type": "markdown",
      "metadata": {
        "id": "p0rqUSGXX7Go"
      },
      "source": [
        "5.2.2 Menampilkan lima daftar rekomendasi postingan dalam bentuk bingkai data berdasarkan pengguna dengan indeks pertama."
      ]
    },
    {
      "cell_type": "code",
      "metadata": {
        "colab": {
          "base_uri": "https://localhost:8080/",
          "height": 204
        },
        "id": "8DsBcICLUaFB",
        "outputId": "b534308e-4f84-4d3b-bc60-3119dbf12ad0"
      },
      "source": [
        "first_user_id = users.head(1)['user_id'].values[0]\n",
        "collab_recommender = CollaborativeRecommender(first_user_id)\n",
        "collab_recommender.frame()"
      ],
      "execution_count": null,
      "outputs": [
        {
          "output_type": "execute_result",
          "data": {
            "text/html": [
              "<div>\n",
              "<style scoped>\n",
              "    .dataframe tbody tr th:only-of-type {\n",
              "        vertical-align: middle;\n",
              "    }\n",
              "\n",
              "    .dataframe tbody tr th {\n",
              "        vertical-align: top;\n",
              "    }\n",
              "\n",
              "    .dataframe thead th {\n",
              "        text-align: right;\n",
              "    }\n",
              "</style>\n",
              "<table border=\"1\" class=\"dataframe\">\n",
              "  <thead>\n",
              "    <tr style=\"text-align: right;\">\n",
              "      <th></th>\n",
              "      <th>post_id</th>\n",
              "      <th>title</th>\n",
              "      <th>category</th>\n",
              "      <th>type</th>\n",
              "    </tr>\n",
              "  </thead>\n",
              "  <tbody>\n",
              "    <tr>\n",
              "      <th>1</th>\n",
              "      <td>5dada89b610ba040fbfdf591</td>\n",
              "      <td>Kid Bu</td>\n",
              "      <td>Drawings</td>\n",
              "      <td>artwork</td>\n",
              "    </tr>\n",
              "    <tr>\n",
              "      <th>2</th>\n",
              "      <td>5dbc622a99cbb90e4339c7f6</td>\n",
              "      <td>Best friend</td>\n",
              "      <td>Graphic Design|Visual Arts|Illustration|Graphic</td>\n",
              "      <td>artwork</td>\n",
              "    </tr>\n",
              "    <tr>\n",
              "      <th>3</th>\n",
              "      <td>5e45b5c9f5561b1994c8e32d</td>\n",
              "      <td>EDI (Electronic data interchange)</td>\n",
              "      <td>E Commerce|Other Online Platforms</td>\n",
              "      <td>blog</td>\n",
              "    </tr>\n",
              "    <tr>\n",
              "      <th>4</th>\n",
              "      <td>5e773c0bcfc8b713f5ac7ab7</td>\n",
              "      <td>Study of Nerves</td>\n",
              "      <td>Physiology|Neurology</td>\n",
              "      <td>blog</td>\n",
              "    </tr>\n",
              "    <tr>\n",
              "      <th>5</th>\n",
              "      <td>5e964006a3258347b42f2a65</td>\n",
              "      <td>Interesting Facts On India That You Had No Ide...</td>\n",
              "      <td>History|Indian History</td>\n",
              "      <td>blog</td>\n",
              "    </tr>\n",
              "  </tbody>\n",
              "</table>\n",
              "</div>"
            ],
            "text/plain": [
              "                    post_id  ...     type\n",
              "1  5dada89b610ba040fbfdf591  ...  artwork\n",
              "2  5dbc622a99cbb90e4339c7f6  ...  artwork\n",
              "3  5e45b5c9f5561b1994c8e32d  ...     blog\n",
              "4  5e773c0bcfc8b713f5ac7ab7  ...     blog\n",
              "5  5e964006a3258347b42f2a65  ...     blog\n",
              "\n",
              "[5 rows x 4 columns]"
            ]
          },
          "metadata": {},
          "execution_count": 80
        }
      ]
    },
    {
      "cell_type": "markdown",
      "metadata": {
        "id": "LzsP8qM4Ut24"
      },
      "source": [
        "5.2.3 Membandingkan daftar rekomendasi postingan dengan postingan yang sering dilihat pengguna untuk mengetahui apakah daftar rekomendasi yang diberikan relevan."
      ]
    },
    {
      "cell_type": "code",
      "metadata": {
        "colab": {
          "base_uri": "https://localhost:8080/",
          "height": 204
        },
        "id": "O_PfrW58Uv_z",
        "outputId": "0afdf807-c0ad-49f9-dac8-5935eec94031"
      },
      "source": [
        "collab_recommender.most_viewed()"
      ],
      "execution_count": null,
      "outputs": [
        {
          "output_type": "execute_result",
          "data": {
            "text/html": [
              "<div>\n",
              "<style scoped>\n",
              "    .dataframe tbody tr th:only-of-type {\n",
              "        vertical-align: middle;\n",
              "    }\n",
              "\n",
              "    .dataframe tbody tr th {\n",
              "        vertical-align: top;\n",
              "    }\n",
              "\n",
              "    .dataframe thead th {\n",
              "        text-align: right;\n",
              "    }\n",
              "</style>\n",
              "<table border=\"1\" class=\"dataframe\">\n",
              "  <thead>\n",
              "    <tr style=\"text-align: right;\">\n",
              "      <th></th>\n",
              "      <th>post_id</th>\n",
              "      <th>title</th>\n",
              "      <th>category</th>\n",
              "      <th>type</th>\n",
              "      <th>total_views</th>\n",
              "    </tr>\n",
              "  </thead>\n",
              "  <tbody>\n",
              "    <tr>\n",
              "      <th>1</th>\n",
              "      <td>5e830a6ca3258347b42f23f6</td>\n",
              "      <td>Dog❤️</td>\n",
              "      <td>Photography</td>\n",
              "      <td>artwork</td>\n",
              "      <td>3</td>\n",
              "    </tr>\n",
              "    <tr>\n",
              "      <th>2</th>\n",
              "      <td>5e8448aba3258347b42f2447</td>\n",
              "      <td>JUSTICE FOR NORTH EAST</td>\n",
              "      <td>Human Rights|Fundamental Rights</td>\n",
              "      <td>blog</td>\n",
              "      <td>2</td>\n",
              "    </tr>\n",
              "    <tr>\n",
              "      <th>3</th>\n",
              "      <td>5e7df283a3258347b42f2128</td>\n",
              "      <td>screw2</td>\n",
              "      <td>Photography</td>\n",
              "      <td>artwork</td>\n",
              "      <td>2</td>\n",
              "    </tr>\n",
              "    <tr>\n",
              "      <th>4</th>\n",
              "      <td>5e7b1e65cfc8b713f5ac7d90</td>\n",
              "      <td>Shiva Portrait</td>\n",
              "      <td>Drawings</td>\n",
              "      <td>artwork</td>\n",
              "      <td>2</td>\n",
              "    </tr>\n",
              "    <tr>\n",
              "      <th>5</th>\n",
              "      <td>5e8bfa8aa3258347b42f2611</td>\n",
              "      <td>Are We Alone In The Universe?</td>\n",
              "      <td>Archeology|Human Prehistory</td>\n",
              "      <td>blog</td>\n",
              "      <td>2</td>\n",
              "    </tr>\n",
              "  </tbody>\n",
              "</table>\n",
              "</div>"
            ],
            "text/plain": [
              "                    post_id  ... total_views\n",
              "1  5e830a6ca3258347b42f23f6  ...           3\n",
              "2  5e8448aba3258347b42f2447  ...           2\n",
              "3  5e7df283a3258347b42f2128  ...           2\n",
              "4  5e7b1e65cfc8b713f5ac7d90  ...           2\n",
              "5  5e8bfa8aa3258347b42f2611  ...           2\n",
              "\n",
              "[5 rows x 5 columns]"
            ]
          },
          "metadata": {},
          "execution_count": 81
        }
      ]
    },
    {
      "cell_type": "markdown",
      "metadata": {
        "id": "TxMn3lOxQRn6"
      },
      "source": [
        "**Penjelasan:**\n",
        "\n",
        "Daftar rekomendasi postingan pada pengguna dengan indeks pertama dibandingkan dengan postingan yang sering dilihatnya memiliki kesamaan yang relevan. Postingan yang sering dilihat pengguna adalah postingan berjenis karya seni dan blog, sedangkan postingan yang direkomendasikan juga postingan berjenis karya seni dan blog. Jadi, dapat diketahui bahwa model telah berhasil memberikan daftar rekomendasi postingan yang cukup relevan kepada pengguna tertentu berdasarkan histori tayangan postingan."
      ]
    },
    {
      "cell_type": "markdown",
      "metadata": {
        "id": "flg0B88hX6mQ"
      },
      "source": [
        "5.2.4 Menampilkan daftar rekomendasi postingan beserta daftar postingan yang sering dilihat pengguna dengan format yang berbeda, yaitu teks laporan."
      ]
    },
    {
      "cell_type": "code",
      "metadata": {
        "colab": {
          "base_uri": "https://localhost:8080/"
        },
        "id": "_Odtur3_X9f3",
        "outputId": "79b21324-fa52-4f14-ba78-d81391c9c634"
      },
      "source": [
        "collab_recommender.text()"
      ],
      "execution_count": null,
      "outputs": [
        {
          "output_type": "stream",
          "name": "stdout",
          "text": [
            "======================================================================\n",
            "SISTEM REKOMENDASI POSTINGAN BERDASARKAN PENGGUNA\n",
            "======================================================================\n",
            "Pengguna: Nivesh Singh Chauhan (5d60098a653a331687083238)\n",
            "----------------------------------------------------------------------\n",
            "Postingan yang Sering Dilihat Pengguna\n",
            "----------------------------------------------------------------------\n",
            "                 Judul             Kategori    Jenis  Jumlah Tayangan\n",
            "1                Dog❤️          Photography  artwork                3\n",
            "2  JUSTICE FOR NORT...  Human Rights|Fun...     blog                2\n",
            "3               screw2          Photography  artwork                2\n",
            "4       Shiva Portrait             Drawings  artwork                2\n",
            "5  Are We Alone In ...  Archeology|Human...     blog                2\n",
            "----------------------------------------------------------------------\n",
            "Daftar Rekomendasi Postingan untuk Pengguna\n",
            "----------------------------------------------------------------------\n",
            "                 Judul             Kategori    Jenis\n",
            "1               Kid Bu             Drawings  artwork\n",
            "2          Best friend  Graphic Design|V...  artwork\n",
            "3  EDI (Electronic ...  E Commerce|Other...     blog\n",
            "4      Study of Nerves  Physiology|Neuro...     blog\n",
            "5  Interesting Fact...  History|Indian H...     blog\n",
            "======================================================================\n"
          ]
        }
      ]
    },
    {
      "cell_type": "markdown",
      "metadata": {
        "id": "E_rw9fbI4sM8"
      },
      "source": [
        "## Penutup"
      ]
    },
    {
      "cell_type": "markdown",
      "metadata": {
        "id": "-63Nya90aOpd"
      },
      "source": [
        "Dari serangkaian proses yang cukup panjang, akhirnya sistem rekomendasi postingan telah selesai dibuat. Sistem rekomendasi dibuat dalam dua metode pendekatan yang berbeda, yaitu *content-based filtering* dan *collaborative filtering*. Metode *content-based filtering* digunakan untuk mendapatkan daftar rekomendasi postingan berdasarkan karakteristik (kategori dan jenis) suatu postingan. Sementara itu, *collaborative filtering* digunakan untuk mendapatkan daftar rekomendasi postingan berdasarkan histori tayangan pengguna.\n",
        "\n",
        "Kedua model memiliki kualitas yang cukup baik dalam memberikan daftar rekomendasi sehingga sudah siap untuk digunakan. Untuk mendukung model tersebut dapat bekerja lebih baik ke depannya, diharapkan ketiga data yang ada (postingan, pengguna, dan tayangan) bisa lebih berkembang sehingga memiliki informasi yang lebih banyak lagi dari saat ini. Dengan banyaknya informasi pada data, diharapkan model dapat memberikan daftar rekomendasi yang lebih relevan ke depannya."
      ]
    }
  ]
}